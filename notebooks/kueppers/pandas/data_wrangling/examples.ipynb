{
 "cells": [
  {
   "cell_type": "code",
   "execution_count": 1,
   "metadata": {},
   "outputs": [
    {
     "name": "stdout",
     "output_type": "stream",
     "text": [
      "Mitarbeiter-DataFrame für die Übungen:\n",
      "        Name Abteilung   Gehalt Eintrittsdatum  HomeOfficeTage\n",
      "M-101   Anna        IT  70000.0     2020-03-15               3\n",
      "M-102   Mark     Sales  62000.0     2019-07-01               2\n",
      "M-103  Julia        IT  75000.0     2021-11-01               4\n",
      "M-104    Tom        HR  50000.0     2022-01-10               1\n",
      "M-105  Laura     Sales  68000.0     2018-05-20               3\n",
      "M-106  Peter        IT      NaN     2020-03-15               3\n",
      "M-107  Sofia        HR  52000.0     2023-09-01               2\n"
     ]
    }
   ],
   "source": [
    "import pandas as pd\n",
    "import numpy as np\n",
    "\n",
    "# Daten für die Übungsaufgaben\n",
    "daten = {\n",
    "    'Name': ['Anna', 'Mark', 'Julia', 'Tom', 'Laura', 'Peter', 'Sofia'],\n",
    "    'Abteilung': ['IT', 'Sales', 'IT', 'HR', 'Sales', 'IT', 'HR'],\n",
    "    'Gehalt': [70000, 62000, 75000, 50000, 68000, np.nan, 52000],\n",
    "    'Eintrittsdatum': ['2020-03-15', '2019-07-01', '2021-11-01', '2022-01-10', '2018-05-20', '2020-03-15', '2023-09-01'],\n",
    "    'HomeOfficeTage': [3, 2, 4, 1, 3, 3, 2]\n",
    "}\n",
    "# Mitarbeiter-IDs als Index\n",
    "index_ids = ['M-101', 'M-102', 'M-103', 'M-104', 'M-105', 'M-106', 'M-107']\n",
    "\n",
    "df_mitarbeiter = pd.DataFrame(daten, index=index_ids)\n",
    "\n",
    "# Die Spalte 'Eintrittsdatum' in ein echtes Datumsformat umwandeln\n",
    "df_mitarbeiter['Eintrittsdatum'] = pd.to_datetime(df_mitarbeiter['Eintrittsdatum'])\n",
    "\n",
    "print(\"Mitarbeiter-DataFrame für die Übungen:\")\n",
    "print(df_mitarbeiter)"
   ]
  },
  {
   "cell_type": "markdown",
   "metadata": {},
   "source": [
    "## Teil 1: Daten Inspizieren (inspect_data.ipynb)\n",
    "**Aufgabe 3.1**: Erster und letzter Blick\n",
    "\n",
    "Zeige die ersten 4 Zeilen des df_mitarbeiter DataFrames an.\n",
    "Zeige die letzten 2 Zeilen des df_mitarbeiter DataFrames an.\n"
   ]
  },
  {
   "cell_type": "code",
   "execution_count": 3,
   "metadata": {},
   "outputs": [
    {
     "name": "stdout",
     "output_type": "stream",
     "text": [
      "        Name Abteilung   Gehalt Eintrittsdatum  HomeOfficeTage\n",
      "M-101   Anna        IT  70000.0     2020-03-15               3\n",
      "M-102   Mark     Sales  62000.0     2019-07-01               2\n",
      "M-103  Julia        IT  75000.0     2021-11-01               4\n",
      "M-104    Tom        HR  50000.0     2022-01-10               1\n",
      "        Name Abteilung   Gehalt Eintrittsdatum  HomeOfficeTage\n",
      "M-106  Peter        IT      NaN     2020-03-15               3\n",
      "M-107  Sofia        HR  52000.0     2023-09-01               2\n"
     ]
    }
   ],
   "source": [
    "print(df_mitarbeiter.head(4))\n",
    "print(df_mitarbeiter.tail(2))"
   ]
  },
  {
   "cell_type": "markdown",
   "metadata": {},
   "source": [
    "___\n",
    "Aufgabe 3.2: Technische Zusammenfassung\n",
    "\n",
    "Gib eine technische Übersicht über den DataFrame mit .info().\n",
    "Frage: In welcher Spalte gibt es einen fehlenden Wert?\n"
   ]
  },
  {
   "cell_type": "code",
   "execution_count": 4,
   "metadata": {},
   "outputs": [
    {
     "name": "stdout",
     "output_type": "stream",
     "text": [
      "<class 'pandas.core.frame.DataFrame'>\n",
      "Index: 7 entries, M-101 to M-107\n",
      "Data columns (total 5 columns):\n",
      " #   Column          Non-Null Count  Dtype         \n",
      "---  ------          --------------  -----         \n",
      " 0   Name            7 non-null      object        \n",
      " 1   Abteilung       7 non-null      object        \n",
      " 2   Gehalt          6 non-null      float64       \n",
      " 3   Eintrittsdatum  7 non-null      datetime64[ns]\n",
      " 4   HomeOfficeTage  7 non-null      int64         \n",
      "dtypes: datetime64[ns](1), float64(1), int64(1), object(2)\n",
      "memory usage: 636.0+ bytes\n"
     ]
    }
   ],
   "source": [
    "df_mitarbeiter.info()"
   ]
  },
  {
   "cell_type": "markdown",
   "metadata": {},
   "source": [
    "___\n",
    "Aufgabe 3.3: Statistische Zusammenfassung\n",
    "\n",
    "Erstelle eine statistische Zusammenfassung für die numerischen Spalten mit .describe().\n",
    "Frage: Was ist das maximale Gehalt im Datensatz?\n"
   ]
  },
  {
   "cell_type": "code",
   "execution_count": 5,
   "metadata": {},
   "outputs": [
    {
     "data": {
      "text/html": [
       "<div>\n",
       "<style scoped>\n",
       "    .dataframe tbody tr th:only-of-type {\n",
       "        vertical-align: middle;\n",
       "    }\n",
       "\n",
       "    .dataframe tbody tr th {\n",
       "        vertical-align: top;\n",
       "    }\n",
       "\n",
       "    .dataframe thead th {\n",
       "        text-align: right;\n",
       "    }\n",
       "</style>\n",
       "<table border=\"1\" class=\"dataframe\">\n",
       "  <thead>\n",
       "    <tr style=\"text-align: right;\">\n",
       "      <th></th>\n",
       "      <th>Gehalt</th>\n",
       "      <th>Eintrittsdatum</th>\n",
       "      <th>HomeOfficeTage</th>\n",
       "    </tr>\n",
       "  </thead>\n",
       "  <tbody>\n",
       "    <tr>\n",
       "      <th>count</th>\n",
       "      <td>6.000000</td>\n",
       "      <td>7</td>\n",
       "      <td>7.000000</td>\n",
       "    </tr>\n",
       "    <tr>\n",
       "      <th>mean</th>\n",
       "      <td>62833.333333</td>\n",
       "      <td>2020-10-30 03:25:42.857142784</td>\n",
       "      <td>2.571429</td>\n",
       "    </tr>\n",
       "    <tr>\n",
       "      <th>min</th>\n",
       "      <td>50000.000000</td>\n",
       "      <td>2018-05-20 00:00:00</td>\n",
       "      <td>1.000000</td>\n",
       "    </tr>\n",
       "    <tr>\n",
       "      <th>25%</th>\n",
       "      <td>54500.000000</td>\n",
       "      <td>2019-11-07 00:00:00</td>\n",
       "      <td>2.000000</td>\n",
       "    </tr>\n",
       "    <tr>\n",
       "      <th>50%</th>\n",
       "      <td>65000.000000</td>\n",
       "      <td>2020-03-15 00:00:00</td>\n",
       "      <td>3.000000</td>\n",
       "    </tr>\n",
       "    <tr>\n",
       "      <th>75%</th>\n",
       "      <td>69500.000000</td>\n",
       "      <td>2021-12-06 00:00:00</td>\n",
       "      <td>3.000000</td>\n",
       "    </tr>\n",
       "    <tr>\n",
       "      <th>max</th>\n",
       "      <td>75000.000000</td>\n",
       "      <td>2023-09-01 00:00:00</td>\n",
       "      <td>4.000000</td>\n",
       "    </tr>\n",
       "    <tr>\n",
       "      <th>std</th>\n",
       "      <td>10087.946603</td>\n",
       "      <td>NaN</td>\n",
       "      <td>0.975900</td>\n",
       "    </tr>\n",
       "  </tbody>\n",
       "</table>\n",
       "</div>"
      ],
      "text/plain": [
       "             Gehalt                 Eintrittsdatum  HomeOfficeTage\n",
       "count      6.000000                              7        7.000000\n",
       "mean   62833.333333  2020-10-30 03:25:42.857142784        2.571429\n",
       "min    50000.000000            2018-05-20 00:00:00        1.000000\n",
       "25%    54500.000000            2019-11-07 00:00:00        2.000000\n",
       "50%    65000.000000            2020-03-15 00:00:00        3.000000\n",
       "75%    69500.000000            2021-12-06 00:00:00        3.000000\n",
       "max    75000.000000            2023-09-01 00:00:00        4.000000\n",
       "std    10087.946603                            NaN        0.975900"
      ]
     },
     "execution_count": 5,
     "metadata": {},
     "output_type": "execute_result"
    }
   ],
   "source": [
    "df_mitarbeiter.describe()"
   ]
  },
  {
   "cell_type": "markdown",
   "metadata": {},
   "source": [
    "___\n",
    "Aufgabe 3.4: Form und Spalten\n",
    "\n",
    "Ermittle die Dimensionen (Anzahl Zeilen und Spalten) des DataFrames.\n",
    "Lass dir eine Liste aller Spaltennamen ausgeben.\n"
   ]
  },
  {
   "cell_type": "code",
   "execution_count": 9,
   "metadata": {},
   "outputs": [
    {
     "name": "stdout",
     "output_type": "stream",
     "text": [
      "(7, 5)\n",
      "Index(['Name', 'Abteilung', 'Gehalt', 'Eintrittsdatum', 'HomeOfficeTage'], dtype='object')\n"
     ]
    }
   ],
   "source": [
    "print(df_mitarbeiter.shape)\n",
    "\n",
    "print(df_mitarbeiter.columns)"
   ]
  },
  {
   "cell_type": "markdown",
   "metadata": {},
   "source": [
    "___\n",
    "## Teil 2: Daten Auswählen (select_data.ipynb)\n",
    "\n",
    "Aufgabe 3.5: Spalten auswählen\n",
    "Wähle die Spalten Name und Gehalt aus und zeige das Ergebnis an.\n"
   ]
  },
  {
   "cell_type": "code",
   "execution_count": 10,
   "metadata": {},
   "outputs": [
    {
     "data": {
      "text/html": [
       "<div>\n",
       "<style scoped>\n",
       "    .dataframe tbody tr th:only-of-type {\n",
       "        vertical-align: middle;\n",
       "    }\n",
       "\n",
       "    .dataframe tbody tr th {\n",
       "        vertical-align: top;\n",
       "    }\n",
       "\n",
       "    .dataframe thead th {\n",
       "        text-align: right;\n",
       "    }\n",
       "</style>\n",
       "<table border=\"1\" class=\"dataframe\">\n",
       "  <thead>\n",
       "    <tr style=\"text-align: right;\">\n",
       "      <th></th>\n",
       "      <th>Name</th>\n",
       "      <th>Gehalt</th>\n",
       "    </tr>\n",
       "  </thead>\n",
       "  <tbody>\n",
       "    <tr>\n",
       "      <th>M-101</th>\n",
       "      <td>Anna</td>\n",
       "      <td>70000.0</td>\n",
       "    </tr>\n",
       "    <tr>\n",
       "      <th>M-102</th>\n",
       "      <td>Mark</td>\n",
       "      <td>62000.0</td>\n",
       "    </tr>\n",
       "    <tr>\n",
       "      <th>M-103</th>\n",
       "      <td>Julia</td>\n",
       "      <td>75000.0</td>\n",
       "    </tr>\n",
       "    <tr>\n",
       "      <th>M-104</th>\n",
       "      <td>Tom</td>\n",
       "      <td>50000.0</td>\n",
       "    </tr>\n",
       "    <tr>\n",
       "      <th>M-105</th>\n",
       "      <td>Laura</td>\n",
       "      <td>68000.0</td>\n",
       "    </tr>\n",
       "    <tr>\n",
       "      <th>M-106</th>\n",
       "      <td>Peter</td>\n",
       "      <td>NaN</td>\n",
       "    </tr>\n",
       "    <tr>\n",
       "      <th>M-107</th>\n",
       "      <td>Sofia</td>\n",
       "      <td>52000.0</td>\n",
       "    </tr>\n",
       "  </tbody>\n",
       "</table>\n",
       "</div>"
      ],
      "text/plain": [
       "        Name   Gehalt\n",
       "M-101   Anna  70000.0\n",
       "M-102   Mark  62000.0\n",
       "M-103  Julia  75000.0\n",
       "M-104    Tom  50000.0\n",
       "M-105  Laura  68000.0\n",
       "M-106  Peter      NaN\n",
       "M-107  Sofia  52000.0"
      ]
     },
     "execution_count": 10,
     "metadata": {},
     "output_type": "execute_result"
    }
   ],
   "source": [
    "df_mitarbeiter_neu = df_mitarbeiter[['Name', 'Gehalt']]\n",
    "df_mitarbeiter_neu"
   ]
  },
  {
   "cell_type": "markdown",
   "metadata": {},
   "source": [
    "\n",
    "___\n",
    "Aufgabe 3.6: Zeile über Index-Label auswählen\n",
    "Wähle alle Informationen zum Mitarbeiter mit der ID 'M-103' (Julia) mithilfe des .loc-Accessors aus.\n"
   ]
  },
  {
   "cell_type": "code",
   "execution_count": 15,
   "metadata": {},
   "outputs": [
    {
     "data": {
      "text/plain": [
       "Name                            Julia\n",
       "Abteilung                          IT\n",
       "Gehalt                        75000.0\n",
       "Eintrittsdatum    2021-11-01 00:00:00\n",
       "HomeOfficeTage                      4\n",
       "Name: M-103, dtype: object"
      ]
     },
     "execution_count": 15,
     "metadata": {},
     "output_type": "execute_result"
    }
   ],
   "source": [
    "df_mitarbeiter.loc['M-103']"
   ]
  },
  {
   "cell_type": "markdown",
   "metadata": {},
   "source": [
    "\n",
    "___\n",
    "Aufgabe 3.7: Einen einzelnen Wert auswählen\n",
    "Greife mit .loc gezielt auf das Eintrittsdatum von Mitarbeiter 'M-105' (Laura) zu.\n"
   ]
  },
  {
   "cell_type": "code",
   "execution_count": 21,
   "metadata": {},
   "outputs": [
    {
     "data": {
      "text/plain": [
       "Timestamp('2021-11-01 00:00:00')"
      ]
     },
     "execution_count": 21,
     "metadata": {},
     "output_type": "execute_result"
    }
   ],
   "source": [
    "df_mitarbeiter.loc['M-103']['Eintrittsdatum']"
   ]
  },
  {
   "cell_type": "markdown",
   "metadata": {},
   "source": [
    "\n",
    "___\n",
    "Aufgabe 3.8: Zeile über Position auswählen\n",
    "Wähle die dritte Zeile (den dritten Mitarbeiter) des DataFrames aus, diesmal aber über die numerische Position mit dem .iloc-Accessor.\n"
   ]
  },
  {
   "cell_type": "code",
   "execution_count": 25,
   "metadata": {},
   "outputs": [
    {
     "data": {
      "text/plain": [
       "Name                            Julia\n",
       "Abteilung                          IT\n",
       "Gehalt                        75000.0\n",
       "Eintrittsdatum    2021-11-01 00:00:00\n",
       "HomeOfficeTage                      4\n",
       "Name: M-103, dtype: object"
      ]
     },
     "execution_count": 25,
     "metadata": {},
     "output_type": "execute_result"
    }
   ],
   "source": [
    "df_mitarbeiter.iloc[2]"
   ]
  },
  {
   "cell_type": "markdown",
   "metadata": {},
   "source": [
    "\n",
    "___\n",
    "Aufgabe 3.9: Einen \"Slice\" auswählen\n",
    "Wähle die letzten drei Zeilen und nur die ersten beiden Spalten (Name, Abteilung) mithilfe von .iloc aus.\n"
   ]
  },
  {
   "cell_type": "code",
   "execution_count": 31,
   "metadata": {},
   "outputs": [
    {
     "data": {
      "text/html": [
       "<div>\n",
       "<style scoped>\n",
       "    .dataframe tbody tr th:only-of-type {\n",
       "        vertical-align: middle;\n",
       "    }\n",
       "\n",
       "    .dataframe tbody tr th {\n",
       "        vertical-align: top;\n",
       "    }\n",
       "\n",
       "    .dataframe thead th {\n",
       "        text-align: right;\n",
       "    }\n",
       "</style>\n",
       "<table border=\"1\" class=\"dataframe\">\n",
       "  <thead>\n",
       "    <tr style=\"text-align: right;\">\n",
       "      <th></th>\n",
       "      <th>Name</th>\n",
       "      <th>Abteilung</th>\n",
       "    </tr>\n",
       "  </thead>\n",
       "  <tbody>\n",
       "    <tr>\n",
       "      <th>M-105</th>\n",
       "      <td>Laura</td>\n",
       "      <td>Sales</td>\n",
       "    </tr>\n",
       "    <tr>\n",
       "      <th>M-106</th>\n",
       "      <td>Peter</td>\n",
       "      <td>IT</td>\n",
       "    </tr>\n",
       "    <tr>\n",
       "      <th>M-107</th>\n",
       "      <td>Sofia</td>\n",
       "      <td>HR</td>\n",
       "    </tr>\n",
       "  </tbody>\n",
       "</table>\n",
       "</div>"
      ],
      "text/plain": [
       "        Name Abteilung\n",
       "M-105  Laura     Sales\n",
       "M-106  Peter        IT\n",
       "M-107  Sofia        HR"
      ]
     },
     "execution_count": 31,
     "metadata": {},
     "output_type": "execute_result"
    }
   ],
   "source": [
    "df_mitarbeiter.iloc[-3:][['Name', 'Abteilung']]"
   ]
  },
  {
   "cell_type": "markdown",
   "metadata": {},
   "source": [
    "\n",
    "## Teil 3: Konditionale Auswahl (conditional_selection.ipynb)\n",
    "\n",
    "Aufgabe 3.10: Einfacher Filter\n",
    "Erstelle einen neuen DataFrame df_sales, der nur die Mitarbeiter aus der Abteilung 'Sales' enthält.\n"
   ]
  },
  {
   "cell_type": "code",
   "execution_count": 36,
   "metadata": {},
   "outputs": [
    {
     "data": {
      "text/html": [
       "<div>\n",
       "<style scoped>\n",
       "    .dataframe tbody tr th:only-of-type {\n",
       "        vertical-align: middle;\n",
       "    }\n",
       "\n",
       "    .dataframe tbody tr th {\n",
       "        vertical-align: top;\n",
       "    }\n",
       "\n",
       "    .dataframe thead th {\n",
       "        text-align: right;\n",
       "    }\n",
       "</style>\n",
       "<table border=\"1\" class=\"dataframe\">\n",
       "  <thead>\n",
       "    <tr style=\"text-align: right;\">\n",
       "      <th></th>\n",
       "      <th>Name</th>\n",
       "      <th>Abteilung</th>\n",
       "      <th>Gehalt</th>\n",
       "      <th>Eintrittsdatum</th>\n",
       "      <th>HomeOfficeTage</th>\n",
       "    </tr>\n",
       "  </thead>\n",
       "  <tbody>\n",
       "    <tr>\n",
       "      <th>M-102</th>\n",
       "      <td>Mark</td>\n",
       "      <td>Sales</td>\n",
       "      <td>62000.0</td>\n",
       "      <td>2019-07-01</td>\n",
       "      <td>2</td>\n",
       "    </tr>\n",
       "    <tr>\n",
       "      <th>M-105</th>\n",
       "      <td>Laura</td>\n",
       "      <td>Sales</td>\n",
       "      <td>68000.0</td>\n",
       "      <td>2018-05-20</td>\n",
       "      <td>3</td>\n",
       "    </tr>\n",
       "  </tbody>\n",
       "</table>\n",
       "</div>"
      ],
      "text/plain": [
       "        Name Abteilung   Gehalt Eintrittsdatum  HomeOfficeTage\n",
       "M-102   Mark     Sales  62000.0     2019-07-01               2\n",
       "M-105  Laura     Sales  68000.0     2018-05-20               3"
      ]
     },
     "execution_count": 36,
     "metadata": {},
     "output_type": "execute_result"
    }
   ],
   "source": [
    "df_mitarbeiter[df_mitarbeiter['Abteilung'] == 'Sales']"
   ]
  },
  {
   "cell_type": "markdown",
   "metadata": {},
   "source": [
    "\n",
    "___\n",
    "Aufgabe 3.11: UND-Verknüpfung\n",
    "Filtere den DataFrame so, dass er nur Mitarbeiter aus der 'IT'-Abteilung anzeigt, deren Gehalt größer als 72000 ist.\n"
   ]
  },
  {
   "cell_type": "code",
   "execution_count": 41,
   "metadata": {},
   "outputs": [
    {
     "data": {
      "text/html": [
       "<div>\n",
       "<style scoped>\n",
       "    .dataframe tbody tr th:only-of-type {\n",
       "        vertical-align: middle;\n",
       "    }\n",
       "\n",
       "    .dataframe tbody tr th {\n",
       "        vertical-align: top;\n",
       "    }\n",
       "\n",
       "    .dataframe thead th {\n",
       "        text-align: right;\n",
       "    }\n",
       "</style>\n",
       "<table border=\"1\" class=\"dataframe\">\n",
       "  <thead>\n",
       "    <tr style=\"text-align: right;\">\n",
       "      <th></th>\n",
       "      <th>Name</th>\n",
       "      <th>Abteilung</th>\n",
       "      <th>Gehalt</th>\n",
       "      <th>Eintrittsdatum</th>\n",
       "      <th>HomeOfficeTage</th>\n",
       "    </tr>\n",
       "  </thead>\n",
       "  <tbody>\n",
       "    <tr>\n",
       "      <th>M-103</th>\n",
       "      <td>Julia</td>\n",
       "      <td>IT</td>\n",
       "      <td>75000.0</td>\n",
       "      <td>2021-11-01</td>\n",
       "      <td>4</td>\n",
       "    </tr>\n",
       "  </tbody>\n",
       "</table>\n",
       "</div>"
      ],
      "text/plain": [
       "        Name Abteilung   Gehalt Eintrittsdatum  HomeOfficeTage\n",
       "M-103  Julia        IT  75000.0     2021-11-01               4"
      ]
     },
     "execution_count": 41,
     "metadata": {},
     "output_type": "execute_result"
    }
   ],
   "source": [
    "df_mitarbeiter[(df_mitarbeiter['Abteilung'] == 'IT') & (df_mitarbeiter['Gehalt'] > 72000)]"
   ]
  },
  {
   "cell_type": "markdown",
   "metadata": {},
   "source": [
    "\n",
    "___\n",
    "Aufgabe 3.12: ODER-Verknüpfung\n",
    "Erstelle einen neuen DataFrame, der alle Mitarbeiter enthält, die entweder in der 'HR'-Abteilung sind oder genau 3 HomeOfficeTage haben.\n",
    "\n"
   ]
  },
  {
   "cell_type": "code",
   "execution_count": 42,
   "metadata": {},
   "outputs": [
    {
     "data": {
      "text/html": [
       "<div>\n",
       "<style scoped>\n",
       "    .dataframe tbody tr th:only-of-type {\n",
       "        vertical-align: middle;\n",
       "    }\n",
       "\n",
       "    .dataframe tbody tr th {\n",
       "        vertical-align: top;\n",
       "    }\n",
       "\n",
       "    .dataframe thead th {\n",
       "        text-align: right;\n",
       "    }\n",
       "</style>\n",
       "<table border=\"1\" class=\"dataframe\">\n",
       "  <thead>\n",
       "    <tr style=\"text-align: right;\">\n",
       "      <th></th>\n",
       "      <th>Name</th>\n",
       "      <th>Abteilung</th>\n",
       "      <th>Gehalt</th>\n",
       "      <th>Eintrittsdatum</th>\n",
       "      <th>HomeOfficeTage</th>\n",
       "    </tr>\n",
       "  </thead>\n",
       "  <tbody>\n",
       "    <tr>\n",
       "      <th>M-101</th>\n",
       "      <td>Anna</td>\n",
       "      <td>IT</td>\n",
       "      <td>70000.0</td>\n",
       "      <td>2020-03-15</td>\n",
       "      <td>3</td>\n",
       "    </tr>\n",
       "    <tr>\n",
       "      <th>M-104</th>\n",
       "      <td>Tom</td>\n",
       "      <td>HR</td>\n",
       "      <td>50000.0</td>\n",
       "      <td>2022-01-10</td>\n",
       "      <td>1</td>\n",
       "    </tr>\n",
       "    <tr>\n",
       "      <th>M-105</th>\n",
       "      <td>Laura</td>\n",
       "      <td>Sales</td>\n",
       "      <td>68000.0</td>\n",
       "      <td>2018-05-20</td>\n",
       "      <td>3</td>\n",
       "    </tr>\n",
       "    <tr>\n",
       "      <th>M-106</th>\n",
       "      <td>Peter</td>\n",
       "      <td>IT</td>\n",
       "      <td>NaN</td>\n",
       "      <td>2020-03-15</td>\n",
       "      <td>3</td>\n",
       "    </tr>\n",
       "    <tr>\n",
       "      <th>M-107</th>\n",
       "      <td>Sofia</td>\n",
       "      <td>HR</td>\n",
       "      <td>52000.0</td>\n",
       "      <td>2023-09-01</td>\n",
       "      <td>2</td>\n",
       "    </tr>\n",
       "  </tbody>\n",
       "</table>\n",
       "</div>"
      ],
      "text/plain": [
       "        Name Abteilung   Gehalt Eintrittsdatum  HomeOfficeTage\n",
       "M-101   Anna        IT  70000.0     2020-03-15               3\n",
       "M-104    Tom        HR  50000.0     2022-01-10               1\n",
       "M-105  Laura     Sales  68000.0     2018-05-20               3\n",
       "M-106  Peter        IT      NaN     2020-03-15               3\n",
       "M-107  Sofia        HR  52000.0     2023-09-01               2"
      ]
     },
     "execution_count": 42,
     "metadata": {},
     "output_type": "execute_result"
    }
   ],
   "source": [
    "df_mitarbeiter[(df_mitarbeiter['Abteilung'] == 'HR') | (df_mitarbeiter['HomeOfficeTage'] == 3)]"
   ]
  },
  {
   "cell_type": "markdown",
   "metadata": {},
   "source": [
    "___\n",
    "Aufgabe 3.13: Filtern mit .isin()\n",
    "Wähle alle Mitarbeiter aus, deren Abteilung entweder 'Sales' oder 'HR' ist. Verwende dafür die .isin()-Methode."
   ]
  },
  {
   "cell_type": "code",
   "execution_count": 46,
   "metadata": {},
   "outputs": [
    {
     "data": {
      "text/html": [
       "<div>\n",
       "<style scoped>\n",
       "    .dataframe tbody tr th:only-of-type {\n",
       "        vertical-align: middle;\n",
       "    }\n",
       "\n",
       "    .dataframe tbody tr th {\n",
       "        vertical-align: top;\n",
       "    }\n",
       "\n",
       "    .dataframe thead th {\n",
       "        text-align: right;\n",
       "    }\n",
       "</style>\n",
       "<table border=\"1\" class=\"dataframe\">\n",
       "  <thead>\n",
       "    <tr style=\"text-align: right;\">\n",
       "      <th></th>\n",
       "      <th>Name</th>\n",
       "      <th>Abteilung</th>\n",
       "      <th>Gehalt</th>\n",
       "      <th>Eintrittsdatum</th>\n",
       "      <th>HomeOfficeTage</th>\n",
       "    </tr>\n",
       "  </thead>\n",
       "  <tbody>\n",
       "    <tr>\n",
       "      <th>M-102</th>\n",
       "      <td>Mark</td>\n",
       "      <td>Sales</td>\n",
       "      <td>62000.0</td>\n",
       "      <td>2019-07-01</td>\n",
       "      <td>2</td>\n",
       "    </tr>\n",
       "    <tr>\n",
       "      <th>M-104</th>\n",
       "      <td>Tom</td>\n",
       "      <td>HR</td>\n",
       "      <td>50000.0</td>\n",
       "      <td>2022-01-10</td>\n",
       "      <td>1</td>\n",
       "    </tr>\n",
       "    <tr>\n",
       "      <th>M-105</th>\n",
       "      <td>Laura</td>\n",
       "      <td>Sales</td>\n",
       "      <td>68000.0</td>\n",
       "      <td>2018-05-20</td>\n",
       "      <td>3</td>\n",
       "    </tr>\n",
       "    <tr>\n",
       "      <th>M-107</th>\n",
       "      <td>Sofia</td>\n",
       "      <td>HR</td>\n",
       "      <td>52000.0</td>\n",
       "      <td>2023-09-01</td>\n",
       "      <td>2</td>\n",
       "    </tr>\n",
       "  </tbody>\n",
       "</table>\n",
       "</div>"
      ],
      "text/plain": [
       "        Name Abteilung   Gehalt Eintrittsdatum  HomeOfficeTage\n",
       "M-102   Mark     Sales  62000.0     2019-07-01               2\n",
       "M-104    Tom        HR  50000.0     2022-01-10               1\n",
       "M-105  Laura     Sales  68000.0     2018-05-20               3\n",
       "M-107  Sofia        HR  52000.0     2023-09-01               2"
      ]
     },
     "execution_count": 46,
     "metadata": {},
     "output_type": "execute_result"
    }
   ],
   "source": [
    "abt = ['Sales', 'HR']\n",
    "\n",
    "df_mitarbeiter[df_mitarbeiter['Abteilung'].isin(abt)]"
   ]
  }
 ],
 "metadata": {
  "kernelspec": {
   "display_name": "dabi2-test",
   "language": "python",
   "name": "dabi2-test"
  },
  "language_info": {
   "codemirror_mode": {
    "name": "ipython",
    "version": 3
   },
   "file_extension": ".py",
   "mimetype": "text/x-python",
   "name": "python",
   "nbconvert_exporter": "python",
   "pygments_lexer": "ipython3",
   "version": "3.12.9"
  }
 },
 "nbformat": 4,
 "nbformat_minor": 2
}
