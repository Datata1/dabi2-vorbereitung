{
 "cells": [
  {
   "cell_type": "code",
   "execution_count": 1,
   "metadata": {},
   "outputs": [
    {
     "name": "stdout",
     "output_type": "stream",
     "text": [
      "Umfangreicherer Beispiel-DataFrame:\n",
      "        Name   Studiengang  Semester  Note\n",
      "12345   Anna    Informatik         4   1.7\n",
      "67890   Mark           BWL         6   2.3\n",
      "13579  Julia  Maschinenbau         2   1.0\n",
      "24680    Tom    Informatik         4   2.7\n",
      "55555  Laura           BWL         8   NaN\n",
      "77777  Peter    Informatik         2   2.0\n",
      "99999  Sofia       Medizin        10   1.3\n"
     ]
    }
   ],
   "source": [
    "import pandas as pd\n",
    "import numpy as np # numpy wird oft für numerische Operationen gebraucht, hier für NaN\n",
    "\n",
    "# Daten für Studierende\n",
    "daten = {\n",
    "    'Name': ['Anna', 'Mark', 'Julia', 'Tom', 'Laura', 'Peter', 'Sofia'],\n",
    "    'Studiengang': ['Informatik', 'BWL', 'Maschinenbau', 'Informatik', 'BWL', 'Informatik', 'Medizin'],\n",
    "    'Semester': [4, 6, 2, 4, 8, 2, 10],\n",
    "    'Note': [1.7, 2.3, 1.0, 2.7, np.nan, 2.0, 1.3] # np.nan repräsentiert einen fehlenden Wert\n",
    "}\n",
    "\n",
    "# Index mit Matrikelnummern erstellen\n",
    "matrikelnummern = [12345, 67890, 13579, 24680, 55555, 77777, 99999]\n",
    "df = pd.DataFrame(daten, index=matrikelnummern)\n",
    "\n",
    "print(\"Umfangreicherer Beispiel-DataFrame:\")\n",
    "print(df)"
   ]
  },
  {
   "cell_type": "code",
   "execution_count": 3,
   "metadata": {},
   "outputs": [
    {
     "name": "stdout",
     "output_type": "stream",
     "text": [
      "--- Einzelne Spalte 'Name' (Typ: Series) ---\n",
      "12345     Anna\n",
      "67890     Mark\n",
      "13579    Julia\n",
      "24680      Tom\n",
      "55555    Laura\n",
      "77777    Peter\n",
      "99999    Sofia\n",
      "Name: Name, dtype: object\n",
      "<class 'pandas.core.series.Series'>\n",
      "\n",
      "--- Mehrere Spalten 'Studiengang' und 'Note' (Typ: DataFrame) ---\n",
      "        Studiengang  Note\n",
      "12345    Informatik   1.7\n",
      "67890           BWL   2.3\n",
      "13579  Maschinenbau   1.0\n",
      "24680    Informatik   2.7\n",
      "55555           BWL   NaN\n",
      "77777    Informatik   2.0\n",
      "99999       Medizin   1.3\n"
     ]
    }
   ],
   "source": [
    "# Eine einzelne Spalte auswählen (Ergebnis ist eine Series)\n",
    "namen = df['Name']\n",
    "print(\"--- Einzelne Spalte 'Name' (Typ: Series) ---\")\n",
    "print(namen)\n",
    "print(type(namen))\n",
    "\n",
    "\n",
    "# Mehrere Spalten auswählen (Ergebnis ist ein DataFrame)\n",
    "# Wichtig: doppelte eckige Klammern!\n",
    "studiengang_und_note = df[['Studiengang', 'Note']]\n",
    "print(\"\\n--- Mehrere Spalten 'Studiengang' und 'Note' (Typ: DataFrame) ---\")\n",
    "print(studiengang_und_note)"
   ]
  },
  {
   "cell_type": "markdown",
   "metadata": {},
   "source": [
    "___\n",
    "\n",
    "### 3. Zeilen auswählen mit .loc und .iloc\n",
    "Das ist eine der wichtigsten Unterscheidungen in Pandas:\n",
    "\n",
    "- .loc: Wählt Daten anhand des Labels (z.B. der Matrikelnummer) aus.\n",
    "- .iloc: Wählt Daten anhand der numerischen Position (Integer-Index, beginnend bei 0) aus."
   ]
  },
  {
   "cell_type": "code",
   "execution_count": 4,
   "metadata": {},
   "outputs": [
    {
     "name": "stdout",
     "output_type": "stream",
     "text": [
      "--- Daten für Matrikelnummer 67890 (loc) ---\n",
      "Name           Mark\n",
      "Studiengang     BWL\n",
      "Semester          6\n",
      "Note            2.3\n",
      "Name: 67890, dtype: object\n",
      "\n",
      "--- Daten für Matrikelnummern 12345 und 55555 (loc) ---\n",
      "        Name Studiengang  Semester  Note\n",
      "12345   Anna  Informatik         4   1.7\n",
      "55555  Laura         BWL         8   NaN\n",
      "\n",
      "--- Julias Note (loc): 1.0 ---\n"
     ]
    }
   ],
   "source": [
    "# .loc\n",
    "# Einzelne Zeile anhand des Index-Labels auswählen\n",
    "student_mark = df.loc[67890]\n",
    "print(\"--- Daten für Matrikelnummer 67890 (loc) ---\")\n",
    "print(student_mark)\n",
    "\n",
    "\n",
    "# Mehrere Zeilen anhand von Labels auswählen\n",
    "print(\"\\n--- Daten für Matrikelnummern 12345 und 55555 (loc) ---\")\n",
    "print(df.loc[[12345, 55555]])\n",
    "\n",
    "\n",
    "# Einen bestimmten Wert auswählen: Zeilenlabel und Spaltenlabel\n",
    "note_julia = df.loc[13579, 'Note']\n",
    "print(f\"\\n--- Julias Note (loc): {note_julia} ---\")"
   ]
  },
  {
   "cell_type": "code",
   "execution_count": 5,
   "metadata": {},
   "outputs": [
    {
     "name": "stdout",
     "output_type": "stream",
     "text": [
      "--- Daten der 3. Zeile (Position 2) (iloc) ---\n",
      "Name                  Julia\n",
      "Studiengang    Maschinenbau\n",
      "Semester                  2\n",
      "Note                    1.0\n",
      "Name: 13579, dtype: object\n",
      "\n",
      "--- Die ersten drei Zeilen (iloc) ---\n",
      "        Name   Studiengang  Semester  Note\n",
      "12345   Anna    Informatik         4   1.7\n",
      "67890   Mark           BWL         6   2.3\n",
      "13579  Julia  Maschinenbau         2   1.0\n",
      "\n",
      "--- Peters Note (iloc): 2.0 ---\n"
     ]
    }
   ],
   "source": [
    "# Einzelne Zeile an der Position 2 (die dritte Zeile) auswählen\n",
    "student_pos_2 = df.iloc[2]\n",
    "print(\"--- Daten der 3. Zeile (Position 2) (iloc) ---\")\n",
    "print(student_pos_2) # Entspricht Julia\n",
    "\n",
    "\n",
    "# Die ersten drei Zeilen auswählen (Slicing)\n",
    "print(\"\\n--- Die ersten drei Zeilen (iloc) ---\")\n",
    "print(df.iloc[0:3]) # Position 0, 1, 2 (die 3 ist exklusiv)\n",
    "\n",
    "\n",
    "# Einen bestimmten Wert auswählen: Zeilenposition und Spaltenposition\n",
    "note_peter = df.iloc[5, 3] # 6. Zeile (Pos 5), 4. Spalte (Pos 3)\n",
    "print(f\"\\n--- Peters Note (iloc): {note_peter} ---\")"
   ]
  }
 ],
 "metadata": {
  "kernelspec": {
   "display_name": "dabi2-test",
   "language": "python",
   "name": "dabi2-test"
  },
  "language_info": {
   "codemirror_mode": {
    "name": "ipython",
    "version": 3
   },
   "file_extension": ".py",
   "mimetype": "text/x-python",
   "name": "python",
   "nbconvert_exporter": "python",
   "pygments_lexer": "ipython3",
   "version": "3.12.9"
  }
 },
 "nbformat": 4,
 "nbformat_minor": 2
}
