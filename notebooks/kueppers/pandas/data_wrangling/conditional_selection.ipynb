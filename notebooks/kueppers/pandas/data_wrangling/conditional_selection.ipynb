{
 "cells": [
  {
   "cell_type": "code",
   "execution_count": 1,
   "metadata": {},
   "outputs": [
    {
     "name": "stdout",
     "output_type": "stream",
     "text": [
      "Umfangreicherer Beispiel-DataFrame:\n",
      "        Name   Studiengang  Semester  Note\n",
      "12345   Anna    Informatik         4   1.7\n",
      "67890   Mark           BWL         6   2.3\n",
      "13579  Julia  Maschinenbau         2   1.0\n",
      "24680    Tom    Informatik         4   2.7\n",
      "55555  Laura           BWL         8   NaN\n",
      "77777  Peter    Informatik         2   2.0\n",
      "99999  Sofia       Medizin        10   1.3\n"
     ]
    }
   ],
   "source": [
    "import pandas as pd\n",
    "import numpy as np # numpy wird oft für numerische Operationen gebraucht, hier für NaN\n",
    "\n",
    "# Daten für Studierende\n",
    "daten = {\n",
    "    'Name': ['Anna', 'Mark', 'Julia', 'Tom', 'Laura', 'Peter', 'Sofia'],\n",
    "    'Studiengang': ['Informatik', 'BWL', 'Maschinenbau', 'Informatik', 'BWL', 'Informatik', 'Medizin'],\n",
    "    'Semester': [4, 6, 2, 4, 8, 2, 10],\n",
    "    'Note': [1.7, 2.3, 1.0, 2.7, np.nan, 2.0, 1.3] # np.nan repräsentiert einen fehlenden Wert\n",
    "}\n",
    "\n",
    "# Index mit Matrikelnummern erstellen\n",
    "matrikelnummern = [12345, 67890, 13579, 24680, 55555, 77777, 99999]\n",
    "df = pd.DataFrame(daten, index=matrikelnummern)\n",
    "\n",
    "print(\"Umfangreicherer Beispiel-DataFrame:\")\n",
    "print(df)"
   ]
  },
  {
   "cell_type": "code",
   "execution_count": 2,
   "metadata": {},
   "outputs": [
    {
     "name": "stdout",
     "output_type": "stream",
     "text": [
      "--- Bedingung: Studiengang == 'Informatik' ---\n",
      "12345     True\n",
      "67890    False\n",
      "13579    False\n",
      "24680     True\n",
      "55555    False\n",
      "77777     True\n",
      "99999    False\n",
      "Name: Studiengang, dtype: bool\n",
      "\n",
      "--- Gefilterter DataFrame (nur Informatiker) ---\n",
      "        Name Studiengang  Semester  Note\n",
      "12345   Anna  Informatik         4   1.7\n",
      "24680    Tom  Informatik         4   2.7\n",
      "77777  Peter  Informatik         2   2.0\n"
     ]
    }
   ],
   "source": [
    "# Alle Studierenden im Studiengang Informatik finden\n",
    "# Schritt 1: Die Bedingung erstellen (ergibt eine Series aus True/False)\n",
    "bedingung = df['Studiengang'] == 'Informatik'\n",
    "print(\"--- Bedingung: Studiengang == 'Informatik' ---\")\n",
    "print(bedingung)\n",
    "\n",
    "# Schritt 2: Die Bedingung auf den DataFrame anwenden\n",
    "informatiker = df[bedingung]\n",
    "print(\"\\n--- Gefilterter DataFrame (nur Informatiker) ---\")\n",
    "print(informatiker)"
   ]
  },
  {
   "cell_type": "code",
   "execution_count": 4,
   "metadata": {},
   "outputs": [
    {
     "name": "stdout",
     "output_type": "stream",
     "text": [
      "--- Informatiker vor dem 5. Semester ---\n",
      "        Name Studiengang  Semester  Note\n",
      "12345   Anna  Informatik         4   1.7\n",
      "24680    Tom  Informatik         4   2.7\n",
      "77777  Peter  Informatik         2   2.0\n"
     ]
    }
   ],
   "source": [
    "# Finde alle Informatiker, die vor dem 5. Semester sind\n",
    "print(\"--- Informatiker vor dem 5. Semester ---\")\n",
    "print(df[(df['Studiengang'] == 'Informatik') & (df['Semester'] < 5)])"
   ]
  }
 ],
 "metadata": {
  "kernelspec": {
   "display_name": "dabi2-test",
   "language": "python",
   "name": "dabi2-test"
  },
  "language_info": {
   "codemirror_mode": {
    "name": "ipython",
    "version": 3
   },
   "file_extension": ".py",
   "mimetype": "text/x-python",
   "name": "python",
   "nbconvert_exporter": "python",
   "pygments_lexer": "ipython3",
   "version": "3.12.9"
  }
 },
 "nbformat": 4,
 "nbformat_minor": 2
}
