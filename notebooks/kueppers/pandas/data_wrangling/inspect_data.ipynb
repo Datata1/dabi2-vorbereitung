{
 "cells": [
  {
   "cell_type": "code",
   "execution_count": 1,
   "metadata": {},
   "outputs": [
    {
     "name": "stdout",
     "output_type": "stream",
     "text": [
      "Umfangreicherer Beispiel-DataFrame:\n",
      "        Name   Studiengang  Semester  Note\n",
      "12345   Anna    Informatik         4   1.7\n",
      "67890   Mark           BWL         6   2.3\n",
      "13579  Julia  Maschinenbau         2   1.0\n",
      "24680    Tom    Informatik         4   2.7\n",
      "55555  Laura           BWL         8   NaN\n",
      "77777  Peter    Informatik         2   2.0\n",
      "99999  Sofia       Medizin        10   1.3\n"
     ]
    }
   ],
   "source": [
    "import pandas as pd\n",
    "import numpy as np # numpy wird oft für numerische Operationen gebraucht, hier für NaN\n",
    "\n",
    "# Daten für Studierende\n",
    "daten = {\n",
    "    'Name': ['Anna', 'Mark', 'Julia', 'Tom', 'Laura', 'Peter', 'Sofia'],\n",
    "    'Studiengang': ['Informatik', 'BWL', 'Maschinenbau', 'Informatik', 'BWL', 'Informatik', 'Medizin'],\n",
    "    'Semester': [4, 6, 2, 4, 8, 2, 10],\n",
    "    'Note': [1.7, 2.3, 1.0, 2.7, np.nan, 2.0, 1.3] # np.nan repräsentiert einen fehlenden Wert\n",
    "}\n",
    "\n",
    "# Index mit Matrikelnummern erstellen\n",
    "matrikelnummern = [12345, 67890, 13579, 24680, 55555, 77777, 99999]\n",
    "df = pd.DataFrame(daten, index=matrikelnummern)\n",
    "\n",
    "print(\"Umfangreicherer Beispiel-DataFrame:\")\n",
    "print(df)"
   ]
  },
  {
   "cell_type": "code",
   "execution_count": 3,
   "metadata": {},
   "outputs": [
    {
     "name": "stdout",
     "output_type": "stream",
     "text": [
      "--- Die ersten 3 Zeilen (head) ---\n",
      "        Name   Studiengang  Semester  Note\n",
      "12345   Anna    Informatik         4   1.7\n",
      "67890   Mark           BWL         6   2.3\n",
      "13579  Julia  Maschinenbau         2   1.0\n",
      "\n",
      "--- Die letzten 2 Zeilen (tail) ---\n",
      "        Name Studiengang  Semester  Note\n",
      "77777  Peter  Informatik         2   2.0\n",
      "99999  Sofia     Medizin        10   1.3\n",
      "\n",
      "--- Dimensionen des DataFrames (shape) ---\n",
      "(7, 4)\n",
      "--- Info ---\n",
      "<class 'pandas.core.frame.DataFrame'>\n",
      "Index: 7 entries, 12345 to 99999\n",
      "Data columns (total 4 columns):\n",
      " #   Column       Non-Null Count  Dtype  \n",
      "---  ------       --------------  -----  \n",
      " 0   Name         7 non-null      object \n",
      " 1   Studiengang  7 non-null      object \n",
      " 2   Semester     7 non-null      int64  \n",
      " 3   Note         6 non-null      float64\n",
      "dtypes: float64(1), int64(1), object(2)\n",
      "memory usage: 280.0+ bytes\n",
      "\n",
      "--- Describe ---\n",
      "        Semester      Note\n",
      "count   7.000000  6.000000\n",
      "mean    5.142857  1.833333\n",
      "std     3.023716  0.631401\n",
      "min     2.000000  1.000000\n",
      "25%     3.000000  1.400000\n",
      "50%     4.000000  1.850000\n",
      "75%     7.000000  2.225000\n",
      "max    10.000000  2.700000\n"
     ]
    }
   ],
   "source": [
    "# Die ersten 3 Zeilen anzeigen\n",
    "print(\"--- Die ersten 3 Zeilen (head) ---\")\n",
    "print(df.head(3))\n",
    "\n",
    "# Die letzten 2 Zeilen anzeigen\n",
    "print(\"\\n--- Die letzten 2 Zeilen (tail) ---\")\n",
    "print(df.tail(2))\n",
    "\n",
    "# Die Dimensionen des DataFrames (Anzahl Zeilen, Anzahl Spalten)\n",
    "print(\"\\n--- Dimensionen des DataFrames (shape) ---\")\n",
    "print(df.shape)\n",
    "\n",
    "# Technische Zusammenfassung des DataFrames\n",
    "print(\"--- Info ---\")\n",
    "df.info()\n",
    "\n",
    "# Statistische Zusammenfassung der numerischen Spalten\n",
    "print(\"\\n--- Describe ---\")\n",
    "print(df.describe())"
   ]
  }
 ],
 "metadata": {
  "kernelspec": {
   "display_name": "dabi2-test",
   "language": "python",
   "name": "dabi2-test"
  },
  "language_info": {
   "codemirror_mode": {
    "name": "ipython",
    "version": 3
   },
   "file_extension": ".py",
   "mimetype": "text/x-python",
   "name": "python",
   "nbconvert_exporter": "python",
   "pygments_lexer": "ipython3",
   "version": "3.12.9"
  }
 },
 "nbformat": 4,
 "nbformat_minor": 2
}
