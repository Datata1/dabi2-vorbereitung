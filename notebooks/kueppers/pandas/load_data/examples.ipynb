{
 "cells": [
  {
   "cell_type": "markdown",
   "metadata": {},
   "source": [
    "**Aufgabe 2.1**: Einen DataFrame erstellen und als CSV speichern\n",
    "Erstelle einen neuen DataFrame namens df_kurse mit den folgenden Daten:\n",
    "\n",
    "Kurs_ID\tKurs_Name\tECTS\n",
    "INF-101\tProgrammieren 1\t5\n",
    "BWL-101\tGrundlagen Marketing\t5\n",
    "MB-101\tTechnische Mechanik\t8\n",
    "\n",
    "\n",
    "Das Trennzeichen soll ein Semikolon (;) sein.\n",
    "Der Pandas-Index soll nicht mit in die Datei geschrieben werden.\n"
   ]
  },
  {
   "cell_type": "code",
   "execution_count": 2,
   "metadata": {},
   "outputs": [],
   "source": [
    "import pandas as pd\n",
    "\n",
    "df_kurse =pd.DataFrame({\n",
    "    'Kurs_ID': ['INF-101', 'BWL-101', 'MB-101'],\n",
    "    'Kurs_Name': ['Einführung in die Informatik', 'Grundlagen der Betriebswirtschaftslehre', 'Mathematik für Betriebswirte'],\n",
    "    'Kurs_Dauer': [5, 5, 8]\n",
    "})\n",
    "\n",
    "df_kurse.to_csv('kurse.csv', index=False, encoding='utf-8', sep=';')"
   ]
  },
  {
   "cell_type": "markdown",
   "metadata": {},
   "source": [
    "___\n",
    "Aufgabe 2.2: CSV-Datei einlesen\n",
    "Lese die eben erstellte Datei kurse.csv wieder in einen neuen DataFrame namens df_kurse_gelesen ein. Vergiss nicht, das korrekte Trennzeichen anzugeben. Gib die ersten paar Zeilen des neuen DataFrames aus, um das Ergebnis zu überprüfen.\n"
   ]
  },
  {
   "cell_type": "code",
   "execution_count": 5,
   "metadata": {},
   "outputs": [
    {
     "data": {
      "text/html": [
       "<div>\n",
       "<style scoped>\n",
       "    .dataframe tbody tr th:only-of-type {\n",
       "        vertical-align: middle;\n",
       "    }\n",
       "\n",
       "    .dataframe tbody tr th {\n",
       "        vertical-align: top;\n",
       "    }\n",
       "\n",
       "    .dataframe thead th {\n",
       "        text-align: right;\n",
       "    }\n",
       "</style>\n",
       "<table border=\"1\" class=\"dataframe\">\n",
       "  <thead>\n",
       "    <tr style=\"text-align: right;\">\n",
       "      <th></th>\n",
       "      <th>Kurs_ID</th>\n",
       "      <th>Kurs_Name</th>\n",
       "      <th>Kurs_Dauer</th>\n",
       "    </tr>\n",
       "  </thead>\n",
       "  <tbody>\n",
       "    <tr>\n",
       "      <th>0</th>\n",
       "      <td>INF-101</td>\n",
       "      <td>Einführung in die Informatik</td>\n",
       "      <td>5</td>\n",
       "    </tr>\n",
       "    <tr>\n",
       "      <th>1</th>\n",
       "      <td>BWL-101</td>\n",
       "      <td>Grundlagen der Betriebswirtschaftslehre</td>\n",
       "      <td>5</td>\n",
       "    </tr>\n",
       "    <tr>\n",
       "      <th>2</th>\n",
       "      <td>MB-101</td>\n",
       "      <td>Mathematik für Betriebswirte</td>\n",
       "      <td>8</td>\n",
       "    </tr>\n",
       "  </tbody>\n",
       "</table>\n",
       "</div>"
      ],
      "text/plain": [
       "   Kurs_ID                                Kurs_Name  Kurs_Dauer\n",
       "0  INF-101             Einführung in die Informatik           5\n",
       "1  BWL-101  Grundlagen der Betriebswirtschaftslehre           5\n",
       "2   MB-101             Mathematik für Betriebswirte           8"
      ]
     },
     "execution_count": 5,
     "metadata": {},
     "output_type": "execute_result"
    }
   ],
   "source": [
    "df_kurse_gelesen = pd.read_csv('kurse.csv', sep=';')\n",
    "df_kurse_gelesen"
   ]
  },
  {
   "cell_type": "markdown",
   "metadata": {},
   "source": [
    "\n",
    "___\n",
    "Aufgabe 2.5 (Fortgeschritten): Daten laden und direkt einen Index setzen\n",
    "Lese die Datei studierende.csv (aus unseren früheren Beispielen) in einen DataFrame ein. Sorge dafür, dass die Spalte Matrikelnummer direkt beim Einlesen als Index des DataFrames verwendet wird.\n",
    "(Tipp: Schau in der Dokumentation von pd.read_csv() nach einem passenden Parameter, z.B. index_col)."
   ]
  },
  {
   "cell_type": "code",
   "execution_count": 7,
   "metadata": {},
   "outputs": [
    {
     "data": {
      "text/html": [
       "<div>\n",
       "<style scoped>\n",
       "    .dataframe tbody tr th:only-of-type {\n",
       "        vertical-align: middle;\n",
       "    }\n",
       "\n",
       "    .dataframe tbody tr th {\n",
       "        vertical-align: top;\n",
       "    }\n",
       "\n",
       "    .dataframe thead th {\n",
       "        text-align: right;\n",
       "    }\n",
       "</style>\n",
       "<table border=\"1\" class=\"dataframe\">\n",
       "  <thead>\n",
       "    <tr style=\"text-align: right;\">\n",
       "      <th></th>\n",
       "      <th>Name</th>\n",
       "      <th>Studiengang</th>\n",
       "      <th>Semester</th>\n",
       "    </tr>\n",
       "    <tr>\n",
       "      <th>Matrikelnummer</th>\n",
       "      <th></th>\n",
       "      <th></th>\n",
       "      <th></th>\n",
       "    </tr>\n",
       "  </thead>\n",
       "  <tbody>\n",
       "    <tr>\n",
       "      <th>12345</th>\n",
       "      <td>Anna</td>\n",
       "      <td>Informatik</td>\n",
       "      <td>4</td>\n",
       "    </tr>\n",
       "    <tr>\n",
       "      <th>67890</th>\n",
       "      <td>Mark</td>\n",
       "      <td>BWL</td>\n",
       "      <td>6</td>\n",
       "    </tr>\n",
       "    <tr>\n",
       "      <th>13579</th>\n",
       "      <td>Julia</td>\n",
       "      <td>Maschinenbau</td>\n",
       "      <td>2</td>\n",
       "    </tr>\n",
       "    <tr>\n",
       "      <th>24680</th>\n",
       "      <td>Tom</td>\n",
       "      <td>Informatik</td>\n",
       "      <td>4</td>\n",
       "    </tr>\n",
       "  </tbody>\n",
       "</table>\n",
       "</div>"
      ],
      "text/plain": [
       "                 Name   Studiengang  Semester\n",
       "Matrikelnummer                               \n",
       "12345            Anna    Informatik         4\n",
       "67890            Mark           BWL         6\n",
       "13579           Julia  Maschinenbau         2\n",
       "24680             Tom    Informatik         4"
      ]
     },
     "execution_count": 7,
     "metadata": {},
     "output_type": "execute_result"
    }
   ],
   "source": [
    "df_load_csv = pd.read_csv('studierende.csv', sep=';', index_col='Matrikelnummer')\n",
    "df_load_csv"
   ]
  }
 ],
 "metadata": {
  "kernelspec": {
   "display_name": "dabi2-test",
   "language": "python",
   "name": "dabi2-test"
  },
  "language_info": {
   "codemirror_mode": {
    "name": "ipython",
    "version": 3
   },
   "file_extension": ".py",
   "mimetype": "text/x-python",
   "name": "python",
   "nbconvert_exporter": "python",
   "pygments_lexer": "ipython3",
   "version": "3.12.9"
  }
 },
 "nbformat": 4,
 "nbformat_minor": 2
}
