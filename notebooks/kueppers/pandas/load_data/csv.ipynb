{
 "cells": [
  {
   "cell_type": "code",
   "execution_count": 1,
   "metadata": {},
   "outputs": [
    {
     "name": "stdout",
     "output_type": "stream",
     "text": [
      "Dieser DataFrame wird nun exportiert:\n",
      "   Matrikelnummer   Name   Studiengang  Semester\n",
      "0           12345   Anna    Informatik         4\n",
      "1           67890   Mark           BWL         6\n",
      "2           13579  Julia  Maschinenbau         2\n",
      "3           24680    Tom    Informatik         4\n"
     ]
    }
   ],
   "source": [
    "import pandas as pd\n",
    "\n",
    "# Daten für Studierende in einem Dictionary\n",
    "daten = {\n",
    "    'Matrikelnummer': [12345, 67890, 13579, 24680],\n",
    "    'Name': ['Anna', 'Mark', 'Julia', 'Tom'],\n",
    "    'Studiengang': ['Informatik', 'BWL', 'Maschinenbau', 'Informatik'],\n",
    "    'Semester': [4, 6, 2, 4]\n",
    "}\n",
    "\n",
    "df_export = pd.DataFrame(daten)\n",
    "\n",
    "print(\"Dieser DataFrame wird nun exportiert:\")\n",
    "print(df_export)"
   ]
  },
  {
   "cell_type": "code",
   "execution_count": 8,
   "metadata": {},
   "outputs": [
    {
     "name": "stdout",
     "output_type": "stream",
     "text": [
      "DataFrame wurde erfolgreich in 'studierende.csv' gespeichert.\n"
     ]
    }
   ],
   "source": [
    "# Speichern des DataFrames in einer Datei namens 'studierende.csv'\n",
    "# index=False verhindert, dass der Index mitgespeichert wird.\n",
    "# sep=';' legt das Trennzeichen fest (in Deutschland oft Semikolon statt Komma).\n",
    "df_export.to_csv('studierende.csv', index=False, sep=';')\n",
    "\n",
    "print(\"DataFrame wurde erfolgreich in 'studierende.csv' gespeichert.\")"
   ]
  },
  {
   "cell_type": "code",
   "execution_count": 9,
   "metadata": {},
   "outputs": [
    {
     "name": "stdout",
     "output_type": "stream",
     "text": [
      "Daten erfolgreich aus 'studierende.csv' importiert:\n",
      "   Matrikelnummer   Name   Studiengang  Semester\n",
      "0           12345   Anna    Informatik         4\n",
      "1           67890   Mark           BWL         6\n",
      "2           13579  Julia  Maschinenbau         2\n",
      "3           24680    Tom    Informatik         4\n"
     ]
    }
   ],
   "source": [
    "# Einlesen der CSV-Datei in einen neuen DataFrame\n",
    "df_import_csv = pd.read_csv('studierende.csv', sep=';')\n",
    "\n",
    "print(\"Daten erfolgreich aus 'studierende.csv' importiert:\")\n",
    "print(df_import_csv)"
   ]
  }
 ],
 "metadata": {
  "kernelspec": {
   "display_name": "dabi2-test",
   "language": "python",
   "name": "dabi2-test"
  },
  "language_info": {
   "codemirror_mode": {
    "name": "ipython",
    "version": 3
   },
   "file_extension": ".py",
   "mimetype": "text/x-python",
   "name": "python",
   "nbconvert_exporter": "python",
   "pygments_lexer": "ipython3",
   "version": "3.12.9"
  }
 },
 "nbformat": 4,
 "nbformat_minor": 2
}
