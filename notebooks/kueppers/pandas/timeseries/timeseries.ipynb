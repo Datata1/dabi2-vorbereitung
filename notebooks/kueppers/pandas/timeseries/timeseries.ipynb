{
 "cells": [
  {
   "cell_type": "code",
   "execution_count": 1,
   "metadata": {},
   "outputs": [
    {
     "name": "stdout",
     "output_type": "stream",
     "text": [
      "--- Zeitreihen-DataFrame (Ausschnitt) ---\n",
      "            Besucher\n",
      "2025-01-01       920\n",
      "2025-01-02       696\n",
      "2025-01-03      1443\n",
      "2025-01-04      1658\n",
      "2025-01-05      1474\n",
      "\n",
      "Typ des Index: <class 'pandas.core.indexes.datetimes.DatetimeIndex'>\n"
     ]
    }
   ],
   "source": [
    "import pandas as pd\n",
    "import numpy as np\n",
    "\n",
    "# Erzeuge einen Datumsbereich für 60 Tage ab dem 1. Januar 2025\n",
    "# freq='D' steht für tägliche Frequenz (Day)\n",
    "datums_index = pd.date_range(start='2025-01-01', periods=60, freq='D')\n",
    "\n",
    "# Erzeuge zufällige Besucherzahlen\n",
    "anzahl_besucher = np.random.randint(low=500, high=2000, size=60)\n",
    "\n",
    "# Erstelle den DataFrame mit dem Datums_index als Index\n",
    "df = pd.DataFrame({'Besucher': anzahl_besucher}, index=datums_index)\n",
    "\n",
    "print(\"--- Zeitreihen-DataFrame (Ausschnitt) ---\")\n",
    "print(df.head()) # Zeigt die ersten 5 Tage\n",
    "print(\"\\nTyp des Index:\", type(df.index))"
   ]
  },
  {
   "cell_type": "code",
   "execution_count": 8,
   "metadata": {},
   "outputs": [
    {
     "name": "stdout",
     "output_type": "stream",
     "text": [
      "--- Alle Daten für Januar 2025 (letzte 5 Tage) ---\n",
      "            Besucher  7-Tage-Schnitt\n",
      "2025-01-27       799     1051.000000\n",
      "2025-01-28      1134     1043.857143\n",
      "2025-01-29      1433     1008.857143\n",
      "2025-01-30      1885     1173.571429\n",
      "2025-01-31      1410     1282.857143\n",
      "\n",
      "--- Daten für den Zeitraum 10. Feb bis 15. Feb 2025 ---\n",
      "            Besucher  7-Tage-Schnitt\n",
      "2025-02-10      1097     1061.428571\n",
      "2025-02-11      1327     1102.428571\n",
      "2025-02-12      1495     1199.285714\n",
      "2025-02-13       818     1193.428571\n",
      "2025-02-14      1858     1196.285714\n",
      "2025-02-15      1016     1227.857143\n"
     ]
    }
   ],
   "source": [
    "# Wähle alle Daten aus dem Monat Januar aus\n",
    "januar_daten = df.loc['2025-01']\n",
    "print(\"--- Alle Daten für Januar 2025 (letzte 5 Tage) ---\")\n",
    "print(januar_daten.tail())\n",
    "\n",
    "\n",
    "# Wähle einen exakten Datumsbereich aus\n",
    "# (beide Grenzen sind inklusive)\n",
    "zeitraum = df['2025-02-10':'2025-02-15']\n",
    "print(\"\\n--- Daten für den Zeitraum 10. Feb bis 15. Feb 2025 ---\")\n",
    "print(zeitraum)"
   ]
  },
  {
   "cell_type": "code",
   "execution_count": 3,
   "metadata": {},
   "outputs": [
    {
     "name": "stdout",
     "output_type": "stream",
     "text": [
      "--- Monatliche Gesamt-Besucherzahlen ---\n",
      "2025-01-31    38113\n",
      "2025-02-28    32410\n",
      "2025-03-31      837\n",
      "Freq: ME, Name: Besucher, dtype: int64\n",
      "\n",
      "--- Wöchentliche Durchschnitts-Besucherzahlen ---\n",
      "2025-01-05    1238.200000\n",
      "2025-01-12    1247.000000\n",
      "2025-01-19    1190.714286\n",
      "2025-01-26    1171.000000\n",
      "2025-02-02    1132.285714\n",
      "Freq: W-SUN, Name: Besucher, dtype: float64\n"
     ]
    },
    {
     "name": "stderr",
     "output_type": "stream",
     "text": [
      "/tmp/ipykernel_516469/1756112255.py:3: FutureWarning: 'M' is deprecated and will be removed in a future version, please use 'ME' instead.\n",
      "  monatliche_summe = df['Besucher'].resample('M').sum()\n"
     ]
    }
   ],
   "source": [
    "# Resample die täglichen Daten auf eine monatliche Frequenz ('M' = Monatsende)\n",
    "# und berechne die Summe für jeden Monat.\n",
    "monatliche_summe = df['Besucher'].resample('M').sum()\n",
    "\n",
    "print(\"--- Monatliche Gesamt-Besucherzahlen ---\")\n",
    "print(monatliche_summe)\n",
    "\n",
    "# Man kann auch den Mittelwert pro Woche berechnen ('W' = Wochen-Sonntag)\n",
    "wöchentlicher_durchschnitt = df['Besucher'].resample('W').mean()\n",
    "print(\"\\n--- Wöchentliche Durchschnitts-Besucherzahlen ---\")\n",
    "print(wöchentlicher_durchschnitt.head())"
   ]
  },
  {
   "cell_type": "code",
   "execution_count": 4,
   "metadata": {},
   "outputs": [
    {
     "name": "stdout",
     "output_type": "stream",
     "text": [
      "\n",
      "--- Stündliche Daten (mit ffill gefüllt, Anfang) ---\n",
      "2025-01-01 00:00:00    920\n",
      "2025-01-01 01:00:00    920\n",
      "2025-01-01 02:00:00    920\n",
      "2025-01-01 03:00:00    920\n",
      "2025-01-01 04:00:00    920\n",
      "Freq: h, Name: Besucher, dtype: int64\n"
     ]
    },
    {
     "name": "stderr",
     "output_type": "stream",
     "text": [
      "/tmp/ipykernel_516469/3119651928.py:2: FutureWarning: 'H' is deprecated and will be removed in a future version, please use 'h' instead.\n",
      "  stündlich = df['Besucher'].resample('H')\n"
     ]
    }
   ],
   "source": [
    "# Resample auf eine stündliche Frequenz ('H' = Hourly)\n",
    "stündlich = df['Besucher'].resample('H')\n",
    "\n",
    "# .asfreq() zeigt die NaN-Werte\n",
    "# print(stündlich.asfreq().head()) # Viele NaN-Werte\n",
    "\n",
    "# Fülle die Lücken, indem der letzte bekannte Wert fortgeschrieben wird ('forward fill')\n",
    "stündlich_gefüllt = stündlich.ffill()\n",
    "\n",
    "print(\"\\n--- Stündliche Daten (mit ffill gefüllt, Anfang) ---\")\n",
    "print(stündlich_gefüllt.head())"
   ]
  },
  {
   "cell_type": "code",
   "execution_count": 5,
   "metadata": {},
   "outputs": [
    {
     "name": "stdout",
     "output_type": "stream",
     "text": [
      "--- DataFrame mit gleitendem 7-Tage-Durchschnitt ---\n",
      "            Besucher  7-Tage-Schnitt\n",
      "2025-01-01       920             NaN\n",
      "2025-01-02       696             NaN\n",
      "2025-01-03      1443             NaN\n",
      "2025-01-04      1658             NaN\n",
      "2025-01-05      1474             NaN\n",
      "2025-01-06      1458             NaN\n",
      "2025-01-07      1992     1377.285714\n",
      "2025-01-08      1305     1432.285714\n",
      "2025-01-09      1450     1540.000000\n",
      "2025-01-10       638     1425.000000\n"
     ]
    }
   ],
   "source": [
    "# Berechne den gleitenden Durchschnitt über ein Fenster von 7 Tagen\n",
    "df['7-Tage-Schnitt'] = df['Besucher'].rolling(window=7).mean()\n",
    "\n",
    "print(\"--- DataFrame mit gleitendem 7-Tage-Durchschnitt ---\")\n",
    "# Die ersten 6 Werte sind NaN, da das Fenster noch nicht voll ist.\n",
    "print(df.head(10))"
   ]
  }
 ],
 "metadata": {
  "kernelspec": {
   "display_name": "dabi2-test",
   "language": "python",
   "name": "dabi2-test"
  },
  "language_info": {
   "codemirror_mode": {
    "name": "ipython",
    "version": 3
   },
   "file_extension": ".py",
   "mimetype": "text/x-python",
   "name": "python",
   "nbconvert_exporter": "python",
   "pygments_lexer": "ipython3",
   "version": "3.12.9"
  }
 },
 "nbformat": 4,
 "nbformat_minor": 2
}
