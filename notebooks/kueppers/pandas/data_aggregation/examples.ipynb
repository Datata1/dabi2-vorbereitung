{
 "cells": [
  {
   "cell_type": "code",
   "execution_count": 1,
   "metadata": {},
   "outputs": [
    {
     "name": "stdout",
     "output_type": "stream",
     "text": [
      "DataFrame für Aggregations-Übungen:\n",
      "    Name Abteilung  Gehalt  HO_Tage\n",
      "0   Anna        IT   70000        3\n",
      "1   Mark     Sales   62000        2\n",
      "2  Julia        IT   75000        4\n",
      "3    Tom        HR   50000        1\n",
      "4  Laura     Sales   68000        3\n",
      "5  Peter        IT   69000        3\n",
      "6  Sofia        HR   52000        2\n"
     ]
    }
   ],
   "source": [
    "import pandas as pd\n",
    "\n",
    "# Daten für die Aggregations-Übungen\n",
    "daten = {\n",
    "    'Name': ['Anna', 'Mark', 'Julia', 'Tom', 'Laura', 'Peter', 'Sofia'],\n",
    "    'Abteilung': ['IT', 'Sales', 'IT', 'HR', 'Sales', 'IT', 'HR'],\n",
    "    'Gehalt': [70000, 62000, 75000, 50000, 68000, 69000, 52000],\n",
    "    'HO_Tage': [3, 2, 4, 1, 3, 3, 2]\n",
    "}\n",
    "df_mitarbeiter = pd.DataFrame(daten)\n",
    "\n",
    "print(\"DataFrame für Aggregations-Übungen:\")\n",
    "print(df_mitarbeiter)"
   ]
  },
  {
   "cell_type": "markdown",
   "metadata": {},
   "source": [
    "Aufgabe 6.1: Durchschnittsgehalt pro Abteilung\n",
    "\n",
    "Gruppiere den df_mitarbeiter nach der Spalte Abteilung.\n",
    "Berechne anschließend das Durchschnittsgehalt (mean) für jede Abteilung.\n"
   ]
  },
  {
   "cell_type": "code",
   "execution_count": 10,
   "metadata": {},
   "outputs": [
    {
     "data": {
      "text/html": [
       "<div>\n",
       "<style scoped>\n",
       "    .dataframe tbody tr th:only-of-type {\n",
       "        vertical-align: middle;\n",
       "    }\n",
       "\n",
       "    .dataframe tbody tr th {\n",
       "        vertical-align: top;\n",
       "    }\n",
       "\n",
       "    .dataframe thead th {\n",
       "        text-align: right;\n",
       "    }\n",
       "</style>\n",
       "<table border=\"1\" class=\"dataframe\">\n",
       "  <thead>\n",
       "    <tr style=\"text-align: right;\">\n",
       "      <th></th>\n",
       "      <th>Gehalt</th>\n",
       "    </tr>\n",
       "    <tr>\n",
       "      <th>Abteilung</th>\n",
       "      <th></th>\n",
       "    </tr>\n",
       "  </thead>\n",
       "  <tbody>\n",
       "    <tr>\n",
       "      <th>HR</th>\n",
       "      <td>51000.000000</td>\n",
       "    </tr>\n",
       "    <tr>\n",
       "      <th>IT</th>\n",
       "      <td>71333.333333</td>\n",
       "    </tr>\n",
       "    <tr>\n",
       "      <th>Sales</th>\n",
       "      <td>65000.000000</td>\n",
       "    </tr>\n",
       "  </tbody>\n",
       "</table>\n",
       "</div>"
      ],
      "text/plain": [
       "                 Gehalt\n",
       "Abteilung              \n",
       "HR         51000.000000\n",
       "IT         71333.333333\n",
       "Sales      65000.000000"
      ]
     },
     "execution_count": 10,
     "metadata": {},
     "output_type": "execute_result"
    }
   ],
   "source": [
    "df_mitarbeiter.groupby('Abteilung').agg({'Gehalt': 'mean'})"
   ]
  },
  {
   "cell_type": "markdown",
   "metadata": {},
   "source": [
    "\n",
    "___\n",
    "Aufgabe 6.2: Gruppengröße ermitteln\n",
    "\n",
    "Finde heraus, wie viele Mitarbeiter jede Abteilung hat. Das Ergebnis sollte eine Series sein, die pro Abteilung die Anzahl der Mitarbeiter anzeigt.\n",
    "(Tipp: .size() ist hierfür gut geeignet.)\n"
   ]
  },
  {
   "cell_type": "code",
   "execution_count": 13,
   "metadata": {},
   "outputs": [
    {
     "data": {
      "text/plain": [
       "Abteilung\n",
       "HR       2\n",
       "IT       3\n",
       "Sales    2\n",
       "dtype: int64"
      ]
     },
     "execution_count": 13,
     "metadata": {},
     "output_type": "execute_result"
    }
   ],
   "source": [
    "df_mitarbeiter.groupby('Abteilung').size()"
   ]
  },
  {
   "cell_type": "markdown",
   "metadata": {},
   "source": [
    "\n",
    "___\n",
    "Aufgabe 6.3: Mehrere Aggregationen gleichzeitig\n",
    "\n",
    "Gruppiere den DataFrame wieder nach Abteilung.\n",
    "Berechne für das Gehalt sowohl den minimalen als auch den maximalen Wert pro Abteilung. Verwende hierfür die .agg()-Methode.\n"
   ]
  },
  {
   "cell_type": "code",
   "execution_count": 14,
   "metadata": {},
   "outputs": [
    {
     "data": {
      "text/html": [
       "<div>\n",
       "<style scoped>\n",
       "    .dataframe tbody tr th:only-of-type {\n",
       "        vertical-align: middle;\n",
       "    }\n",
       "\n",
       "    .dataframe tbody tr th {\n",
       "        vertical-align: top;\n",
       "    }\n",
       "\n",
       "    .dataframe thead tr th {\n",
       "        text-align: left;\n",
       "    }\n",
       "\n",
       "    .dataframe thead tr:last-of-type th {\n",
       "        text-align: right;\n",
       "    }\n",
       "</style>\n",
       "<table border=\"1\" class=\"dataframe\">\n",
       "  <thead>\n",
       "    <tr>\n",
       "      <th></th>\n",
       "      <th colspan=\"2\" halign=\"left\">Gehalt</th>\n",
       "    </tr>\n",
       "    <tr>\n",
       "      <th></th>\n",
       "      <th>max</th>\n",
       "      <th>min</th>\n",
       "    </tr>\n",
       "    <tr>\n",
       "      <th>Abteilung</th>\n",
       "      <th></th>\n",
       "      <th></th>\n",
       "    </tr>\n",
       "  </thead>\n",
       "  <tbody>\n",
       "    <tr>\n",
       "      <th>HR</th>\n",
       "      <td>52000</td>\n",
       "      <td>50000</td>\n",
       "    </tr>\n",
       "    <tr>\n",
       "      <th>IT</th>\n",
       "      <td>75000</td>\n",
       "      <td>69000</td>\n",
       "    </tr>\n",
       "    <tr>\n",
       "      <th>Sales</th>\n",
       "      <td>68000</td>\n",
       "      <td>62000</td>\n",
       "    </tr>\n",
       "  </tbody>\n",
       "</table>\n",
       "</div>"
      ],
      "text/plain": [
       "          Gehalt       \n",
       "             max    min\n",
       "Abteilung              \n",
       "HR         52000  50000\n",
       "IT         75000  69000\n",
       "Sales      68000  62000"
      ]
     },
     "execution_count": 14,
     "metadata": {},
     "output_type": "execute_result"
    }
   ],
   "source": [
    "df_mitarbeiter.groupby('Abteilung').agg({'Gehalt': ['max', 'min']})"
   ]
  },
  {
   "cell_type": "markdown",
   "metadata": {},
   "source": [
    "\n",
    "___\n",
    "Aufgabe 6.4 (Fortgeschritten): Maßgeschneiderte Aggregation\n",
    "\n",
    "Erstelle eine Übersicht, die für jede Abteilung Folgendes anzeigt:\n",
    "Das Durchschnittsgehalt (mean).\n",
    "Die Gesamtsumme (sum) der Home-Office-Tage.\n",
    "Verwende hierfür eine einzige .agg()-Anweisung mit einem Dictionary."
   ]
  },
  {
   "cell_type": "code",
   "execution_count": 16,
   "metadata": {},
   "outputs": [
    {
     "data": {
      "text/html": [
       "<div>\n",
       "<style scoped>\n",
       "    .dataframe tbody tr th:only-of-type {\n",
       "        vertical-align: middle;\n",
       "    }\n",
       "\n",
       "    .dataframe tbody tr th {\n",
       "        vertical-align: top;\n",
       "    }\n",
       "\n",
       "    .dataframe thead th {\n",
       "        text-align: right;\n",
       "    }\n",
       "</style>\n",
       "<table border=\"1\" class=\"dataframe\">\n",
       "  <thead>\n",
       "    <tr style=\"text-align: right;\">\n",
       "      <th></th>\n",
       "      <th>Durchschnittsgehalt</th>\n",
       "      <th>Summe HO-Tage</th>\n",
       "    </tr>\n",
       "    <tr>\n",
       "      <th>Abteilung</th>\n",
       "      <th></th>\n",
       "      <th></th>\n",
       "    </tr>\n",
       "  </thead>\n",
       "  <tbody>\n",
       "    <tr>\n",
       "      <th>HR</th>\n",
       "      <td>51000.000000</td>\n",
       "      <td>3</td>\n",
       "    </tr>\n",
       "    <tr>\n",
       "      <th>IT</th>\n",
       "      <td>71333.333333</td>\n",
       "      <td>10</td>\n",
       "    </tr>\n",
       "    <tr>\n",
       "      <th>Sales</th>\n",
       "      <td>65000.000000</td>\n",
       "      <td>5</td>\n",
       "    </tr>\n",
       "  </tbody>\n",
       "</table>\n",
       "</div>"
      ],
      "text/plain": [
       "           Durchschnittsgehalt  Summe HO-Tage\n",
       "Abteilung                                    \n",
       "HR                51000.000000              3\n",
       "IT                71333.333333             10\n",
       "Sales             65000.000000              5"
      ]
     },
     "execution_count": 16,
     "metadata": {},
     "output_type": "execute_result"
    }
   ],
   "source": [
    "df_mitarbeiter.groupby('Abteilung').agg({'Gehalt': 'mean', 'HO_Tage': 'sum'}).rename({'Gehalt': 'Durchschnittsgehalt', 'HO_Tage': 'Summe HO-Tage'}, axis=1)"
   ]
  },
  {
   "cell_type": "code",
   "execution_count": 2,
   "metadata": {},
   "outputs": [
    {
     "name": "stdout",
     "output_type": "stream",
     "text": [
      "--- Personal ---\n",
      "  MitarbeiterID   Name\n",
      "0         M-101   Anna\n",
      "1         M-102   Mark\n",
      "2         M-103  Julia\n",
      "3         M-105  Laura\n",
      "\n",
      "--- Projekte ---\n",
      "  MitarbeiterID Projekt\n",
      "0         M-101   Alpha\n",
      "1         M-102    Beta\n",
      "2         M-103   Gamma\n",
      "3         M-106   Delta\n",
      "\n",
      "--- Neue Mitarbeiter ---\n",
      "  MitarbeiterID   Name\n",
      "0         M-106  Peter\n",
      "1         M-107  Sofia\n"
     ]
    }
   ],
   "source": [
    "import pandas as pd\n",
    "\n",
    "# DataFrame mit Stammdaten (beachte: M-104 fehlt)\n",
    "df_personal = pd.DataFrame({\n",
    "    'MitarbeiterID': ['M-101', 'M-102', 'M-103', 'M-105'],\n",
    "    'Name': ['Anna', 'Mark', 'Julia', 'Laura']\n",
    "})\n",
    "\n",
    "# DataFrame mit Projektzuweisungen (beachte: M-105 hat kein Projekt)\n",
    "df_projekte = pd.DataFrame({\n",
    "    'MitarbeiterID': ['M-101', 'M-102', 'M-103', 'M-106'],\n",
    "    'Projekt': ['Alpha', 'Beta', 'Gamma', 'Delta']\n",
    "})\n",
    "\n",
    "# DataFrame mit neuen Mitarbeitern zum Anhängen\n",
    "df_neue = pd.DataFrame({\n",
    "    'MitarbeiterID': ['M-106', 'M-107'],\n",
    "    'Name': ['Peter', 'Sofia']\n",
    "})\n",
    "\n",
    "print(\"--- Personal ---\")\n",
    "print(df_personal)\n",
    "print(\"\\n--- Projekte ---\")\n",
    "print(df_projekte)\n",
    "print(\"\\n--- Neue Mitarbeiter ---\")\n",
    "print(df_neue)"
   ]
  },
  {
   "cell_type": "markdown",
   "metadata": {},
   "source": [
    "Aufgabe 6.5: DataFrames aneinanderhängen\n",
    "\n",
    "Erstelle einen neuen DataFrame df_gesamtpersonal, indem du df_neue an df_personal anhängst. Verwende dafür pd.concat().\n"
   ]
  },
  {
   "cell_type": "code",
   "execution_count": 18,
   "metadata": {},
   "outputs": [
    {
     "data": {
      "text/html": [
       "<div>\n",
       "<style scoped>\n",
       "    .dataframe tbody tr th:only-of-type {\n",
       "        vertical-align: middle;\n",
       "    }\n",
       "\n",
       "    .dataframe tbody tr th {\n",
       "        vertical-align: top;\n",
       "    }\n",
       "\n",
       "    .dataframe thead th {\n",
       "        text-align: right;\n",
       "    }\n",
       "</style>\n",
       "<table border=\"1\" class=\"dataframe\">\n",
       "  <thead>\n",
       "    <tr style=\"text-align: right;\">\n",
       "      <th></th>\n",
       "      <th>MitarbeiterID</th>\n",
       "      <th>Name</th>\n",
       "    </tr>\n",
       "  </thead>\n",
       "  <tbody>\n",
       "    <tr>\n",
       "      <th>0</th>\n",
       "      <td>M-101</td>\n",
       "      <td>Anna</td>\n",
       "    </tr>\n",
       "    <tr>\n",
       "      <th>1</th>\n",
       "      <td>M-102</td>\n",
       "      <td>Mark</td>\n",
       "    </tr>\n",
       "    <tr>\n",
       "      <th>2</th>\n",
       "      <td>M-103</td>\n",
       "      <td>Julia</td>\n",
       "    </tr>\n",
       "    <tr>\n",
       "      <th>3</th>\n",
       "      <td>M-105</td>\n",
       "      <td>Laura</td>\n",
       "    </tr>\n",
       "    <tr>\n",
       "      <th>4</th>\n",
       "      <td>M-106</td>\n",
       "      <td>Peter</td>\n",
       "    </tr>\n",
       "    <tr>\n",
       "      <th>5</th>\n",
       "      <td>M-107</td>\n",
       "      <td>Sofia</td>\n",
       "    </tr>\n",
       "  </tbody>\n",
       "</table>\n",
       "</div>"
      ],
      "text/plain": [
       "  MitarbeiterID   Name\n",
       "0         M-101   Anna\n",
       "1         M-102   Mark\n",
       "2         M-103  Julia\n",
       "3         M-105  Laura\n",
       "4         M-106  Peter\n",
       "5         M-107  Sofia"
      ]
     },
     "execution_count": 18,
     "metadata": {},
     "output_type": "execute_result"
    }
   ],
   "source": [
    "df_gesamtpersonal = pd.concat([df_personal, df_neue], ignore_index=True)\n",
    "df_gesamtpersonal"
   ]
  },
  {
   "cell_type": "markdown",
   "metadata": {},
   "source": [
    "\n",
    "___\n",
    "Aufgabe 6.6: Inner Join\n",
    "\n",
    "Kombiniere df_personal und df_projekte so, dass nur Mitarbeiter angezeigt werden, die in beiden DataFrames vorkommen (also alle, die einen Namen und ein Projekt haben). Verwende pd.merge() mit der passenden how-Einstellung.\n"
   ]
  },
  {
   "cell_type": "code",
   "execution_count": 22,
   "metadata": {},
   "outputs": [
    {
     "data": {
      "text/html": [
       "<div>\n",
       "<style scoped>\n",
       "    .dataframe tbody tr th:only-of-type {\n",
       "        vertical-align: middle;\n",
       "    }\n",
       "\n",
       "    .dataframe tbody tr th {\n",
       "        vertical-align: top;\n",
       "    }\n",
       "\n",
       "    .dataframe thead th {\n",
       "        text-align: right;\n",
       "    }\n",
       "</style>\n",
       "<table border=\"1\" class=\"dataframe\">\n",
       "  <thead>\n",
       "    <tr style=\"text-align: right;\">\n",
       "      <th></th>\n",
       "      <th>MitarbeiterID</th>\n",
       "      <th>Name</th>\n",
       "      <th>Projekt</th>\n",
       "    </tr>\n",
       "  </thead>\n",
       "  <tbody>\n",
       "    <tr>\n",
       "      <th>0</th>\n",
       "      <td>M-101</td>\n",
       "      <td>Anna</td>\n",
       "      <td>Alpha</td>\n",
       "    </tr>\n",
       "    <tr>\n",
       "      <th>1</th>\n",
       "      <td>M-102</td>\n",
       "      <td>Mark</td>\n",
       "      <td>Beta</td>\n",
       "    </tr>\n",
       "    <tr>\n",
       "      <th>2</th>\n",
       "      <td>M-103</td>\n",
       "      <td>Julia</td>\n",
       "      <td>Gamma</td>\n",
       "    </tr>\n",
       "  </tbody>\n",
       "</table>\n",
       "</div>"
      ],
      "text/plain": [
       "  MitarbeiterID   Name Projekt\n",
       "0         M-101   Anna   Alpha\n",
       "1         M-102   Mark    Beta\n",
       "2         M-103  Julia   Gamma"
      ]
     },
     "execution_count": 22,
     "metadata": {},
     "output_type": "execute_result"
    }
   ],
   "source": [
    "df_personal.merge(df_projekte, on='MitarbeiterID', how='inner')"
   ]
  },
  {
   "cell_type": "markdown",
   "metadata": {},
   "source": [
    "\n",
    "___\n",
    "Aufgabe 6.7: Left Join\n",
    "\n",
    "Erstelle eine Übersicht aller Mitarbeiter aus df_personal und füge deren Projekt aus df_projekte hinzu.\n",
    "Wenn ein Mitarbeiter kein Projekt hat (wie Laura), soll in der Projekt-Spalte NaN stehen. Verwende wieder pd.merge().\n"
   ]
  },
  {
   "cell_type": "markdown",
   "metadata": {},
   "source": [
    "\n",
    "___\n",
    "Aufgabe 6.8: Outer Join\n",
    "\n",
    "Erstelle eine Übersicht, die alle Mitarbeiter und alle Projekte aus beiden DataFrames (df_personal, df_projekte) enthält.\n",
    "Das Ergebnis sollte sowohl Laura (ohne Projekt) als auch das Projekt von Peter (M-106, ohne Namen in df_personal) beinhalten."
   ]
  }
 ],
 "metadata": {
  "kernelspec": {
   "display_name": "dabi2-test",
   "language": "python",
   "name": "dabi2-test"
  },
  "language_info": {
   "codemirror_mode": {
    "name": "ipython",
    "version": 3
   },
   "file_extension": ".py",
   "mimetype": "text/x-python",
   "name": "python",
   "nbconvert_exporter": "python",
   "pygments_lexer": "ipython3",
   "version": "3.12.9"
  }
 },
 "nbformat": 4,
 "nbformat_minor": 2
}
