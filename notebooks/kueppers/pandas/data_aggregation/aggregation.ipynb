{
 "cells": [
  {
   "cell_type": "code",
   "execution_count": 9,
   "metadata": {},
   "outputs": [
    {
     "name": "stdout",
     "output_type": "stream",
     "text": [
      "Ausgangs-DataFrame:\n",
      "    Name   Studiengang  Semester  Note  ECTS\n",
      "0   Anna    Informatik         4   1.7   120\n",
      "1   Mark           BWL         6   2.3   180\n",
      "2  Julia  Maschinenbau         2   1.0    60\n",
      "3    Tom    Informatik         4   2.7   110\n",
      "4  Laura           BWL         8   3.0   210\n",
      "5  Peter    Informatik         2   2.0    55\n",
      "6  Sofia           BWL         4   1.3   120\n",
      "7    Max  Maschinenbau         2   1.7    65\n"
     ]
    }
   ],
   "source": [
    "import pandas as pd\n",
    "\n",
    "daten = {\n",
    "    'Name': ['Anna', 'Mark', 'Julia', 'Tom', 'Laura', 'Peter', 'Sofia', 'Max'],\n",
    "    'Studiengang': ['Informatik', 'BWL', 'Maschinenbau', 'Informatik', 'BWL', 'Informatik', 'BWL', 'Maschinenbau'],\n",
    "    'Semester': [4, 6, 2, 4, 8, 2, 4, 2],\n",
    "    'Note': [1.7, 2.3, 1.0, 2.7, 3.0, 2.0, 1.3, 1.7],\n",
    "    'ECTS': [120, 180, 60, 110, 210, 55, 120, 65]\n",
    "}\n",
    "df = pd.DataFrame(daten)\n",
    "\n",
    "print(\"Ausgangs-DataFrame:\")\n",
    "print(df)"
   ]
  },
  {
   "cell_type": "code",
   "execution_count": 11,
   "metadata": {},
   "outputs": [
    {
     "name": "stdout",
     "output_type": "stream",
     "text": [
      "--- Durchschnittswerte pro Studiengang ---\n",
      "              Semester      Note   ECTS\n",
      "Studiengang                            \n",
      "BWL           6.000000  2.200000  170.0\n",
      "Informatik    3.333333  2.133333   95.0\n",
      "Maschinenbau  2.000000  1.350000   62.5\n"
     ]
    }
   ],
   "source": [
    "# Gruppiere den DataFrame nach der Spalte 'Studiengang'\n",
    "# Wende dann die .mean()-Funktion auf alle numerischen Spalten an.\n",
    "durchschnitt_pro_studiengang = df.groupby('Studiengang').mean(numeric_only=True)  # .sum() .count() .size() .max() .min()\n",
    "\n",
    "print(\"--- Durchschnittswerte pro Studiengang ---\")\n",
    "print(durchschnitt_pro_studiengang)"
   ]
  },
  {
   "cell_type": "code",
   "execution_count": 6,
   "metadata": {},
   "outputs": [
    {
     "name": "stdout",
     "output_type": "stream",
     "text": [
      "--- Noten-Statistiken pro Studiengang ---\n",
      "                  mean       std  min  max\n",
      "Studiengang                               \n",
      "BWL           2.200000  0.854400  1.3  3.0\n",
      "Informatik    2.133333  0.513160  1.7  2.7\n",
      "Maschinenbau  1.350000  0.494975  1.0  1.7\n"
     ]
    }
   ],
   "source": [
    "# Gruppiere nach Studiengang und wähle die Spalte 'Note' aus\n",
    "# Wende dann mehrere Aggregationen mit .agg() an\n",
    "noten_stats = df.groupby('Studiengang')['Note'].agg(['mean', 'std', 'min', 'max'])\n",
    "\n",
    "print(\"--- Noten-Statistiken pro Studiengang ---\")\n",
    "print(noten_stats)"
   ]
  },
  {
   "cell_type": "code",
   "execution_count": 7,
   "metadata": {},
   "outputs": [
    {
     "name": "stdout",
     "output_type": "stream",
     "text": [
      "--- Maßgeschneiderte Aggregation pro Studiengang ---\n",
      "                  Note  ECTS  Anzahl_Studierende\n",
      "Studiengang                                     \n",
      "BWL           2.200000   510                   3\n",
      "Informatik    2.133333   285                   3\n",
      "Maschinenbau  1.350000   125                   2\n"
     ]
    }
   ],
   "source": [
    "# Definiere die Aggregationen in einem Dictionary\n",
    "aggregationen = {\n",
    "    'Note': 'mean',\n",
    "    'ECTS': 'sum',\n",
    "    'Name': 'count'  # Zählt die Anzahl der Studierenden\n",
    "}\n",
    "\n",
    "# Gruppieren und das Dictionary an .agg() übergeben\n",
    "custom_agg = df.groupby('Studiengang').agg(aggregationen)\n",
    "\n",
    "# Spalte umbenennen für bessere Lesbarkeit\n",
    "custom_agg = custom_agg.rename(columns={'Name': 'Anzahl_Studierende'})\n",
    "\n",
    "print(\"--- Maßgeschneiderte Aggregation pro Studiengang ---\")\n",
    "print(custom_agg)"
   ]
  },
  {
   "cell_type": "code",
   "execution_count": 12,
   "metadata": {},
   "outputs": [
    {
     "name": "stdout",
     "output_type": "stream",
     "text": [
      "--- Gruppiert nach Studiengang und Semester (MultiIndex) ---\n",
      "                       Note   ECTS\n",
      "Studiengang  Semester             \n",
      "BWL          4         1.30  120.0\n",
      "             6         2.30  180.0\n",
      "             8         3.00  210.0\n",
      "Informatik   2         2.00   55.0\n",
      "             4         2.20  115.0\n",
      "Maschinenbau 2         1.35   62.5\n"
     ]
    }
   ],
   "source": [
    "# Gruppiere zuerst nach Studiengang, dann innerhalb jedes Studiengangs nach Semester\n",
    "mehrfach_gruppe = df.groupby(['Studiengang', 'Semester']).mean(numeric_only=True)\n",
    "\n",
    "print(\"--- Gruppiert nach Studiengang und Semester (MultiIndex) ---\")\n",
    "print(mehrfach_gruppe)"
   ]
  }
 ],
 "metadata": {
  "kernelspec": {
   "display_name": "dabi2-test",
   "language": "python",
   "name": "dabi2-test"
  },
  "language_info": {
   "codemirror_mode": {
    "name": "ipython",
    "version": 3
   },
   "file_extension": ".py",
   "mimetype": "text/x-python",
   "name": "python",
   "nbconvert_exporter": "python",
   "pygments_lexer": "ipython3",
   "version": "3.12.9"
  }
 },
 "nbformat": 4,
 "nbformat_minor": 2
}
