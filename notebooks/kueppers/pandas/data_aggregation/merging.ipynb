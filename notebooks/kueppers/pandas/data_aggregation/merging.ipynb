{
 "cells": [
  {
   "cell_type": "code",
   "execution_count": 1,
   "metadata": {},
   "outputs": [
    {
     "name": "stdout",
     "output_type": "stream",
     "text": [
      "--- Persönliche Daten ---\n",
      "   Matrikelnummer   Name   Studiengang\n",
      "0             101   Anna    Informatik\n",
      "1             102   Mark           BWL\n",
      "2             103  Julia  Maschinenbau\n",
      "3             104    Tom    Informatik\n",
      "\n",
      "--- Noten ---\n",
      "   Matrikelnummer          Prüfung  Note\n",
      "0             101          Mathe I   1.3\n",
      "1             102        Marketing   2.0\n",
      "2             103       Mechanik I   1.7\n",
      "3             105  Programmieren I   2.7\n",
      "\n",
      "--- Kontaktdaten (Index ist Matrikelnummer) ---\n",
      "             Email\n",
      "101   anna@mail.de\n",
      "102   mark@mail.de\n",
      "103  julia@mail.de\n"
     ]
    }
   ],
   "source": [
    "import pandas as pd\n",
    "\n",
    "# DataFrame mit persönlichen Daten\n",
    "df_personal = pd.DataFrame({\n",
    "    'Matrikelnummer': [101, 102, 103, 104],\n",
    "    'Name': ['Anna', 'Mark', 'Julia', 'Tom'],\n",
    "    'Studiengang': ['Informatik', 'BWL', 'Maschinenbau', 'Informatik']\n",
    "})\n",
    "\n",
    "# DataFrame mit Noten (beachte: Tom (104) fehlt, eine unbekannte Matrikelnr. (105) ist dabei)\n",
    "df_noten = pd.DataFrame({\n",
    "    'Matrikelnummer': [101, 102, 103, 105],\n",
    "    'Prüfung': ['Mathe I', 'Marketing', 'Mechanik I', 'Programmieren I'],\n",
    "    'Note': [1.3, 2.0, 1.7, 2.7]\n",
    "})\n",
    "\n",
    "# DataFrame mit Kontaktdaten (Index entspricht den ersten drei Matrikelnummern)\n",
    "df_kontakt = pd.DataFrame({\n",
    "    'Email': ['anna@mail.de', 'mark@mail.de', 'julia@mail.de']\n",
    "}, index=[101, 102, 103])\n",
    "\n",
    "\n",
    "print(\"--- Persönliche Daten ---\")\n",
    "print(df_personal)\n",
    "print(\"\\n--- Noten ---\")\n",
    "print(df_noten)\n",
    "print(\"\\n--- Kontaktdaten (Index ist Matrikelnummer) ---\")\n",
    "print(df_kontakt)"
   ]
  },
  {
   "cell_type": "code",
   "execution_count": 2,
   "metadata": {},
   "outputs": [
    {
     "name": "stdout",
     "output_type": "stream",
     "text": [
      "--- Alle Studierenden (concatenated) ---\n",
      "   Matrikelnummer   Name   Studiengang\n",
      "0             101   Anna    Informatik\n",
      "1             102   Mark           BWL\n",
      "2             103  Julia  Maschinenbau\n",
      "3             104    Tom    Informatik\n",
      "4             106  Laura           BWL\n",
      "5             107  Peter       Medizin\n"
     ]
    }
   ],
   "source": [
    "# DataFrame mit neuen Studierenden\n",
    "df_neue = pd.DataFrame({\n",
    "    'Matrikelnummer': [106, 107],\n",
    "    'Name': ['Laura', 'Peter'],\n",
    "    'Studiengang': ['BWL', 'Medizin']\n",
    "})\n",
    "\n",
    "# Hängt die Zeilen von df_neue an df_personal an\n",
    "df_alle_studierende = pd.concat([df_personal, df_neue], ignore_index=True)\n",
    "# ignore_index=True erstellt einen neuen, durchgehenden Index (0, 1, 2, 3, 4, 5)\n",
    "\n",
    "print(\"--- Alle Studierenden (concatenated) ---\")\n",
    "print(df_alle_studierende)"
   ]
  },
  {
   "cell_type": "code",
   "execution_count": 3,
   "metadata": {},
   "outputs": [
    {
     "name": "stdout",
     "output_type": "stream",
     "text": [
      "--- Inner Join ---\n",
      "   Matrikelnummer   Name   Studiengang     Prüfung  Note\n",
      "0             101   Anna    Informatik     Mathe I   1.3\n",
      "1             102   Mark           BWL   Marketing   2.0\n",
      "2             103  Julia  Maschinenbau  Mechanik I   1.7\n"
     ]
    }
   ],
   "source": [
    "# Führe einen inner join über die Spalte 'Matrikelnummer' aus\n",
    "df_inner = pd.merge(df_personal, df_noten, how='inner', on='Matrikelnummer')\n",
    "\n",
    "print(\"--- Inner Join ---\")\n",
    "print(df_inner)"
   ]
  },
  {
   "cell_type": "code",
   "execution_count": 4,
   "metadata": {},
   "outputs": [
    {
     "name": "stdout",
     "output_type": "stream",
     "text": [
      "--- Left Join ---\n",
      "   Matrikelnummer   Name   Studiengang     Prüfung  Note\n",
      "0             101   Anna    Informatik     Mathe I   1.3\n",
      "1             102   Mark           BWL   Marketing   2.0\n",
      "2             103  Julia  Maschinenbau  Mechanik I   1.7\n",
      "3             104    Tom    Informatik         NaN   NaN\n"
     ]
    }
   ],
   "source": [
    "# Führe einen left join aus\n",
    "df_left = pd.merge(df_personal, df_noten, how='left', on='Matrikelnummer')\n",
    "\n",
    "print(\"--- Left Join ---\")\n",
    "print(df_left)"
   ]
  },
  {
   "cell_type": "code",
   "execution_count": 5,
   "metadata": {},
   "outputs": [
    {
     "name": "stdout",
     "output_type": "stream",
     "text": [
      "--- Mit .join() zusammengefügt ---\n",
      "                 Name   Studiengang          Email\n",
      "Matrikelnummer                                    \n",
      "101              Anna    Informatik   anna@mail.de\n",
      "102              Mark           BWL   mark@mail.de\n",
      "103             Julia  Maschinenbau  julia@mail.de\n",
      "104               Tom    Informatik            NaN\n"
     ]
    }
   ],
   "source": [
    "# .join() für mergen mit indizes\n",
    "# df_personal mit Matrikelnummer als Index\n",
    "df_personal_indexed = df_personal.set_index('Matrikelnummer')\n",
    "\n",
    "# Führe den Join auf dem Index aus\n",
    "df_joined = df_personal_indexed.join(df_kontakt)\n",
    "\n",
    "print(\"--- Mit .join() zusammengefügt ---\")\n",
    "print(df_joined)"
   ]
  }
 ],
 "metadata": {
  "kernelspec": {
   "display_name": "dabi2-test",
   "language": "python",
   "name": "dabi2-test"
  },
  "language_info": {
   "codemirror_mode": {
    "name": "ipython",
    "version": 3
   },
   "file_extension": ".py",
   "mimetype": "text/x-python",
   "name": "python",
   "nbconvert_exporter": "python",
   "pygments_lexer": "ipython3",
   "version": "3.12.9"
  }
 },
 "nbformat": 4,
 "nbformat_minor": 2
}
