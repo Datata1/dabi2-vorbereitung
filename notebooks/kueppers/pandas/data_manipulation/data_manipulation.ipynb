{
 "cells": [
  {
   "cell_type": "code",
   "execution_count": 1,
   "metadata": {},
   "outputs": [
    {
     "name": "stdout",
     "output_type": "stream",
     "text": [
      "Ausgangs-DataFrame:\n",
      "        Name   Studiengang  Semester  Note  ECTS\n",
      "12345   Anna    Informatik         4   1.7   120\n",
      "67890   Mark           BWL         6   2.3   180\n",
      "13579  Julia  Maschinenbau         2   1.0    60\n",
      "24680    Tom    Informatik         4   2.7   110\n"
     ]
    }
   ],
   "source": [
    "import pandas as pd\n",
    "\n",
    "daten = {\n",
    "    'Name': ['Anna', 'Mark', 'Julia', 'Tom'],\n",
    "    'Studiengang': ['Informatik', 'BWL', 'Maschinenbau', 'Informatik'],\n",
    "    'Semester': [4, 6, 2, 4],\n",
    "    'Note': [1.7, 2.3, 1.0, 2.7],\n",
    "    'ECTS': [120, 180, 60, 110]\n",
    "}\n",
    "matrikelnummern = [12345, 67890, 13579, 24680]\n",
    "df = pd.DataFrame(daten, index=matrikelnummern)\n",
    "\n",
    "print(\"Ausgangs-DataFrame:\")\n",
    "print(df)"
   ]
  },
  {
   "cell_type": "code",
   "execution_count": 2,
   "metadata": {},
   "outputs": [
    {
     "name": "stdout",
     "output_type": "stream",
     "text": [
      "--- DataFrame mit neuer Spalte 'ECTS_pro_Semester' ---\n",
      "        Name   Studiengang  Semester  Note  ECTS  ECTS_pro_Semester\n",
      "12345   Anna    Informatik         4   1.7   120               30.0\n",
      "67890   Mark           BWL         6   2.3   180               30.0\n",
      "13579  Julia  Maschinenbau         2   1.0    60               30.0\n",
      "24680    Tom    Informatik         4   2.7   110               27.5\n"
     ]
    }
   ],
   "source": [
    "# Neue Spalte 'ECTS_pro_Semester' berechnen\n",
    "df['ECTS_pro_Semester'] = df['ECTS'] / df['Semester']\n",
    "\n",
    "print(\"--- DataFrame mit neuer Spalte 'ECTS_pro_Semester' ---\")\n",
    "print(df)"
   ]
  },
  {
   "cell_type": "code",
   "execution_count": 3,
   "metadata": {},
   "outputs": [
    {
     "name": "stdout",
     "output_type": "stream",
     "text": [
      "\n",
      "--- DataFrame mit Spalte 'Uni' ---\n",
      "        Name   Studiengang  Semester  Note  ECTS  ECTS_pro_Semester  \\\n",
      "12345   Anna    Informatik         4   1.7   120               30.0   \n",
      "67890   Mark           BWL         6   2.3   180               30.0   \n",
      "13579  Julia  Maschinenbau         2   1.0    60               30.0   \n",
      "24680    Tom    Informatik         4   2.7   110               27.5   \n",
      "\n",
      "                    Uni  \n",
      "12345  Musterhochschule  \n",
      "67890  Musterhochschule  \n",
      "13579  Musterhochschule  \n",
      "24680  Musterhochschule  \n"
     ]
    }
   ],
   "source": [
    "# Fügt eine Spalte 'Uni' mit dem Wert 'Musterhochschule' für alle Zeilen hinzu\n",
    "df['Uni'] = 'Musterhochschule'\n",
    "\n",
    "print(\"\\n--- DataFrame mit Spalte 'Uni' ---\")\n",
    "print(df)"
   ]
  },
  {
   "cell_type": "code",
   "execution_count": 4,
   "metadata": {},
   "outputs": [
    {
     "name": "stdout",
     "output_type": "stream",
     "text": [
      "--- DataFrame nach Entfernen der Spalte 'Uni' ---\n",
      "        Name   Studiengang  Semester  Note  ECTS  ECTS_pro_Semester\n",
      "12345   Anna    Informatik         4   1.7   120               30.0\n",
      "67890   Mark           BWL         6   2.3   180               30.0\n",
      "13579  Julia  Maschinenbau         2   1.0    60               30.0\n",
      "24680    Tom    Informatik         4   2.7   110               27.5\n",
      "\n",
      "--- DataFrame nach Entfernen mehrerer Spalten ---\n",
      "        Name   Studiengang  Semester  Note  ECTS\n",
      "12345   Anna    Informatik         4   1.7   120\n",
      "67890   Mark           BWL         6   2.3   180\n",
      "13579  Julia  Maschinenbau         2   1.0    60\n",
      "24680    Tom    Informatik         4   2.7   110\n"
     ]
    }
   ],
   "source": [
    "# Die Spalte 'Uni' entfernen\n",
    "# Das Ergebnis wird einem neuen DataFrame zugewiesen\n",
    "df_ohne_uni = df.drop('Uni', axis=1)\n",
    "\n",
    "print(\"--- DataFrame nach Entfernen der Spalte 'Uni' ---\")\n",
    "print(df_ohne_uni)\n",
    "\n",
    "# Du kannst auch mehrere Spalten auf einmal entfernen\n",
    "df_reduziert = df.drop(['Uni', 'ECTS_pro_Semester'], axis=1)\n",
    "print(\"\\n--- DataFrame nach Entfernen mehrerer Spalten ---\")\n",
    "print(df_reduziert)"
   ]
  },
  {
   "cell_type": "code",
   "execution_count": 5,
   "metadata": {},
   "outputs": [
    {
     "name": "stdout",
     "output_type": "stream",
     "text": [
      "--- DataFrame nach Entfernen der Zeile mit Index 67890 ---\n",
      "        Name   Studiengang  Semester  Note  ECTS  ECTS_pro_Semester  \\\n",
      "12345   Anna    Informatik         4   1.7   120               30.0   \n",
      "13579  Julia  Maschinenbau         2   1.0    60               30.0   \n",
      "24680    Tom    Informatik         4   2.7   110               27.5   \n",
      "\n",
      "                    Uni  \n",
      "12345  Musterhochschule  \n",
      "13579  Musterhochschule  \n",
      "24680  Musterhochschule  \n"
     ]
    }
   ],
   "source": [
    "# Die Zeile für den Studenten 'Mark' (Index 67890) entfernen\n",
    "df_ohne_mark = df.drop(67890)\n",
    "\n",
    "print(\"--- DataFrame nach Entfernen der Zeile mit Index 67890 ---\")\n",
    "print(df_ohne_mark)"
   ]
  },
  {
   "cell_type": "code",
   "execution_count": 6,
   "metadata": {},
   "outputs": [
    {
     "name": "stdout",
     "output_type": "stream",
     "text": [
      "--- DataFrame mit neuer Spalte 'Praedikat' durch .apply() ---\n",
      "        Name   Studiengang  Semester  Note  ECTS  ECTS_pro_Semester  \\\n",
      "12345   Anna    Informatik         4   1.7   120               30.0   \n",
      "67890   Mark           BWL         6   2.3   180               30.0   \n",
      "13579  Julia  Maschinenbau         2   1.0    60               30.0   \n",
      "24680    Tom    Informatik         4   2.7   110               27.5   \n",
      "\n",
      "                    Uni     Praedikat  \n",
      "12345  Musterhochschule           Gut  \n",
      "67890  Musterhochschule           Gut  \n",
      "13579  Musterhochschule      Sehr Gut  \n",
      "24680  Musterhochschule  Befriedigend  \n"
     ]
    }
   ],
   "source": [
    "# Schritt 1: Definiere eine Funktion\n",
    "def noten_praedikat(note):\n",
    "    if note <= 1.5:\n",
    "        return 'Sehr Gut'\n",
    "    elif note <= 2.5:\n",
    "        return 'Gut'\n",
    "    elif note <= 3.5:\n",
    "        return 'Befriedigend'\n",
    "    else:\n",
    "        return 'Ausreichend'\n",
    "\n",
    "# Schritt 2: Wende die Funktion mit .apply() auf die 'Note'-Spalte an\n",
    "df['Praedikat'] = df['Note'].apply(noten_praedikat)\n",
    "\n",
    "print(\"--- DataFrame mit neuer Spalte 'Praedikat' durch .apply() ---\")\n",
    "print(df)"
   ]
  },
  {
   "cell_type": "code",
   "execution_count": 7,
   "metadata": {},
   "outputs": [
    {
     "name": "stdout",
     "output_type": "stream",
     "text": [
      "--- DataFrame mit umbenannten Spalten ---\n",
      "        Name   Studiengang  Fachsemester  Abschlussnote  ECTS  \\\n",
      "12345   Anna    Informatik             4            1.7   120   \n",
      "67890   Mark           BWL             6            2.3   180   \n",
      "13579  Julia  Maschinenbau             2            1.0    60   \n",
      "24680    Tom    Informatik             4            2.7   110   \n",
      "\n",
      "       ECTS_pro_Semester               Uni     Praedikat  \n",
      "12345               30.0  Musterhochschule           Gut  \n",
      "67890               30.0  Musterhochschule           Gut  \n",
      "13579               30.0  Musterhochschule      Sehr Gut  \n",
      "24680               27.5  Musterhochschule  Befriedigend  \n"
     ]
    }
   ],
   "source": [
    "# Benenne die Spalten 'Note' und 'Semester' um\n",
    "df_renamed = df.rename(columns={'Note': 'Abschlussnote', 'Semester': 'Fachsemester'})\n",
    "\n",
    "print(\"--- DataFrame mit umbenannten Spalten ---\")\n",
    "print(df_renamed)"
   ]
  }
 ],
 "metadata": {
  "kernelspec": {
   "display_name": "dabi2-test",
   "language": "python",
   "name": "dabi2-test"
  },
  "language_info": {
   "codemirror_mode": {
    "name": "ipython",
    "version": 3
   },
   "file_extension": ".py",
   "mimetype": "text/x-python",
   "name": "python",
   "nbconvert_exporter": "python",
   "pygments_lexer": "ipython3",
   "version": "3.12.9"
  }
 },
 "nbformat": 4,
 "nbformat_minor": 2
}
