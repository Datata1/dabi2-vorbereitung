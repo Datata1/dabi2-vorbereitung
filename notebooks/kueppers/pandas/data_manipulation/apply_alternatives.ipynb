{
 "cells": [
  {
   "cell_type": "code",
   "execution_count": 1,
   "metadata": {},
   "outputs": [],
   "source": [
    "# Code aus dem vorigen Schritt zur Wiederverwendung\n",
    "import pandas as pd\n",
    "import numpy as np # Wichtig für die zweite Alternative\n",
    "\n",
    "daten = {\n",
    "    'Name': ['Anna', 'Mark', 'Julia', 'Tom'],\n",
    "    'Studiengang': ['Informatik', 'BWL', 'Maschinenbau', 'Informatik'],\n",
    "    'Semester': [4, 6, 2, 4],\n",
    "    'Note': [1.7, 2.3, 1.0, 2.7]\n",
    "}\n",
    "df = pd.DataFrame(daten)"
   ]
  },
  {
   "cell_type": "markdown",
   "metadata": {},
   "source": [
    "___\n",
    "## Binning\n",
    "Alternative 1: `pd.cut()`` (Die ideale Lösung für Binning)\n",
    "Die Funktion `pd.cut()`` ist speziell dafür gemacht, numerische Daten in \"Bins\" (Kategorien oder Intervalle) einzuteilen. Das ist genau das, was wir hier tun. Diese Methode ist extrem schnell und der empfohlene Weg für solche Aufgaben"
   ]
  },
  {
   "cell_type": "code",
   "execution_count": 3,
   "metadata": {},
   "outputs": [
    {
     "name": "stdout",
     "output_type": "stream",
     "text": [
      "--- Effiziente Kategorisierung mit pd.cut() ---\n",
      "    Name   Studiengang  Semester  Note Praedikat_cut\n",
      "0   Anna    Informatik         4   1.7           Gut\n",
      "1   Mark           BWL         6   2.3           Gut\n",
      "2  Julia  Maschinenbau         2   1.0      Sehr Gut\n",
      "3    Tom    Informatik         4   2.7  Befriedigend\n"
     ]
    }
   ],
   "source": [
    "# Schritt 1: Definiere die Grenzen der Intervalle (Bins).\n",
    "# Die Grenzen sind: (0 -> 1.5], (1.5 -> 2.5], (2.5 -> 3.5], (3.5 -> 5.0]\n",
    "# Die Note 1.0 ist der beste Wert, 5.0 der schlechteste.\n",
    "bins = [0, 1.5, 2.5, 3.5, 5.0]\n",
    "\n",
    "# Schritt 2: Definiere die Labels für jedes Intervall.\n",
    "labels = ['Sehr Gut', 'Gut', 'Befriedigend', 'Ausreichend']\n",
    "\n",
    "# Schritt 3: Wende pd.cut() auf die 'Note'-Spalte an.\n",
    "# `right=True` (Standard) bedeutet, dass die rechte Grenze zum Intervall gehört (z.B. 1.5 zählt zu 'Sehr Gut').\n",
    "df['Praedikat_cut'] = pd.cut(df['Note'], bins=bins, labels=labels, right=True)\n",
    "\n",
    "print(\"--- Effiziente Kategorisierung mit pd.cut() ---\")\n",
    "print(df)"
   ]
  },
  {
   "cell_type": "markdown",
   "metadata": {},
   "source": [
    "___"
   ]
  },
  {
   "cell_type": "markdown",
   "metadata": {},
   "source": [
    "## flexible multiple Bedingungen\n",
    "Alternative 2: np.select() (Die flexible Lösung für multiple Bedingungen)\n",
    "np.select() aus der NumPy-Bibliothek ist eine weitere, sehr schnelle und vektorisierte Möglichkeit, komplexe \"Wenn-Dann\"-Logik umzusetzen. Man erstellt eine Liste von Bedingungen und eine Liste der entsprechenden Werte."
   ]
  },
  {
   "cell_type": "code",
   "execution_count": 5,
   "metadata": {},
   "outputs": [
    {
     "name": "stdout",
     "output_type": "stream",
     "text": [
      "--- Effiziente Kategorisierung mit np.select() ---\n",
      "    Name   Studiengang  Semester  Note Praedikat_cut Praedikat_select\n",
      "0   Anna    Informatik         4   1.7           Gut              Gut\n",
      "1   Mark           BWL         6   2.3           Gut              Gut\n",
      "2  Julia  Maschinenbau         2   1.0      Sehr Gut         Sehr Gut\n",
      "3    Tom    Informatik         4   2.7  Befriedigend     Befriedigend\n"
     ]
    }
   ],
   "source": [
    "# Schritt 1: Definiere eine Liste der Bedingungen.\n",
    "# Die Reihenfolge ist wichtig, da die erste erfüllte Bedingung \"gewinnt\".\n",
    "conditions = [\n",
    "    df['Note'] <= 1.5,\n",
    "    df['Note'] <= 2.5,\n",
    "    df['Note'] <= 3.5,\n",
    "    df['Note'] > 3.5\n",
    "]\n",
    "\n",
    "# Schritt 2: Definiere eine Liste der dazugehörigen Werte (Choices).\n",
    "choices = ['Sehr Gut', 'Gut', 'Befriedigend', 'Ausreichend']\n",
    "\n",
    "# Schritt 3: Wende np.select an.\n",
    "# `default` wird verwendet, falls keine Bedingung zutrifft.\n",
    "df['Praedikat_select'] = np.select(conditions, choices, default='Unbekannt')\n",
    "\n",
    "print(\"--- Effiziente Kategorisierung mit np.select() ---\")\n",
    "print(df)"
   ]
  },
  {
   "cell_type": "markdown",
   "metadata": {},
   "source": [
    "___\n",
    "## String operationen\n",
    "\n",
    "**Szenario**: Du möchtest eine Textoperation auf jede Zelle einer Spalte anwenden (z.B. alles in Kleinbuchstaben umwandeln, Textteile ersetzen oder prüfen, ob ein Wort enthalten ist).\n",
    "\n",
    "**Ineffizienter Weg mit .apply()**:\n",
    "```python\n",
    "df['Studiengang'].apply(lambda x: x.lower())\n",
    "```\n",
    "\n",
    "**Effizienter Weg**: Pandas bietet für Spalten mit dem Datentyp object (meistens Strings) den .str-Accessor an. Dieser führt die String-Operationen optimiert und vektorisiert auf der gesamten Spalte aus."
   ]
  },
  {
   "cell_type": "code",
   "execution_count": 8,
   "metadata": {},
   "outputs": [
    {
     "name": "stdout",
     "output_type": "stream",
     "text": [
      "--- Manipulation mit dem .str-Accessor ---\n",
      "    Name       Studiengang Studiengang_klein  Ist_Master Studiengang_sauber\n",
      "0   Anna       INFO-Master       info-master        True        INFO Master\n",
      "1   Mark      BWL-Bachelor      bwl-bachelor       False       BWL Bachelor\n",
      "2  Julia  MSc Maschinenbau  msc maschinenbau        True   MSc Maschinenbau\n",
      "Name                  object\n",
      "Studiengang           object\n",
      "Studiengang_klein     object\n",
      "Ist_Master              bool\n",
      "Studiengang_sauber    object\n",
      "dtype: object\n"
     ]
    }
   ],
   "source": [
    "import pandas as pd\n",
    "\n",
    "df = pd.DataFrame({\n",
    "    'Name': ['Anna', 'Mark', 'Julia'],\n",
    "    'Studiengang': ['INFO-Master', 'BWL-Bachelor', 'MSc Maschinenbau']\n",
    "})\n",
    "\n",
    "# ALLES IN KLEINBUCHSTABEN UMWANDELN\n",
    "df['Studiengang_klein'] = df['Studiengang'].str.lower()\n",
    "\n",
    "# PRÜFEN, OB EIN STRING ENTHALTEN IST (ERGIBT BOOLEAN)\n",
    "df['Ist_Master'] = df['Studiengang'].str.contains('Master|MSc', case=False)\n",
    "\n",
    "# TEXT ERSETZEN\n",
    "df['Studiengang_sauber'] = df['Studiengang'].str.replace('-', ' ')\n",
    "\n",
    "print(\"--- Manipulation mit dem .str-Accessor ---\")\n",
    "print(df)\n",
    "\n",
    "print(df.dtypes)"
   ]
  },
  {
   "cell_type": "markdown",
   "metadata": {},
   "source": [
    "___\n",
    "**Szenario**: Du hast eine Spalte mit Datums- oder Zeitwerten und möchtest Teile davon extrahieren (z.B. das Jahr, den Monat, den Wochentag).\n",
    "\n",
    "**Ineffizienter Weg mit .apply()**:\n",
    "```python\n",
    "df['Datum'].apply(lambda x: x.year)\n",
    "```\n",
    "\n",
    "**Effizienter Weg**: Ähnlich wie .str gibt es für Spalten mit Datums-Objekten (Datentyp datetime64) den .dt-Accessor.\n",
    "\n"
   ]
  },
  {
   "cell_type": "code",
   "execution_count": 16,
   "metadata": {},
   "outputs": [
    {
     "name": "stdout",
     "output_type": "stream",
     "text": [
      "--- Manipulation mit dem .dt-Accessor ---\n",
      "         Ereignis      Datum  Jahr  Monat  Wochentag  dow\n",
      "0       Klausur A 2025-07-22  2025      7    Tuesday    1\n",
      "1  Projekt-Abgabe 2025-08-15  2025      8     Friday    4\n",
      "2   Semesterstart 2025-10-01  2025     10  Wednesday    2\n",
      "\n",
      "Datentyp der 'Datum'-Spalte: datetime64[ns]\n"
     ]
    }
   ],
   "source": [
    "import pandas as pd\n",
    "\n",
    "df_termine = pd.DataFrame({\n",
    "    'Ereignis': ['Klausur A', 'Projekt-Abgabe', 'Semesterstart'],\n",
    "    # Wichtig: Zuerst in ein echtes Datumsformat umwandeln\n",
    "    'Datum': pd.to_datetime(['2025-07-22', '2025-08-15', '2025-10-01'])\n",
    "})\n",
    "\n",
    "# JAHR, MONAT UND WOCHENTAG EXTRAHIEREN\n",
    "df_termine['Jahr'] = df_termine['Datum'].dt.year\n",
    "df_termine['Monat'] = df_termine['Datum'].dt.month\n",
    "df_termine['Wochentag'] = df_termine['Datum'].dt.day_name()\n",
    "df_termine['dow'] = df_termine[\"Datum\"].dt.dayofweek \n",
    "\n",
    "print(\"--- Manipulation mit dem .dt-Accessor ---\")\n",
    "print(df_termine)\n",
    "print(\"\\nDatentyp der 'Datum'-Spalte:\", df_termine['Datum'].dtype)"
   ]
  },
  {
   "cell_type": "markdown",
   "metadata": {},
   "source": [
    "___\n",
    "**Szenario**: Du möchtest eine neue Spalte basierend auf einer einzigen \"Wenn-Dann-Sonst\"-Bedingung erstellen.\n",
    "\n",
    "**Ineffizienter Weg mit .apply()**:\n",
    "```python\n",
    "df['Note'].apply(lambda x: 'Bestanden' if x <= 4.0 else 'Durchgefallen')\n",
    "```\n",
    "\n",
    "**Effizienter Weg**: Für eine einzelne Bedingung ist np.where von NumPy die schnellste und lesbarste Wahl. Die Syntax ist np.where(bedingung, wert_wenn_wahr, wert_wenn_falsch)."
   ]
  },
  {
   "cell_type": "code",
   "execution_count": 10,
   "metadata": {},
   "outputs": [
    {
     "name": "stdout",
     "output_type": "stream",
     "text": [
      "--- Effiziente Wenn-Dann-Logik mit np.where() ---\n",
      "   Note         Status\n",
      "0   1.3      Bestanden\n",
      "1   2.7      Bestanden\n",
      "2   5.0  Durchgefallen\n",
      "3   3.0      Bestanden\n",
      "4   4.0      Bestanden\n"
     ]
    }
   ],
   "source": [
    "import numpy as np\n",
    "df_noten = pd.DataFrame({'Note': [1.3, 2.7, 5.0, 3.0, 4.0]})\n",
    "\n",
    "# STATUS BASIEREND AUF NOTE SETZEN\n",
    "df_noten['Status'] = np.where(df_noten['Note'] <= 4.0, 'Bestanden', 'Durchgefallen')\n",
    "\n",
    "print(\"--- Effiziente Wenn-Dann-Logik mit np.where() ---\")\n",
    "print(df_noten)"
   ]
  },
  {
   "cell_type": "markdown",
   "metadata": {},
   "source": [
    "___\n",
    "**Szenario**: Du möchtest Werte in einer Spalte basierend auf einer festen Zuordnung (einem Dictionary) ersetzen.\n",
    "\n",
    "**Ineffizienter Weg mit .apply()**:\n",
    "```python\n",
    "df['Kuerzel'].apply(lambda x: mapping_dict.get(x))\n",
    "```\n",
    "\n",
    "**Effizienter Weg**: Die .map()-Methode einer Series ist genau für diesen Zweck optimiert. Sie ist extrem schnell für solche \"Lookups\".\n",
    "\n"
   ]
  },
  {
   "cell_type": "code",
   "execution_count": 11,
   "metadata": {},
   "outputs": [
    {
     "name": "stdout",
     "output_type": "stream",
     "text": [
      "--- Effizientes Ersetzen mit .map() ---\n",
      "  Studiengang_Kuerzel          Studiengang_Voll\n",
      "0                 INF                Informatik\n",
      "1                 BWL  Betriebswirtschaftslehre\n",
      "2                  MB              Maschinenbau\n",
      "3                 INF                Informatik\n"
     ]
    }
   ],
   "source": [
    "df_kuerzel = pd.DataFrame({'Studiengang_Kuerzel': ['INF', 'BWL', 'MB', 'INF']})\n",
    "\n",
    "# ZUORDNUNG (MAPPING) DEFINIEREN\n",
    "studiengang_map = {\n",
    "    'INF': 'Informatik',\n",
    "    'BWL': 'Betriebswirtschaftslehre',\n",
    "    'MB': 'Maschinenbau'\n",
    "}\n",
    "\n",
    "# KUERZEL DURCH VOLLSTÄNDIGE NAMEN ERSETZEN\n",
    "df_kuerzel['Studiengang_Voll'] = df_kuerzel['Studiengang_Kuerzel'].map(studiengang_map)\n",
    "\n",
    "print(\"--- Effizientes Ersetzen mit .map() ---\")\n",
    "print(df_kuerzel)"
   ]
  }
 ],
 "metadata": {
  "kernelspec": {
   "display_name": "dabi2-test",
   "language": "python",
   "name": "dabi2-test"
  },
  "language_info": {
   "codemirror_mode": {
    "name": "ipython",
    "version": 3
   },
   "file_extension": ".py",
   "mimetype": "text/x-python",
   "name": "python",
   "nbconvert_exporter": "python",
   "pygments_lexer": "ipython3",
   "version": "3.12.9"
  }
 },
 "nbformat": 4,
 "nbformat_minor": 2
}
