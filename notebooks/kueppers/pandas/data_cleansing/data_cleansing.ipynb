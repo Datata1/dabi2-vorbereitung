{
 "cells": [
  {
   "cell_type": "code",
   "execution_count": 1,
   "metadata": {},
   "outputs": [
    {
     "name": "stdout",
     "output_type": "stream",
     "text": [
      "DataFrame mit fehlenden Werten:\n",
      "    Name Studiengang  Semester  Note   ECTS\n",
      "0   Anna  Informatik         4   1.7  120.0\n",
      "1   Mark         BWL         6   2.3  180.0\n",
      "2  Julia         NaN         2   1.0   60.0\n",
      "3    Tom  Informatik         4   2.7    NaN\n",
      "4  Laura         BWL         8   NaN  240.0\n",
      "5  Peter  Informatik         2   2.0   55.0\n",
      "6  Sofia         NaN        10   1.3    NaN\n"
     ]
    }
   ],
   "source": [
    "import pandas as pd\n",
    "import numpy as np\n",
    "\n",
    "daten = {\n",
    "    'Name': ['Anna', 'Mark', 'Julia', 'Tom', 'Laura', 'Peter', 'Sofia'],\n",
    "    'Studiengang': ['Informatik', 'BWL', np.nan, 'Informatik', 'BWL', 'Informatik', np.nan],\n",
    "    'Semester': [4, 6, 2, 4, 8, 2, 10],\n",
    "    'Note': [1.7, 2.3, 1.0, 2.7, np.nan, 2.0, 1.3],\n",
    "    'ECTS': [120, 180, 60, np.nan, 240, 55, np.nan]\n",
    "}\n",
    "\n",
    "df = pd.DataFrame(daten)\n",
    "\n",
    "print(\"DataFrame mit fehlenden Werten:\")\n",
    "print(df)"
   ]
  },
  {
   "cell_type": "code",
   "execution_count": 2,
   "metadata": {},
   "outputs": [
    {
     "name": "stdout",
     "output_type": "stream",
     "text": [
      "--- .isnull() ---\n",
      "    Name  Studiengang  Semester   Note   ECTS\n",
      "0  False        False     False  False  False\n",
      "1  False        False     False  False  False\n",
      "2  False         True     False  False  False\n",
      "3  False        False     False  False   True\n",
      "4  False        False     False   True  False\n",
      "5  False        False     False  False  False\n",
      "6  False         True     False  False   True\n",
      "\n",
      "--- Anzahl fehlender Werte pro Spalte ---\n",
      "Name           0\n",
      "Studiengang    2\n",
      "Semester       0\n",
      "Note           1\n",
      "ECTS           2\n",
      "dtype: int64\n"
     ]
    }
   ],
   "source": [
    "# Zeigt an, welche Zellen leer sind\n",
    "print(\"--- .isnull() ---\")\n",
    "print(df.isnull())\n",
    "\n",
    "# Zählt die Anzahl der fehlenden Werte pro Spalte\n",
    "print(\"\\n--- Anzahl fehlender Werte pro Spalte ---\")\n",
    "print(df.isnull().sum())"
   ]
  },
  {
   "cell_type": "code",
   "execution_count": null,
   "metadata": {},
   "outputs": [
    {
     "name": "stdout",
     "output_type": "stream",
     "text": [
      "--- .isnull() ---\n",
      "    Name  Studiengang  Semester   Note   ECTS\n",
      "0  False        False     False  False  False\n",
      "1  False        False     False  False  False\n",
      "2  False         True     False  False  False\n",
      "3  False        False     False  False   True\n",
      "4  False        False     False   True  False\n",
      "5  False        False     False  False  False\n",
      "6  False         True     False  False   True\n",
      "\n",
      "--- Anzahl fehlender Werte pro Spalte ---\n",
      "Name           0\n",
      "Studiengang    2\n",
      "Semester       0\n",
      "Note           1\n",
      "ECTS           2\n",
      "dtype: int64\n"
     ]
    }
   ],
   "source": [
    "# Zeigt an, welche Zellen leer sind\n",
    "print(\"--- .isnull() ---\")\n",
    "print(df.isnull())\n",
    "\n",
    "# Zählt die Anzahl der fehlenden Werte pro Spalte\n",
    "print(\"\\n--- Anzahl fehlender Werte pro Spalte ---\")\n",
    "print(df.isnull().sum())"
   ]
  },
  {
   "cell_type": "markdown",
   "metadata": {},
   "source": []
  },
  {
   "cell_type": "code",
   "execution_count": 4,
   "metadata": {},
   "outputs": [
    {
     "name": "stdout",
     "output_type": "stream",
     "text": [
      "--- DataFrame nach dem Entfernen von Zeilen mit NaN ---\n",
      "    Name Studiengang  Semester  Note   ECTS\n",
      "0   Anna  Informatik         4   1.7  120.0\n",
      "1   Mark         BWL         6   2.3  180.0\n",
      "5  Peter  Informatik         2   2.0   55.0\n"
     ]
    }
   ],
   "source": [
    "# Erstellt einen neuen DataFrame, in dem alle Zeilen mit NaN entfernt wurden\n",
    "df_ohne_nan_zeilen = df.dropna()\n",
    "\n",
    "print(\"--- DataFrame nach dem Entfernen von Zeilen mit NaN ---\")\n",
    "print(df_ohne_nan_zeilen)\n",
    "\n",
    "# Beachte: Der ursprüngliche DataFrame df bleibt unverändert!\n",
    "# print(df)"
   ]
  },
  {
   "cell_type": "code",
   "execution_count": 8,
   "metadata": {},
   "outputs": [
    {
     "name": "stdout",
     "output_type": "stream",
     "text": [
      "--- DataFrame nach dem Entfernen von Spalten mit NaN ---\n",
      "    Name  Semester\n",
      "0   Anna         4\n",
      "1   Mark         6\n",
      "2  Julia         2\n",
      "3    Tom         4\n",
      "4  Laura         8\n",
      "5  Peter         2\n",
      "6  Sofia        10\n"
     ]
    }
   ],
   "source": [
    "# Erstellt einen neuen DataFrame, in dem alle Spalten mit NaN entfernt wurden\n",
    "df_ohne_nan_spalten = df.dropna(axis='columns')\n",
    "\n",
    "print(\"--- DataFrame nach dem Entfernen von Spalten mit NaN ---\")\n",
    "print(df_ohne_nan_spalten)"
   ]
  },
  {
   "cell_type": "code",
   "execution_count": 9,
   "metadata": {},
   "outputs": [
    {
     "name": "stdout",
     "output_type": "stream",
     "text": [
      "--- DataFrame nach dem Füllen mit festen Werten ---\n",
      "    Name Studiengang  Semester  Note   ECTS\n",
      "0   Anna  Informatik         4   1.7  120.0\n",
      "1   Mark         BWL         6   2.3  180.0\n",
      "2  Julia   Unbekannt         2   1.0   60.0\n",
      "3    Tom  Informatik         4   2.7    NaN\n",
      "4  Laura         BWL         8   0.0  240.0\n",
      "5  Peter  Informatik         2   2.0   55.0\n",
      "6  Sofia   Unbekannt        10   1.3    NaN\n"
     ]
    }
   ],
   "source": [
    "# Erstellen einer Kopie, um den Original-DataFrame nicht zu verändern\n",
    "df_filled = df.copy()\n",
    "\n",
    "# Fehlende Noten mit 0.0 füllen\n",
    "df_filled['Note'] = df_filled['Note'].fillna(0.0)\n",
    "\n",
    "# Fehlende Studiengänge mit 'Unbekannt' füllen\n",
    "df_filled['Studiengang'] = df_filled['Studiengang'].fillna('Unbekannt')\n",
    "\n",
    "print(\"--- DataFrame nach dem Füllen mit festen Werten ---\")\n",
    "print(df_filled)"
   ]
  },
  {
   "cell_type": "code",
   "execution_count": 11,
   "metadata": {},
   "outputs": [
    {
     "name": "stdout",
     "output_type": "stream",
     "text": [
      "Der Durchschnitt der ECTS-Punkte ist: 131.00\n",
      "\n",
      "--- DataFrame nach dem Füllen von ECTS mit dem Mittelwert ---\n",
      "    Name Studiengang  Semester  Note   ECTS\n",
      "0   Anna  Informatik         4   1.7  120.0\n",
      "1   Mark         BWL         6   2.3  180.0\n",
      "2  Julia         NaN         2   1.0   60.0\n",
      "3    Tom  Informatik         4   2.7  131.0\n",
      "4  Laura         BWL         8   NaN  240.0\n",
      "5  Peter  Informatik         2   2.0   55.0\n",
      "6  Sofia         NaN        10   1.3  131.0\n"
     ]
    }
   ],
   "source": [
    "# Erstellen einer Kopie\n",
    "df_filled_mean = df.copy()\n",
    "\n",
    "# Berechne den Mittelwert der ECTS-Punkte (ignoriert NaN automatisch)\n",
    "mean_ects = df_filled_mean['ECTS'].mean()\n",
    "print(f\"Der Durchschnitt der ECTS-Punkte ist: {mean_ects:.2f}\")\n",
    "\n",
    "# Fülle die NaN-Werte in der ECTS-Spalte mit dem berechneten Mittelwert\n",
    "df_filled_mean['ECTS'] = df_filled_mean['ECTS'].fillna(mean_ects)\n",
    "\n",
    "print(\"\\n--- DataFrame nach dem Füllen von ECTS mit dem Mittelwert ---\")\n",
    "print(df_filled_mean)"
   ]
  }
 ],
 "metadata": {
  "kernelspec": {
   "display_name": "dabi2-test",
   "language": "python",
   "name": "dabi2-test"
  },
  "language_info": {
   "codemirror_mode": {
    "name": "ipython",
    "version": 3
   },
   "file_extension": ".py",
   "mimetype": "text/x-python",
   "name": "python",
   "nbconvert_exporter": "python",
   "pygments_lexer": "ipython3",
   "version": "3.12.9"
  }
 },
 "nbformat": 4,
 "nbformat_minor": 2
}
