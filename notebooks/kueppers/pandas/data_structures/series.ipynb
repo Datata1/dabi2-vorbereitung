{
 "cells": [
  {
   "cell_type": "code",
   "execution_count": 1,
   "metadata": {},
   "outputs": [
    {
     "name": "stdout",
     "output_type": "stream",
     "text": [
      "Einfache Pandas Series:\n",
      "0    1.3\n",
      "1    2.0\n",
      "2    1.7\n",
      "3    3.0\n",
      "4    2.3\n",
      "dtype: float64\n"
     ]
    }
   ],
   "source": [
    "import pandas as pd\n",
    "\n",
    "noten = pd.Series([1.3, 2.0, 1.7, 3.0, 2.3])\n",
    "\n",
    "print(\"Einfache Pandas Series:\")\n",
    "print(noten)"
   ]
  },
  {
   "cell_type": "code",
   "execution_count": 11,
   "metadata": {},
   "outputs": [
    {
     "name": "stdout",
     "output_type": "stream",
     "text": [
      "Werte der Series:\n",
      "[1.3 2.  1.7 3.  2.3]\n",
      "\n",
      "Index der Series:\n",
      "RangeIndex(start=0, stop=5, step=1)\n",
      "\n",
      "Erster Wert der Series:\n",
      "2.3\n"
     ]
    }
   ],
   "source": [
    "print(\"Werte der Series:\")\n",
    "print(noten.values)\n",
    "\n",
    "print(\"\\nIndex der Series:\")\n",
    "print(noten.index)\n",
    "\n",
    "print(\"\\nErster Wert der Series:\")\n",
    "print(noten[4])"
   ]
  },
  {
   "cell_type": "code",
   "execution_count": 9,
   "metadata": {},
   "outputs": [
    {
     "name": "stdout",
     "output_type": "stream",
     "text": [
      "Series mit benutzerdefiniertem Index:\n",
      "Mathe       1.3\n",
      "Deutsch     2.0\n",
      "Englisch    1.7\n",
      "Sport       3.0\n",
      "dtype: float64\n",
      "\n",
      "Note in Mathe: 1.3\n",
      "2.0\n"
     ]
    }
   ],
   "source": [
    "# Erstellen einer Series mit Fächern als Index\n",
    "noten_pro_fach = pd.Series([1.3, 2.0, 1.7, 3.0], index=['Mathe', 'Deutsch', 'Englisch', 'Sport'])\n",
    "\n",
    "print(\"Series mit benutzerdefiniertem Index:\")\n",
    "print(noten_pro_fach)\n",
    "\n",
    "# Zugriff auf ein Element über den Label-Index\n",
    "print(\"\\nNote in Mathe:\", noten_pro_fach['Mathe'])"
   ]
  }
 ],
 "metadata": {
  "kernelspec": {
   "display_name": "dabi2-test",
   "language": "python",
   "name": "dabi2-test"
  },
  "language_info": {
   "codemirror_mode": {
    "name": "ipython",
    "version": 3
   },
   "file_extension": ".py",
   "mimetype": "text/x-python",
   "name": "python",
   "nbconvert_exporter": "python",
   "pygments_lexer": "ipython3",
   "version": "3.12.9"
  }
 },
 "nbformat": 4,
 "nbformat_minor": 2
}
