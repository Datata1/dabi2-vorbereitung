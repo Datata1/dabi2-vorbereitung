{
 "cells": [
  {
   "cell_type": "code",
   "execution_count": 1,
   "metadata": {},
   "outputs": [
    {
     "name": "stdout",
     "output_type": "stream",
     "text": [
      "Pandas DataFrame:\n",
      "    Name   Studiengang  Semester  Immatrikuliert\n",
      "0   Anna    Informatik         4            True\n",
      "1   Mark           BWL         6           False\n",
      "2  Julia  Maschinenbau         2            True\n",
      "3    Tom    Informatik         4            True\n"
     ]
    }
   ],
   "source": [
    "import pandas as pd\n",
    "# Daten für Studierende in einem Dictionary\n",
    "daten = {\n",
    "    'Name': ['Anna', 'Mark', 'Julia', 'Tom'],\n",
    "    'Studiengang': ['Informatik', 'BWL', 'Maschinenbau', 'Informatik'],\n",
    "    'Semester': [4, 6, 2, 4],\n",
    "    'Immatrikuliert': [True, False, True, True]\n",
    "}\n",
    "\n",
    "# Erstellen des DataFrame\n",
    "df_studierende = pd.DataFrame(daten)\n",
    "\n",
    "print(\"Pandas DataFrame:\")\n",
    "print(df_studierende)"
   ]
  },
  {
   "cell_type": "code",
   "execution_count": 2,
   "metadata": {},
   "outputs": [
    {
     "name": "stdout",
     "output_type": "stream",
     "text": [
      "Datentypen der Spalten:\n",
      "Name              object\n",
      "Studiengang       object\n",
      "Semester           int64\n",
      "Immatrikuliert      bool\n",
      "dtype: object\n",
      "\n",
      "Spalten des DataFrame:\n",
      "Index(['Name', 'Studiengang', 'Semester', 'Immatrikuliert'], dtype='object')\n",
      "\n",
      "Index des DataFrame:\n",
      "RangeIndex(start=0, stop=4, step=1)\n"
     ]
    }
   ],
   "source": [
    "# Anzeigen der Datentypen pro Spalte\n",
    "print(\"Datentypen der Spalten:\")\n",
    "print(df_studierende.dtypes)\n",
    "\n",
    "# Anzeigen der Spaltennamen\n",
    "print(\"\\nSpalten des DataFrame:\")\n",
    "print(df_studierende.columns)\n",
    "\n",
    "# Anzeigen des Index\n",
    "print(\"\\nIndex des DataFrame:\")\n",
    "print(df_studierende.index)"
   ]
  }
 ],
 "metadata": {
  "kernelspec": {
   "display_name": "dabi2-test",
   "language": "python",
   "name": "dabi2-test"
  },
  "language_info": {
   "codemirror_mode": {
    "name": "ipython",
    "version": 3
   },
   "file_extension": ".py",
   "mimetype": "text/x-python",
   "name": "python",
   "nbconvert_exporter": "python",
   "pygments_lexer": "ipython3",
   "version": "3.12.9"
  }
 },
 "nbformat": 4,
 "nbformat_minor": 2
}
