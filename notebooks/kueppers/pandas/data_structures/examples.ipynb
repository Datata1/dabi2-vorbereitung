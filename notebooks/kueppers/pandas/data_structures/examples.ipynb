{
 "cells": [
  {
   "cell_type": "markdown",
   "metadata": {},
   "source": [
    "**Aufgabe 1.1**: Erstellen einer einfachen Series\n",
    "Erstelle eine Pandas Series mit dem Namen durchschnittsnoten, die die folgenden Noten von fünf Studierenden enthält: 1.7, 2.3, 1.0, 3.0, 2.0. Gib die Series aus.\n"
   ]
  },
  {
   "cell_type": "code",
   "execution_count": 1,
   "metadata": {},
   "outputs": [
    {
     "name": "stdout",
     "output_type": "stream",
     "text": [
      "0    1.7\n",
      "1    2.3\n",
      "2    1.0\n",
      "3    3.0\n",
      "4    2.0\n",
      "dtype: float64\n"
     ]
    }
   ],
   "source": [
    "import pandas as pd\n",
    "\n",
    "marks = pd.Series([1.7, 2.3, 1.0, 3.0, 2.0])\n",
    "\n",
    "print(marks)\n"
   ]
  },
  {
   "cell_type": "markdown",
   "metadata": {},
   "source": [
    "___\n",
    "**Aufgabe 1.2**: Series mit benutzerdefiniertem Index\n",
    "Erstelle die gleiche Series wie in Aufgabe 1.1, aber verwende dieses Mal die Namen der Studierenden als Index: 'Anna', 'Mark', 'Julia', 'Tom', 'Laura'.\n"
   ]
  },
  {
   "cell_type": "code",
   "execution_count": 2,
   "metadata": {},
   "outputs": [
    {
     "name": "stdout",
     "output_type": "stream",
     "text": [
      "Anna     1.7\n",
      "Mark     2.3\n",
      "Julia    1.0\n",
      "Tom      3.0\n",
      "Laura    2.0\n",
      "dtype: float64\n"
     ]
    }
   ],
   "source": [
    "import pandas as pd\n",
    "\n",
    "indices = ['Anna', 'Mark', 'Julia', 'Tom', 'Laura']\n",
    "\n",
    "marks = pd.Series([1.7, 2.3, 1.0, 3.0, 2.0], index=indices)\n",
    "\n",
    "print(marks)\n"
   ]
  },
  {
   "cell_type": "markdown",
   "metadata": {},
   "source": [
    "___\n",
    "**Aufgabe 1.3**: Zugriff auf ein Element\n",
    "Greife auf die Note von 'Julia' aus der Series von Aufgabe 1.2 zu und gib sie aus.\n",
    "\n"
   ]
  },
  {
   "cell_type": "code",
   "execution_count": 4,
   "metadata": {},
   "outputs": [
    {
     "name": "stdout",
     "output_type": "stream",
     "text": [
      "1.0\n"
     ]
    }
   ],
   "source": [
    "print(marks['Julia'])"
   ]
  },
  {
   "cell_type": "markdown",
   "metadata": {},
   "source": [
    "___\n",
    "**Aufgabe 1.4**: Eine grundlegende Berechnung\n",
    "Berechne die Durchschnittsnote aller Studierenden aus der Series von Aufgabe 1.2 mit einer eingebauten Pandas-Methode.\n"
   ]
  },
  {
   "cell_type": "code",
   "execution_count": 6,
   "metadata": {},
   "outputs": [
    {
     "name": "stdout",
     "output_type": "stream",
     "text": [
      "2.0\n"
     ]
    }
   ],
   "source": [
    "mean = marks.mean()\n",
    "print(mean)"
   ]
  },
  {
   "cell_type": "markdown",
   "metadata": {},
   "source": [
    "___\n",
    "**Aufgabe 1.5**: Erstellen eines DataFrame\n",
    "Erstelle einen DataFrame namens df_autos, der Informationen über drei Autos enthält. Der DataFrame soll die folgenden Spalten haben:\n",
    "\n",
    "Marke: 'Volkswagen', 'Mercedes-Benz', 'BMW'\n",
    "Modell: 'Golf', 'C-Klasse', '3er'\n",
    "PS: 150, 258, 184\n",
    "Baujahr: 2021, 2022, 2020\n",
    "Gib den gesamten DataFrame aus.\n"
   ]
  },
  {
   "cell_type": "code",
   "execution_count": 8,
   "metadata": {},
   "outputs": [
    {
     "name": "stdout",
     "output_type": "stream",
     "text": [
      "        Marke    Modell   PS  Baujahr\n",
      "0  Volkswagen      Golf  150     2021\n",
      "1         BMW       3er  258     2022\n",
      "2    Mercedes  C-Klasse  184     2020\n"
     ]
    }
   ],
   "source": [
    "df_autos = pd.DataFrame({\n",
    "    'Marke': ['Volkswagen', 'BMW', 'Mercedes'],\n",
    "    'Modell': ['Golf', '3er', 'C-Klasse'],\n",
    "    'PS': [150, 258, 184],\n",
    "    'Baujahr': [2021, 2022, 2020]\n",
    "})\n",
    "print(df_autos)"
   ]
  },
  {
   "cell_type": "markdown",
   "metadata": {},
   "source": [
    "___\n",
    "**Aufgabe 1.6**: Spalten auswählen\n",
    "Wähle nur die Spalten Marke und PS aus dem df_autos aus und gib das Ergebnis aus.\n"
   ]
  },
  {
   "cell_type": "code",
   "execution_count": 22,
   "metadata": {},
   "outputs": [
    {
     "data": {
      "text/html": [
       "<div>\n",
       "<style scoped>\n",
       "    .dataframe tbody tr th:only-of-type {\n",
       "        vertical-align: middle;\n",
       "    }\n",
       "\n",
       "    .dataframe tbody tr th {\n",
       "        vertical-align: top;\n",
       "    }\n",
       "\n",
       "    .dataframe thead th {\n",
       "        text-align: right;\n",
       "    }\n",
       "</style>\n",
       "<table border=\"1\" class=\"dataframe\">\n",
       "  <thead>\n",
       "    <tr style=\"text-align: right;\">\n",
       "      <th></th>\n",
       "      <th>Marke</th>\n",
       "      <th>PS</th>\n",
       "    </tr>\n",
       "  </thead>\n",
       "  <tbody>\n",
       "    <tr>\n",
       "      <th>0</th>\n",
       "      <td>Volkswagen</td>\n",
       "      <td>150</td>\n",
       "    </tr>\n",
       "    <tr>\n",
       "      <th>1</th>\n",
       "      <td>BMW</td>\n",
       "      <td>258</td>\n",
       "    </tr>\n",
       "    <tr>\n",
       "      <th>2</th>\n",
       "      <td>Mercedes</td>\n",
       "      <td>184</td>\n",
       "    </tr>\n",
       "  </tbody>\n",
       "</table>\n",
       "</div>"
      ],
      "text/plain": [
       "        Marke   PS\n",
       "0  Volkswagen  150\n",
       "1         BMW  258\n",
       "2    Mercedes  184"
      ]
     },
     "execution_count": 22,
     "metadata": {},
     "output_type": "execute_result"
    }
   ],
   "source": [
    "df_neu = df_autos[['Marke', 'PS']]\n",
    "\n",
    "df_neu"
   ]
  },
  {
   "cell_type": "markdown",
   "metadata": {},
   "source": [
    "___\n",
    "**Aufgabe 1.7**: Eine neue Spalte hinzufügen\n",
    "Füge dem df_autos eine neue Spalte namens ist_neuwagen hinzu. Der Wert soll für alle drei Autos False sein. Gib den modifizierten DataFrame aus.\n"
   ]
  },
  {
   "cell_type": "code",
   "execution_count": 24,
   "metadata": {},
   "outputs": [
    {
     "data": {
      "text/html": [
       "<div>\n",
       "<style scoped>\n",
       "    .dataframe tbody tr th:only-of-type {\n",
       "        vertical-align: middle;\n",
       "    }\n",
       "\n",
       "    .dataframe tbody tr th {\n",
       "        vertical-align: top;\n",
       "    }\n",
       "\n",
       "    .dataframe thead th {\n",
       "        text-align: right;\n",
       "    }\n",
       "</style>\n",
       "<table border=\"1\" class=\"dataframe\">\n",
       "  <thead>\n",
       "    <tr style=\"text-align: right;\">\n",
       "      <th></th>\n",
       "      <th>Marke</th>\n",
       "      <th>Modell</th>\n",
       "      <th>PS</th>\n",
       "      <th>Baujahr</th>\n",
       "      <th>ist_neuwagen</th>\n",
       "    </tr>\n",
       "  </thead>\n",
       "  <tbody>\n",
       "    <tr>\n",
       "      <th>0</th>\n",
       "      <td>Volkswagen</td>\n",
       "      <td>Golf</td>\n",
       "      <td>150</td>\n",
       "      <td>2021</td>\n",
       "      <td>True</td>\n",
       "    </tr>\n",
       "    <tr>\n",
       "      <th>1</th>\n",
       "      <td>BMW</td>\n",
       "      <td>3er</td>\n",
       "      <td>258</td>\n",
       "      <td>2022</td>\n",
       "      <td>True</td>\n",
       "    </tr>\n",
       "    <tr>\n",
       "      <th>2</th>\n",
       "      <td>Mercedes</td>\n",
       "      <td>C-Klasse</td>\n",
       "      <td>184</td>\n",
       "      <td>2020</td>\n",
       "      <td>False</td>\n",
       "    </tr>\n",
       "  </tbody>\n",
       "</table>\n",
       "</div>"
      ],
      "text/plain": [
       "        Marke    Modell   PS  Baujahr  ist_neuwagen\n",
       "0  Volkswagen      Golf  150     2021          True\n",
       "1         BMW       3er  258     2022          True\n",
       "2    Mercedes  C-Klasse  184     2020         False"
      ]
     },
     "execution_count": 24,
     "metadata": {},
     "output_type": "execute_result"
    }
   ],
   "source": [
    "df_autos['ist_neuwagen'] = df_autos['Baujahr'] >= 2021\n",
    "\n",
    "df_autos"
   ]
  },
  {
   "cell_type": "markdown",
   "metadata": {},
   "source": [
    "___\n",
    "**Aufgabe 1.8**: Den Index ändern\n",
    "Setze die Spalte Modell als neuen Index für den df_autos. Gib den DataFrame danach erneut aus, um das Ergebnis zu überprüfen."
   ]
  },
  {
   "cell_type": "code",
   "execution_count": 26,
   "metadata": {},
   "outputs": [
    {
     "data": {
      "text/html": [
       "<div>\n",
       "<style scoped>\n",
       "    .dataframe tbody tr th:only-of-type {\n",
       "        vertical-align: middle;\n",
       "    }\n",
       "\n",
       "    .dataframe tbody tr th {\n",
       "        vertical-align: top;\n",
       "    }\n",
       "\n",
       "    .dataframe thead th {\n",
       "        text-align: right;\n",
       "    }\n",
       "</style>\n",
       "<table border=\"1\" class=\"dataframe\">\n",
       "  <thead>\n",
       "    <tr style=\"text-align: right;\">\n",
       "      <th></th>\n",
       "      <th>Marke</th>\n",
       "      <th>PS</th>\n",
       "      <th>Baujahr</th>\n",
       "      <th>ist_neuwagen</th>\n",
       "    </tr>\n",
       "    <tr>\n",
       "      <th>Modell</th>\n",
       "      <th></th>\n",
       "      <th></th>\n",
       "      <th></th>\n",
       "      <th></th>\n",
       "    </tr>\n",
       "  </thead>\n",
       "  <tbody>\n",
       "    <tr>\n",
       "      <th>Golf</th>\n",
       "      <td>Volkswagen</td>\n",
       "      <td>150</td>\n",
       "      <td>2021</td>\n",
       "      <td>True</td>\n",
       "    </tr>\n",
       "    <tr>\n",
       "      <th>3er</th>\n",
       "      <td>BMW</td>\n",
       "      <td>258</td>\n",
       "      <td>2022</td>\n",
       "      <td>True</td>\n",
       "    </tr>\n",
       "    <tr>\n",
       "      <th>C-Klasse</th>\n",
       "      <td>Mercedes</td>\n",
       "      <td>184</td>\n",
       "      <td>2020</td>\n",
       "      <td>False</td>\n",
       "    </tr>\n",
       "  </tbody>\n",
       "</table>\n",
       "</div>"
      ],
      "text/plain": [
       "               Marke   PS  Baujahr  ist_neuwagen\n",
       "Modell                                          \n",
       "Golf      Volkswagen  150     2021          True\n",
       "3er              BMW  258     2022          True\n",
       "C-Klasse    Mercedes  184     2020         False"
      ]
     },
     "execution_count": 26,
     "metadata": {},
     "output_type": "execute_result"
    }
   ],
   "source": [
    "df_autos.set_index('Modell', inplace=True)\n",
    "df_autos"
   ]
  }
 ],
 "metadata": {
  "kernelspec": {
   "display_name": "dabi2-test",
   "language": "python",
   "name": "dabi2-test"
  },
  "language_info": {
   "codemirror_mode": {
    "name": "ipython",
    "version": 3
   },
   "file_extension": ".py",
   "mimetype": "text/x-python",
   "name": "python",
   "nbconvert_exporter": "python",
   "pygments_lexer": "ipython3",
   "version": "3.12.9"
  }
 },
 "nbformat": 4,
 "nbformat_minor": 2
}
