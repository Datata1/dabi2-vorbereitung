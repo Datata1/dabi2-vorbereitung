{
 "cells": [
  {
   "cell_type": "markdown",
   "metadata": {},
   "source": [
    "# Aufgabe (1): Daten einladen, aufbereiten und kombinieren\n",
    "\n",
    "**Wichtige Schritte:**\n",
    "\n",
    "- Einlesen der orders und tips Datensätze.\n",
    "- Umwandeln der Datumsspalte in ein echtes datetime-Objekt.\n",
    "- Zusammenführen der Tabellen. Der left join stellt sicher, dass wir alle Bestellungen behalten und die Bestellungen aus dem Test-Set (ohne Trinkgeld-Info) - einen NaN-Wert erhalten.\n",
    "- Umwandeln der 'yes'/'no' tip-Spalte in ein numerisches Format (1/0).\n",
    "- Entscheidend für Zeitreihen: Sortieren der Daten nach user_id und dann nach order_date, um die korrekte chronologische Reihenfolge für jeden User sicherzustellen."
   ]
  },
  {
   "cell_type": "code",
   "execution_count": 2,
   "metadata": {},
   "outputs": [
    {
     "data": {
      "text/html": [
       "<div>\n",
       "<style scoped>\n",
       "    .dataframe tbody tr th:only-of-type {\n",
       "        vertical-align: middle;\n",
       "    }\n",
       "\n",
       "    .dataframe tbody tr th {\n",
       "        vertical-align: top;\n",
       "    }\n",
       "\n",
       "    .dataframe thead th {\n",
       "        text-align: right;\n",
       "    }\n",
       "</style>\n",
       "<table border=\"1\" class=\"dataframe\">\n",
       "  <thead>\n",
       "    <tr style=\"text-align: right;\">\n",
       "      <th></th>\n",
       "      <th>order_id</th>\n",
       "      <th>user_id</th>\n",
       "      <th>order_date</th>\n",
       "      <th>tip</th>\n",
       "    </tr>\n",
       "  </thead>\n",
       "  <tbody>\n",
       "    <tr>\n",
       "      <th>0</th>\n",
       "      <td>1374495</td>\n",
       "      <td>3</td>\n",
       "      <td>2024-03-31 14:05:18</td>\n",
       "      <td>1.0</td>\n",
       "    </tr>\n",
       "    <tr>\n",
       "      <th>1</th>\n",
       "      <td>444309</td>\n",
       "      <td>3</td>\n",
       "      <td>2024-04-09 19:45:51</td>\n",
       "      <td>1.0</td>\n",
       "    </tr>\n",
       "    <tr>\n",
       "      <th>2</th>\n",
       "      <td>3002854</td>\n",
       "      <td>3</td>\n",
       "      <td>2024-04-30 16:25:20</td>\n",
       "      <td>1.0</td>\n",
       "    </tr>\n",
       "  </tbody>\n",
       "</table>\n",
       "</div>"
      ],
      "text/plain": [
       "   order_id  user_id          order_date  tip\n",
       "0   1374495        3 2024-03-31 14:05:18  1.0\n",
       "1    444309        3 2024-04-09 19:45:51  1.0\n",
       "2   3002854        3 2024-04-30 16:25:20  1.0"
      ]
     },
     "execution_count": 2,
     "metadata": {},
     "output_type": "execute_result"
    }
   ],
   "source": [
    "import pandas as pd\n",
    "import numpy as np\n",
    "import matplotlib.pyplot as plt\n",
    "import seaborn as sns\n",
    "from statsmodels.graphics.tsaplots import plot_acf, plot_pacf\n",
    "from statsmodels.tsa.ar_model import AutoReg\n",
    "import math\n",
    "from sklearn.linear_model import LinearRegression\n",
    "\n",
    "\n",
    "\n",
    "sns.set_theme(style=\"whitegrid\")\n",
    "\n",
    "try:\n",
    "    orders = pd.read_parquet('data/orders.parquet')\n",
    "    tips = pd.read_csv('data/tips_public.csv') \n",
    "except FileNotFoundError:\n",
    "    print(\"FEHLER: Stellen Sie sicher, dass 'orders.parquet' und 'tips_public.csv' im richtigen Verzeichnis liegen.\")\n",
    "\n",
    "orders['order_date'] = pd.to_datetime(orders['order_date'])\n",
    "df = pd.merge(orders, tips, on='order_id', how='left')\n",
    "df.drop('Unnamed: 0', axis=1, inplace=True)\n",
    "\n",
    "df['tip'] = df['tip'].map({True: 1.0, False: 0.0})\n",
    "\n",
    "df.sort_values(by=['user_id', 'order_date'], inplace=True)\n",
    "df.reset_index(drop=True, inplace=True)\n",
    "\n",
    "df.head(3)"
   ]
  },
  {
   "cell_type": "markdown",
   "metadata": {},
   "source": [
    "___\n",
    "# Vorbereitung für die Zeitreihenanalyse: Lag-Features erstellen\n",
    "\n",
    "Bezug zur Vorlesung und den Hinweisen:\n",
    "Wie in der Vorlesung besprochen und im Hinweisblatt empfohlen, können Standard-Zeitreihenfunktionen hier nicht direkt angewendet werden. Wir müssen manuell \"Lag-Features\" erstellen, also Spalten, die den Trinkgeld-Status der vorherigen Bestellungen enthalten.\n",
    "\n",
    "Wir verwenden die groupby('user_id').shift(k)-Methode. Dies stellt sicher, dass die Lag-Werte korrekt pro User berechnet werden und am Anfang der Bestellhistorie eines neuen Users korrekterweise NaN steht. Wir erstellen Lags für bis zu 5 vorhergehende Bestellungen, wie im Hinweisblatt vorgeschlagen."
   ]
  },
  {
   "cell_type": "code",
   "execution_count": 3,
   "metadata": {},
   "outputs": [
    {
     "data": {
      "text/html": [
       "<div>\n",
       "<style scoped>\n",
       "    .dataframe tbody tr th:only-of-type {\n",
       "        vertical-align: middle;\n",
       "    }\n",
       "\n",
       "    .dataframe tbody tr th {\n",
       "        vertical-align: top;\n",
       "    }\n",
       "\n",
       "    .dataframe thead th {\n",
       "        text-align: right;\n",
       "    }\n",
       "</style>\n",
       "<table border=\"1\" class=\"dataframe\">\n",
       "  <thead>\n",
       "    <tr style=\"text-align: right;\">\n",
       "      <th></th>\n",
       "      <th>order_id</th>\n",
       "      <th>user_id</th>\n",
       "      <th>order_date</th>\n",
       "      <th>tip</th>\n",
       "      <th>tip_lag_1</th>\n",
       "      <th>tip_lag_2</th>\n",
       "      <th>tip_lag_3</th>\n",
       "      <th>tip_lag_4</th>\n",
       "      <th>tip_lag_5</th>\n",
       "      <th>tip_lag_6</th>\n",
       "      <th>...</th>\n",
       "      <th>tip_lag_11</th>\n",
       "      <th>tip_lag_12</th>\n",
       "      <th>tip_lag_13</th>\n",
       "      <th>tip_lag_14</th>\n",
       "      <th>tip_lag_15</th>\n",
       "      <th>tip_lag_16</th>\n",
       "      <th>tip_lag_17</th>\n",
       "      <th>tip_lag_18</th>\n",
       "      <th>tip_lag_19</th>\n",
       "      <th>tip_lag_20</th>\n",
       "    </tr>\n",
       "  </thead>\n",
       "  <tbody>\n",
       "    <tr>\n",
       "      <th>0</th>\n",
       "      <td>1374495</td>\n",
       "      <td>3</td>\n",
       "      <td>2024-03-31 14:05:18</td>\n",
       "      <td>1.0</td>\n",
       "      <td>NaN</td>\n",
       "      <td>NaN</td>\n",
       "      <td>NaN</td>\n",
       "      <td>NaN</td>\n",
       "      <td>NaN</td>\n",
       "      <td>NaN</td>\n",
       "      <td>...</td>\n",
       "      <td>NaN</td>\n",
       "      <td>NaN</td>\n",
       "      <td>NaN</td>\n",
       "      <td>NaN</td>\n",
       "      <td>NaN</td>\n",
       "      <td>NaN</td>\n",
       "      <td>NaN</td>\n",
       "      <td>NaN</td>\n",
       "      <td>NaN</td>\n",
       "      <td>NaN</td>\n",
       "    </tr>\n",
       "    <tr>\n",
       "      <th>1</th>\n",
       "      <td>444309</td>\n",
       "      <td>3</td>\n",
       "      <td>2024-04-09 19:45:51</td>\n",
       "      <td>1.0</td>\n",
       "      <td>1.0</td>\n",
       "      <td>NaN</td>\n",
       "      <td>NaN</td>\n",
       "      <td>NaN</td>\n",
       "      <td>NaN</td>\n",
       "      <td>NaN</td>\n",
       "      <td>...</td>\n",
       "      <td>NaN</td>\n",
       "      <td>NaN</td>\n",
       "      <td>NaN</td>\n",
       "      <td>NaN</td>\n",
       "      <td>NaN</td>\n",
       "      <td>NaN</td>\n",
       "      <td>NaN</td>\n",
       "      <td>NaN</td>\n",
       "      <td>NaN</td>\n",
       "      <td>NaN</td>\n",
       "    </tr>\n",
       "    <tr>\n",
       "      <th>2</th>\n",
       "      <td>3002854</td>\n",
       "      <td>3</td>\n",
       "      <td>2024-04-30 16:25:20</td>\n",
       "      <td>1.0</td>\n",
       "      <td>1.0</td>\n",
       "      <td>1.0</td>\n",
       "      <td>NaN</td>\n",
       "      <td>NaN</td>\n",
       "      <td>NaN</td>\n",
       "      <td>NaN</td>\n",
       "      <td>...</td>\n",
       "      <td>NaN</td>\n",
       "      <td>NaN</td>\n",
       "      <td>NaN</td>\n",
       "      <td>NaN</td>\n",
       "      <td>NaN</td>\n",
       "      <td>NaN</td>\n",
       "      <td>NaN</td>\n",
       "      <td>NaN</td>\n",
       "      <td>NaN</td>\n",
       "      <td>NaN</td>\n",
       "    </tr>\n",
       "    <tr>\n",
       "      <th>3</th>\n",
       "      <td>2037211</td>\n",
       "      <td>3</td>\n",
       "      <td>2024-05-20 18:31:28</td>\n",
       "      <td>1.0</td>\n",
       "      <td>1.0</td>\n",
       "      <td>1.0</td>\n",
       "      <td>1.0</td>\n",
       "      <td>NaN</td>\n",
       "      <td>NaN</td>\n",
       "      <td>NaN</td>\n",
       "      <td>...</td>\n",
       "      <td>NaN</td>\n",
       "      <td>NaN</td>\n",
       "      <td>NaN</td>\n",
       "      <td>NaN</td>\n",
       "      <td>NaN</td>\n",
       "      <td>NaN</td>\n",
       "      <td>NaN</td>\n",
       "      <td>NaN</td>\n",
       "      <td>NaN</td>\n",
       "      <td>NaN</td>\n",
       "    </tr>\n",
       "    <tr>\n",
       "      <th>4</th>\n",
       "      <td>2710558</td>\n",
       "      <td>3</td>\n",
       "      <td>2024-06-01 17:52:27</td>\n",
       "      <td>1.0</td>\n",
       "      <td>1.0</td>\n",
       "      <td>1.0</td>\n",
       "      <td>1.0</td>\n",
       "      <td>1.0</td>\n",
       "      <td>NaN</td>\n",
       "      <td>NaN</td>\n",
       "      <td>...</td>\n",
       "      <td>NaN</td>\n",
       "      <td>NaN</td>\n",
       "      <td>NaN</td>\n",
       "      <td>NaN</td>\n",
       "      <td>NaN</td>\n",
       "      <td>NaN</td>\n",
       "      <td>NaN</td>\n",
       "      <td>NaN</td>\n",
       "      <td>NaN</td>\n",
       "      <td>NaN</td>\n",
       "    </tr>\n",
       "    <tr>\n",
       "      <th>5</th>\n",
       "      <td>1972919</td>\n",
       "      <td>3</td>\n",
       "      <td>2024-06-08 16:55:12</td>\n",
       "      <td>1.0</td>\n",
       "      <td>1.0</td>\n",
       "      <td>1.0</td>\n",
       "      <td>1.0</td>\n",
       "      <td>1.0</td>\n",
       "      <td>1.0</td>\n",
       "      <td>NaN</td>\n",
       "      <td>...</td>\n",
       "      <td>NaN</td>\n",
       "      <td>NaN</td>\n",
       "      <td>NaN</td>\n",
       "      <td>NaN</td>\n",
       "      <td>NaN</td>\n",
       "      <td>NaN</td>\n",
       "      <td>NaN</td>\n",
       "      <td>NaN</td>\n",
       "      <td>NaN</td>\n",
       "      <td>NaN</td>\n",
       "    </tr>\n",
       "    <tr>\n",
       "      <th>6</th>\n",
       "      <td>1839752</td>\n",
       "      <td>3</td>\n",
       "      <td>2024-06-15 15:04:06</td>\n",
       "      <td>0.0</td>\n",
       "      <td>1.0</td>\n",
       "      <td>1.0</td>\n",
       "      <td>1.0</td>\n",
       "      <td>1.0</td>\n",
       "      <td>1.0</td>\n",
       "      <td>1.0</td>\n",
       "      <td>...</td>\n",
       "      <td>NaN</td>\n",
       "      <td>NaN</td>\n",
       "      <td>NaN</td>\n",
       "      <td>NaN</td>\n",
       "      <td>NaN</td>\n",
       "      <td>NaN</td>\n",
       "      <td>NaN</td>\n",
       "      <td>NaN</td>\n",
       "      <td>NaN</td>\n",
       "      <td>NaN</td>\n",
       "    </tr>\n",
       "    <tr>\n",
       "      <th>7</th>\n",
       "      <td>3225766</td>\n",
       "      <td>3</td>\n",
       "      <td>2024-06-22 17:49:38</td>\n",
       "      <td>1.0</td>\n",
       "      <td>0.0</td>\n",
       "      <td>1.0</td>\n",
       "      <td>1.0</td>\n",
       "      <td>1.0</td>\n",
       "      <td>1.0</td>\n",
       "      <td>1.0</td>\n",
       "      <td>...</td>\n",
       "      <td>NaN</td>\n",
       "      <td>NaN</td>\n",
       "      <td>NaN</td>\n",
       "      <td>NaN</td>\n",
       "      <td>NaN</td>\n",
       "      <td>NaN</td>\n",
       "      <td>NaN</td>\n",
       "      <td>NaN</td>\n",
       "      <td>NaN</td>\n",
       "      <td>NaN</td>\n",
       "    </tr>\n",
       "    <tr>\n",
       "      <th>8</th>\n",
       "      <td>3160850</td>\n",
       "      <td>3</td>\n",
       "      <td>2024-06-29 16:49:34</td>\n",
       "      <td>0.0</td>\n",
       "      <td>1.0</td>\n",
       "      <td>0.0</td>\n",
       "      <td>1.0</td>\n",
       "      <td>1.0</td>\n",
       "      <td>1.0</td>\n",
       "      <td>1.0</td>\n",
       "      <td>...</td>\n",
       "      <td>NaN</td>\n",
       "      <td>NaN</td>\n",
       "      <td>NaN</td>\n",
       "      <td>NaN</td>\n",
       "      <td>NaN</td>\n",
       "      <td>NaN</td>\n",
       "      <td>NaN</td>\n",
       "      <td>NaN</td>\n",
       "      <td>NaN</td>\n",
       "      <td>NaN</td>\n",
       "    </tr>\n",
       "    <tr>\n",
       "      <th>9</th>\n",
       "      <td>676467</td>\n",
       "      <td>3</td>\n",
       "      <td>2024-07-16 16:27:44</td>\n",
       "      <td>1.0</td>\n",
       "      <td>0.0</td>\n",
       "      <td>1.0</td>\n",
       "      <td>0.0</td>\n",
       "      <td>1.0</td>\n",
       "      <td>1.0</td>\n",
       "      <td>1.0</td>\n",
       "      <td>...</td>\n",
       "      <td>NaN</td>\n",
       "      <td>NaN</td>\n",
       "      <td>NaN</td>\n",
       "      <td>NaN</td>\n",
       "      <td>NaN</td>\n",
       "      <td>NaN</td>\n",
       "      <td>NaN</td>\n",
       "      <td>NaN</td>\n",
       "      <td>NaN</td>\n",
       "      <td>NaN</td>\n",
       "    </tr>\n",
       "  </tbody>\n",
       "</table>\n",
       "<p>10 rows × 24 columns</p>\n",
       "</div>"
      ],
      "text/plain": [
       "   order_id  user_id          order_date  tip  tip_lag_1  tip_lag_2  \\\n",
       "0   1374495        3 2024-03-31 14:05:18  1.0        NaN        NaN   \n",
       "1    444309        3 2024-04-09 19:45:51  1.0        1.0        NaN   \n",
       "2   3002854        3 2024-04-30 16:25:20  1.0        1.0        1.0   \n",
       "3   2037211        3 2024-05-20 18:31:28  1.0        1.0        1.0   \n",
       "4   2710558        3 2024-06-01 17:52:27  1.0        1.0        1.0   \n",
       "5   1972919        3 2024-06-08 16:55:12  1.0        1.0        1.0   \n",
       "6   1839752        3 2024-06-15 15:04:06  0.0        1.0        1.0   \n",
       "7   3225766        3 2024-06-22 17:49:38  1.0        0.0        1.0   \n",
       "8   3160850        3 2024-06-29 16:49:34  0.0        1.0        0.0   \n",
       "9    676467        3 2024-07-16 16:27:44  1.0        0.0        1.0   \n",
       "\n",
       "   tip_lag_3  tip_lag_4  tip_lag_5  tip_lag_6  ...  tip_lag_11  tip_lag_12  \\\n",
       "0        NaN        NaN        NaN        NaN  ...         NaN         NaN   \n",
       "1        NaN        NaN        NaN        NaN  ...         NaN         NaN   \n",
       "2        NaN        NaN        NaN        NaN  ...         NaN         NaN   \n",
       "3        1.0        NaN        NaN        NaN  ...         NaN         NaN   \n",
       "4        1.0        1.0        NaN        NaN  ...         NaN         NaN   \n",
       "5        1.0        1.0        1.0        NaN  ...         NaN         NaN   \n",
       "6        1.0        1.0        1.0        1.0  ...         NaN         NaN   \n",
       "7        1.0        1.0        1.0        1.0  ...         NaN         NaN   \n",
       "8        1.0        1.0        1.0        1.0  ...         NaN         NaN   \n",
       "9        0.0        1.0        1.0        1.0  ...         NaN         NaN   \n",
       "\n",
       "   tip_lag_13  tip_lag_14  tip_lag_15  tip_lag_16  tip_lag_17  tip_lag_18  \\\n",
       "0         NaN         NaN         NaN         NaN         NaN         NaN   \n",
       "1         NaN         NaN         NaN         NaN         NaN         NaN   \n",
       "2         NaN         NaN         NaN         NaN         NaN         NaN   \n",
       "3         NaN         NaN         NaN         NaN         NaN         NaN   \n",
       "4         NaN         NaN         NaN         NaN         NaN         NaN   \n",
       "5         NaN         NaN         NaN         NaN         NaN         NaN   \n",
       "6         NaN         NaN         NaN         NaN         NaN         NaN   \n",
       "7         NaN         NaN         NaN         NaN         NaN         NaN   \n",
       "8         NaN         NaN         NaN         NaN         NaN         NaN   \n",
       "9         NaN         NaN         NaN         NaN         NaN         NaN   \n",
       "\n",
       "   tip_lag_19  tip_lag_20  \n",
       "0         NaN         NaN  \n",
       "1         NaN         NaN  \n",
       "2         NaN         NaN  \n",
       "3         NaN         NaN  \n",
       "4         NaN         NaN  \n",
       "5         NaN         NaN  \n",
       "6         NaN         NaN  \n",
       "7         NaN         NaN  \n",
       "8         NaN         NaN  \n",
       "9         NaN         NaN  \n",
       "\n",
       "[10 rows x 24 columns]"
      ]
     },
     "execution_count": 3,
     "metadata": {},
     "output_type": "execute_result"
    }
   ],
   "source": [
    "# --- Schritt 4: Lag-Features erstellen ---\n",
    "for i in range(1, 21):\n",
    "    df[f'tip_lag_{i}'] = df.groupby('user_id')['tip'].shift(i)\n",
    "df[df['user_id'] == 3].head(10)"
   ]
  },
  {
   "cell_type": "markdown",
   "metadata": {},
   "source": [
    "# Aufgabe (2): Beantwortung der analytischen Fragen\n",
    "\n",
    "Jetzt, da unser DataFrame df die Spalten tip_lag_1 bis tip_lag_5 enthält, können wir die Fragen aus der Aufgabenstellung systematisch beantworten.\n",
    "\n",
    "#### Aufgabe 2a: Das AR(1)-Modell - Vorhersage aus der letzten Bestellung\n",
    "\n",
    "**Fragestellung:**\n",
    "- Mit welcher Genauigkeit lässt sich die Trinkgeldgabe bei einer Bestellung aus der Information vorhersagen, ob der User bei der vorhergehenden Bestellung Trinkgeld gegeben hat? (AR(1)-Modell)\n",
    "\n",
    "**Bezug zur Vorlesung und den Hinweisen:**\n",
    "Wie im Hinweisblatt beschrieben, bauen wir hier kein komplexes statistisches Modell, sondern nutzen den Fakt, dass unsere Variablen binär (0 oder 1) sind.\n",
    "\n",
    "- Das \"Modell\": Unser AR(1)-Modell ist eine einfache \"Lookup-Tabelle\". Wir berechnen aus den Daten zwei bedingte Wahrscheinlichkeiten:\n",
    "    - P(aktuelles Trinkgeld = 1 | vorheriges Trinkgeld = 1)\n",
    "    - P(aktuelles Trinkgeld = 1 | vorheriges Trinkgeld = 0)\n",
    "- Die \"Prognose\": Wir erstellen eine Vorhersage basierend auf einer einfachen Regel: Wenn die für den Fall zutreffende Wahrscheinlichkeit größer als 50% ist, sagen wir 1 (Trinkgeld) voraus, ansonsten 0.\n",
    "- Die \"Genauigkeit\": Wir messen die Accuracy, indem wir den Anteil der korrekten Vorhersagen an allen Vorhersagen berechnen."
   ]
  },
  {
   "cell_type": "code",
   "execution_count": 4,
   "metadata": {},
   "outputs": [
    {
     "name": "stdout",
     "output_type": "stream",
     "text": [
      "Anzahl der verwendbaren Datenpunkte für das AR(1)-Modell: 1339256\n"
     ]
    }
   ],
   "source": [
    "# --- Schritt 1: Trainingsdaten für das AR(1)-Modell erstellen ---\n",
    "df_ar1 = df[['tip', 'tip_lag_1']].dropna()\n",
    "print(f\"Anzahl der verwendbaren Datenpunkte für das AR(1)-Modell: {len(df_ar1)}\")"
   ]
  },
  {
   "cell_type": "code",
   "execution_count": 5,
   "metadata": {},
   "outputs": [
    {
     "name": "stdout",
     "output_type": "stream",
     "text": [
      "AR(1)-Modell (Bedingte Wahrscheinlichkeiten):\n",
      "tip_lag_1\n",
      "0.0    0.284437\n",
      "1.0    0.747873\n",
      "Name: tip, dtype: float64\n"
     ]
    }
   ],
   "source": [
    "ar1_model = df_ar1.groupby('tip_lag_1')['tip'].mean()\n",
    "\n",
    "print(\"AR(1)-Modell (Bedingte Wahrscheinlichkeiten):\")\n",
    "print(ar1_model)"
   ]
  },
  {
   "cell_type": "markdown",
   "metadata": {},
   "source": [
    "**Interpretation des Modells**\n",
    "\n",
    "Das Ergebnis ist unsere \"Lookup-Tabelle\":\n",
    "\n",
    "Wenn bei der letzten Bestellung kein Trinkgeld gegeben wurde (tip_lag_1 = 0.0), liegt die Wahrscheinlichkeit für ein Trinkgeld bei dieser Bestellung bei ca. 28.4%.\n",
    "Wenn bei der letzten Bestellung Trinkgeld gegeben wurde (tip_lag_1 = 1.0), liegt die Wahrscheinlichkeit für ein erneutes Trinkgeld bei ca. 74.7%.\n",
    "Das zeigt bereits eine starke Autokorrelation. Nun berechnen wir die Genauigkeit basierend auf diesen Wahrscheinlichkeiten."
   ]
  },
  {
   "cell_type": "code",
   "execution_count": 6,
   "metadata": {},
   "outputs": [
    {
     "name": "stdout",
     "output_type": "stream",
     "text": [
      "Prognosen für die ersten 5 Zeilen:\n",
      "   tip  tip_lag_1  prognose_wahrscheinlichkeit  prognose_klasse\n",
      "1  1.0        1.0                     0.747873              1.0\n",
      "2  1.0        1.0                     0.747873              1.0\n",
      "3  1.0        1.0                     0.747873              1.0\n",
      "4  1.0        1.0                     0.747873              1.0\n",
      "5  1.0        1.0                     0.747873              1.0\n",
      "--------------------------------------------------\n",
      "Genauigkeit des AR(1)-Modells: 73.27%\n"
     ]
    }
   ],
   "source": [
    "from sklearn.metrics import accuracy_score\n",
    "\n",
    "df_ar1['prognose_wahrscheinlichkeit'] = df_ar1['tip_lag_1'].map(ar1_model)\n",
    "df_ar1['prognose_klasse'] = (df_ar1['prognose_wahrscheinlichkeit'] > 0.5).astype(float)\n",
    "\n",
    "accuracy_ar1 = accuracy_score(df_ar1['tip'], df_ar1['prognose_klasse'])\n",
    "\n",
    "print(\"Prognosen für die ersten 5 Zeilen:\")\n",
    "print(df_ar1.head())\n",
    "print(\"-\" * 50)\n",
    "print(f\"Genauigkeit des AR(1)-Modells: {accuracy_ar1:.2%}\")"
   ]
  },
  {
   "cell_type": "markdown",
   "metadata": {},
   "source": [
    "**Antwort zu Aufgabe 2a:**\n",
    "\n",
    "Die Genauigkeit (Accuracy), mit der die Trinkgeldgabe bei einer Bestellung allein aus der Information der vorhergehenden Bestellung vorhergesagt werden kann, beträgt ca. 70.16%. Dies ist unser erster Basiswert, den wir in den nächsten Schritten zu verbessern versuchen.\n",
    "\n",
    "___\n",
    "\n",
    "## Aufgabe 2b: Das AR(2)-Modell - Vorhersage aus den letzten beiden Bestellungen\n",
    "\n",
    "**Fragestellung:**\n",
    "\n",
    "Mit welcher Genauigkeit lässt sich die Trinkgeldgabe vorhersagen, wenn man zusätzlich zu (a) die Information als Input benutzt, ob bei der vor-vorhergehenden Bestellung eines Users Trinkgeld gegeben wurde? (AR(2)-Modell)\n",
    "\n",
    "**Konzept:**\n",
    "Wir erweitern unser vorheriges Modell. Die Vorhersage für `tip_t` basiert nun auf `tip_t-1` und `tip_t-2`.\n",
    "\n",
    "- Das \"Modell\": Unsere Lookup-Tabelle wird größer. Anstatt 2 hat sie nun 2^2=4 Einträge für jede mögliche Kombination der letzten beiden Trinkgeld-Entscheidungen:\n",
    "    - Fall 1: Letztes Mal Tip (1), vorletztes Mal Tip (1)\n",
    "    - Fall 2: Letztes Mal Tip (1), vorletztes Mal kein Tip (0)\n",
    "    - Fall 3: Letztes Mal kein Tip (0), vorletztes Mal Tip (1)\n",
    "    - Fall 4: Letztes Mal kein Tip (0), vorletztes Mal kein Tip (0)\n",
    "- **Prognose & Genauigkeit:** Die Logik bleibt gleich. Wir berechnen für jeden der 4 Fälle die bedingte Wahrscheinlichkeit für ein Trinkgeld und nutzen die 50%-Schwelle für unsere Prognose. Dann messen wir die Accuracy."
   ]
  },
  {
   "cell_type": "code",
   "execution_count": 7,
   "metadata": {},
   "outputs": [
    {
     "name": "stdout",
     "output_type": "stream",
     "text": [
      "Anzahl der verwendbaren Datenpunkte für das AR(2)-Modell: 1277217\n"
     ]
    }
   ],
   "source": [
    "df_ar2 = df[['tip', 'tip_lag_1', 'tip_lag_2']].dropna()\n",
    "print(f\"Anzahl der verwendbaren Datenpunkte für das AR(2)-Modell: {len(df_ar2)}\")"
   ]
  },
  {
   "cell_type": "code",
   "execution_count": 8,
   "metadata": {},
   "outputs": [
    {
     "name": "stdout",
     "output_type": "stream",
     "text": [
      "AR(2)-Modell (Bedingte Wahrscheinlichkeiten):\n",
      "tip_lag_1  tip_lag_2\n",
      "0.0        0.0          0.220910\n",
      "           1.0          0.446050\n",
      "1.0        0.0          0.570385\n",
      "           1.0          0.809381\n",
      "Name: tip, dtype: float64\n"
     ]
    }
   ],
   "source": [
    "ar2_model = df_ar2.groupby(['tip_lag_1', 'tip_lag_2'])['tip'].mean()\n",
    "print(\"AR(2)-Modell (Bedingte Wahrscheinlichkeiten):\")\n",
    "print(ar2_model)"
   ]
  },
  {
   "cell_type": "markdown",
   "metadata": {},
   "source": [
    "**Interpretation des Modells**\n",
    "Unsere neue, detailliertere Lookup-Tabelle zeigt:\n",
    "\n",
    "- Wenn in den letzten beiden Bestellungen kein Trinkgeld gegeben wurde (tip_lag_1=0, tip_lag_2=0), ist die Wahrscheinlichkeit für ein Trinkgeld jetzt nur ca. 22,1%.\n",
    "- Wenn beide Male Trinkgeld gegeben wurde (tip_lag_1=1, tip_lag_2=1), steigt die Wahrscheinlichkeit auf ca. 80.9%.\n",
    "\n",
    "Die Historie scheint also eine noch größere Rolle zu spielen. Wir prüfen, ob sich dies in einer höheren Genauigkeit niederschlägt."
   ]
  },
  {
   "cell_type": "code",
   "execution_count": 9,
   "metadata": {},
   "outputs": [
    {
     "name": "stdout",
     "output_type": "stream",
     "text": [
      "Genauigkeit des AR(1)-Modells: 73.27%\n",
      "Genauigkeit des AR(2)-Modells: 73.30%\n"
     ]
    }
   ],
   "source": [
    "# --- Schritt 3: Prognose erstellen und Genauigkeit berechnen ---\n",
    "\n",
    "# Um die Wahrscheinlichkeiten auf die ursprünglichen Daten zu mappen, ist ein Merge einfacher als .map()\n",
    "ar2_model_df = ar2_model.reset_index().rename(columns={'tip': 'prognose_wahrscheinlichkeit'})\n",
    "df_ar2 = pd.merge(df_ar2, ar2_model_df, on=['tip_lag_1', 'tip_lag_2'], how='left')\n",
    "\n",
    "# Erstellen der finalen Prognose basierend auf der 50%-Schwelle\n",
    "df_ar2['prognose_klasse'] = (df_ar2['prognose_wahrscheinlichkeit'] > 0.5).astype(int)\n",
    "\n",
    "accuracy_ar2 = accuracy_score(df_ar2['tip'], df_ar2['prognose_klasse'])\n",
    "\n",
    "print(f\"Genauigkeit des AR(1)-Modells: {accuracy_ar1:.2%}\")\n",
    "print(f\"Genauigkeit des AR(2)-Modells: {accuracy_ar2:.2%}\")"
   ]
  },
  {
   "cell_type": "markdown",
   "metadata": {},
   "source": [
    "**Antwort zu Aufgabe 2b:**\n",
    "Die Genauigkeit des AR(2)-Modells beträgt ca. 70.43%.\n",
    "\n",
    "**Vergleich:** Das AR(2)-Modell (73.27%) ist geringfügig genauer als das AR(1)-Modell (73.27%). Die Information über die vorletzte Bestellung liefert also einen kleinen, aber messbaren zusätzlichen Beitrag zur Vorhersagegenauigkeit.\n",
    "\n",
    "___\n",
    "\n",
    "## Aufgabe 2c: ACF, PACF und das optimale AR(n)-Modell\n",
    "\n",
    "**Fragestellung:**\n",
    "\n",
    "Untersuchen Sie die Autokorrelationen und partiellen Autokorrelationen der Zeitreihe und schätzen Sie daraus ab, welchen Wert für n man verwenden sollte, wenn man ein AR(n)-Modell für diese Zeitreihe benutzt. Welche Genauigkeit erreicht dieses optimale AR(n)-Modell?\n",
    "\n",
    "Bezug zur Vorlesung und den Hinweisen:\n",
    "\n",
    "- **ACF**: Wir berechnen die Autokorrelation mit dem robusten groupby().shift()-Ansatz, indem wir die Korrelationsmatrix der Lag-Features erstellen.\n",
    "- **PACF:** Die manuelle Implementierung der partiellen Autokorrelation ist aufwendig. Laut Hinweis des Professors sollen wir uns darauf konzentrieren, das Konzept zu verstehen. Wir werden daher die PACF konzeptionell bestimmen, indem wir die schrittweise Verbesserung der Modellgenauigkeit analysieren. Der \"optimale\" Lag n ist der Punkt, an dem das Hinzufügen eines weiteren Lags keine signifikante Verbesserung mehr bringt."
   ]
  },
  {
   "cell_type": "code",
   "execution_count": 10,
   "metadata": {},
   "outputs": [
    {
     "name": "stdout",
     "output_type": "stream",
     "text": [
      "Autokorrelationsfunktion (ACF) für Lags 1-5:\n",
      "tip_lag_1    0.463457\n",
      "tip_lag_2    0.397025\n",
      "tip_lag_3    0.376928\n",
      "tip_lag_4    0.368941\n",
      "tip_lag_5    0.361936\n",
      "Name: tip, dtype: float64\n"
     ]
    },
    {
     "data": {
      "image/png": "[encoded data removed]",
      "text/plain": [
       "<Figure size 1000x500 with 1 Axes>"
      ]
     },
     "metadata": {},
     "output_type": "display_data"
    }
   ],
   "source": [
    "# --- Schritt 1: ACF berechnen ---\n",
    "\n",
    "# Wähle die relevanten Spalten aus\n",
    "df_corr = df[['tip', 'tip_lag_1', 'tip_lag_2', 'tip_lag_3', 'tip_lag_4', 'tip_lag_5']]\n",
    "\n",
    "# Berechne die Korrelationsmatrix\n",
    "corr_matrix = df_corr.corr()\n",
    "\n",
    "# Extrahiere die ACF-Werte (die Korrelation von 'tip' mit den Lag-Spalten)\n",
    "acf_values = corr_matrix['tip'][1:] # Wir ignorieren die Korrelation mit sich selbst (Lag 0)\n",
    "\n",
    "print(\"Autokorrelationsfunktion (ACF) für Lags 1-5:\")\n",
    "print(acf_values)\n",
    "\n",
    "# Visualisierung als Balkendiagramm\n",
    "plt.figure(figsize=(10, 5))\n",
    "acf_values.plot(kind='bar')\n",
    "plt.title('Autokorrelation (ACF) der Trinkgeld-Zeitreihe')\n",
    "plt.xlabel('Lag')\n",
    "plt.ylabel('Korrelation')\n",
    "plt.axhline(0, color='grey', linewidth=0.8)\n",
    "plt.show()"
   ]
  },
  {
   "cell_type": "code",
   "execution_count": 11,
   "metadata": {},
   "outputs": [
    {
     "name": "stdout",
     "output_type": "stream",
     "text": [
      "PACF(1) = ACF(1) = 0.4635\n"
     ]
    }
   ],
   "source": [
    "# --- Schritt 2.1: Vorbereitung und PACF(1) ---\n",
    "# PACF(1) ist per Definition identisch mit ACF(1)\n",
    "pacf_1 = acf_values.loc['tip_lag_1']\n",
    "\n",
    "print(f\"PACF(1) = ACF(1) = {pacf_1:.4f}\")"
   ]
  },
  {
   "cell_type": "code",
   "execution_count": 12,
   "metadata": {},
   "outputs": [],
   "source": [
    "def calculate_pacf(df, lag):\n",
    "\n",
    "    \n",
    "    # Sonderfall: PACF(1) ist identisch mit ACF(1)\n",
    "    if lag == 1:\n",
    "        return df[['tip', 'tip_lag_1']].corr().iloc[0, 1]\n",
    "    \n",
    "    # --- Vorbereitung für Lags > 1 ---\n",
    "    intermediate_lags = [f'tip_lag_{i}' for i in range(1, lag)]\n",
    "    required_cols = ['tip', f'tip_lag_{lag}'] + intermediate_lags\n",
    "    df_pacf = df[required_cols].dropna()\n",
    "\n",
    "    # --- Regression 1: \"Säubern\" der Zielvariable 'tip' ---\n",
    "    X_intermediate = df_pacf[intermediate_lags]\n",
    "    y_target = df_pacf['tip']\n",
    "    \n",
    "    model1 = LinearRegression().fit(X_intermediate, y_target)\n",
    "    residuals_tip = y_target - model1.predict(X_intermediate)\n",
    "        \n",
    "    y_lag_n = df_pacf[f'tip_lag_{lag}']\n",
    "    \n",
    "    model2 = LinearRegression().fit(X_intermediate, y_lag_n)\n",
    "    residuals_tip_lag_n = y_lag_n - model2.predict(X_intermediate)\n",
    "    \n",
    "    # --- Finale Berechnung ---\n",
    "    pacf_value = residuals_tip.corr(residuals_tip_lag_n)\n",
    "    \n",
    "    return pacf_value"
   ]
  },
  {
   "cell_type": "code",
   "execution_count": 13,
   "metadata": {},
   "outputs": [
    {
     "name": "stdout",
     "output_type": "stream",
     "text": [
      "PACF(1) = 0.4635\n",
      "PACF(2) = 0.2325\n",
      "PACF(3) = 0.1732\n",
      "PACF(4) = 0.1423\n",
      "PACF(5) = 0.1177\n",
      "PACF(6) = 0.1022\n",
      "PACF(7) = 0.0879\n",
      "PACF(8) = 0.0808\n",
      "PACF(9) = 0.0716\n",
      "PACF(10) = 0.0670\n",
      "PACF(11) = 0.0608\n",
      "PACF(12) = 0.0549\n",
      "PACF(13) = 0.0517\n",
      "PACF(14) = 0.0499\n",
      "PACF(15) = 0.0435\n",
      "PACF(16) = 0.0435\n",
      "PACF(17) = 0.0393\n",
      "PACF(18) = 0.0391\n",
      "PACF(19) = 0.0354\n",
      "PACF(20) = 0.0327\n"
     ]
    },
    {
     "data": {
      "image/png": "[encoded data removed]",
      "text/plain": [
       "<Figure size 1000x500 with 1 Axes>"
      ]
     },
     "metadata": {},
     "output_type": "display_data"
    }
   ],
   "source": [
    "pacf_values_dict = {}\n",
    "\n",
    "# Schleife, um die Funktion für die Lags 1 bis 5 aufzurufen\n",
    "max_lag_to_calc = 20\n",
    "for n in range(1, max_lag_to_calc + 1):\n",
    "    pacf_val = calculate_pacf(df, lag=n)\n",
    "    pacf_values_dict[f'lag_{n}'] = pacf_val\n",
    "    print(f\"PACF({n}) = {pacf_val:.4f}\")\n",
    "\n",
    "# Ergebnisse in eine Pandas Series umwandeln für die Visualisierung\n",
    "pacf_values = pd.Series(pacf_values_dict)\n",
    "\n",
    "plt.figure(figsize=(10, 5))\n",
    "pacf_values.plot(kind='bar')\n",
    "plt.title('Partielle Autokorrelation (PACF) der Trinkgeld-Zeitreihe')\n",
    "plt.xlabel('Lag')\n",
    "plt.ylabel('Partielle Korrelation')\n",
    "plt.axhline(0, color='grey', linewidth=0.8)\n",
    "\n",
    "# Konfidenzintervall\n",
    "n_obs = len(df.dropna()) # Gesamtzahl der Beobachtungen für eine grobe Schätzung\n",
    "conf_interval = 2 / np.sqrt(n_obs)\n",
    "plt.axhline(conf_interval, color='steelblue', linestyle='--')\n",
    "plt.axhline(-conf_interval, color='steelblue', linestyle='--')\n",
    "plt.show()"
   ]
  },
  {
   "cell_type": "code",
   "execution_count": 14,
   "metadata": {},
   "outputs": [
    {
     "name": "stdout",
     "output_type": "stream",
     "text": [
      "Genauigkeit der AR(n)-Modelle:\n",
      "AR(1)     0.732668\n",
      "AR(2)     0.733032\n",
      "AR(3)     0.733456\n",
      "AR(4)     0.740431\n",
      "AR(5)     0.742220\n",
      "AR(6)     0.742994\n",
      "AR(7)     0.745338\n",
      "AR(8)     0.746198\n",
      "AR(9)     0.747433\n",
      "AR(10)    0.748444\n",
      "AR(11)    0.749997\n",
      "AR(12)    0.751767\n",
      "AR(13)    0.755087\n",
      "AR(14)    0.760954\n",
      "AR(15)    0.770673\n",
      "AR(16)    0.785928\n",
      "AR(17)    0.807691\n",
      "AR(18)    0.834240\n",
      "AR(19)    0.861400\n",
      "AR(20)    0.886556\n",
      "dtype: float64\n"
     ]
    },
    {
     "data": {
      "image/png": "[encoded data removed]",
      "text/plain": [
       "<Figure size 1000x500 with 1 Axes>"
      ]
     },
     "metadata": {},
     "output_type": "display_data"
    }
   ],
   "source": [
    "# --- Schritt 2: Genauigkeit für AR(1) bis AR(5) berechnen ---\n",
    "accuracies = {}\n",
    "for n in range(1, 21):\n",
    "    lags = [f'tip_lag_{i}' for i in range(1, n + 1)]\n",
    "    cols_to_use = ['tip'] + lags\n",
    "    \n",
    "    # Erstelle das Trainingset für das jeweilige AR(n)-Modell\n",
    "    df_arn = df[cols_to_use].dropna()\n",
    "    # Lerne das \"Modell\" (die Lookup-Tabelle)\n",
    "    arn_model = df_arn.groupby(lags)['tip'].mean()\n",
    "    arn_model_df = arn_model.reset_index().rename(columns={'tip': 'prognose_wahrscheinlichkeit'})\n",
    "    df_arn = pd.merge(df_arn, arn_model_df, on=lags, how='left')\n",
    "    df_arn['prognose_klasse'] = (df_arn['prognose_wahrscheinlichkeit'] > 0.5).astype(int)\n",
    "    \n",
    "    accuracy = accuracy_score(df_arn['tip'], df_arn['prognose_klasse'])\n",
    "    accuracies[f'AR({n})'] = accuracy\n",
    "\n",
    "accuracy_series = pd.Series(accuracies)\n",
    "print(\"Genauigkeit der AR(n)-Modelle:\")\n",
    "print(accuracy_series)\n",
    "\n",
    "plt.figure(figsize=(10, 5))\n",
    "accuracy_series.plot(kind='line', marker='o')\n",
    "plt.title('Modell-Genauigkeit in Abhängigkeit der Ordnung n')\n",
    "plt.xlabel('AR(n) Modell')\n",
    "plt.ylabel('Accuracy')\n",
    "plt.ylim(bottom=accuracy_series.min() * 0.99, top=accuracy_series.max() * 1.01) \n",
    "plt.grid(True)\n",
    "plt.show()"
   ]
  },
  {
   "cell_type": "markdown",
   "metadata": {},
   "source": [
    "___\n",
    "\n"
   ]
  },
  {
   "cell_type": "markdown",
   "metadata": {},
   "source": [
    "## Aufgabe 1d"
   ]
  },
  {
   "cell_type": "code",
   "execution_count": 20,
   "metadata": {},
   "outputs": [
    {
     "data": {
      "text/plain": [
       "order_date\n",
       "2024-01-17    0.337838\n",
       "2024-01-18    0.418605\n",
       "2024-01-19    0.448276\n",
       "2024-01-20    0.542802\n",
       "2024-01-21    0.555039\n",
       "                ...   \n",
       "2025-04-17    0.857143\n",
       "2025-04-18    0.400000\n",
       "2025-04-19         NaN\n",
       "2025-04-20         NaN\n",
       "2025-04-21         NaN\n",
       "Freq: D, Name: tip, Length: 461, dtype: float64"
      ]
     },
     "execution_count": 20,
     "metadata": {},
     "output_type": "execute_result"
    }
   ],
   "source": [
    "df_sorted = df.copy().set_index('order_date').sort_index()\n",
    "\n",
    "daily_tip_rate = df_sorted['tip'].resample('D').mean()\n",
    "daily_tip_rate\n"
   ]
  },
  {
   "cell_type": "code",
   "execution_count": 22,
   "metadata": {},
   "outputs": [
    {
     "data": {
      "application/vnd.plotly.v1+json": {
       "config": {
        "plotlyServerURL": "https://plot.ly"
       },
       "data": [
        {
         "hovertemplate": "x=%{x}<br>y=%{y}<extra></extra>",
         "legendgroup": "",
         "line": {
          "color": "#636efa",
          "dash": "solid"
         },
         "marker": {
          "symbol": "circle"
         },
         "mode": "lines",
         "name": "",
         "orientation": "v",
         "showlegend": false,
         "type": "scatter",
         "x": [
          "2024-01-17T00:00:00",
          "2024-01-18T00:00:00",
          "2024-01-19T00:00:00",
          "2024-01-20T00:00:00",
          "2024-01-21T00:00:00",
          "2024-01-22T00:00:00",
          "2024-01-23T00:00:00",
          "2024-01-24T00:00:00",
          "2024-01-25T00:00:00",
          "2024-01-26T00:00:00",
          "2024-01-27T00:00:00",
          "2024-01-28T00:00:00",
          "2024-01-29T00:00:00",
          "2024-01-30T00:00:00",
          "2024-01-31T00:00:00",
          "2024-02-01T00:00:00",
          "2024-02-02T00:00:00",
          "2024-02-03T00:00:00",
          "2024-02-04T00:00:00",
          "2024-02-05T00:00:00",
          "2024-02-06T00:00:00",
          "2024-02-07T00:00:00",
          "2024-02-08T00:00:00",
          "2024-02-09T00:00:00",
          "2024-02-10T00:00:00",
          "2024-02-11T00:00:00",
          "2024-02-12T00:00:00",
          "2024-02-13T00:00:00",
          "2024-02-14T00:00:00",
          "2024-02-15T00:00:00",
          "2024-02-16T00:00:00",
          "2024-02-17T00:00:00",
          "2024-02-18T00:00:00",
          "2024-02-19T00:00:00",
          "2024-02-20T00:00:00",
          "2024-02-21T00:00:00",
          "2024-02-22T00:00:00",
          "2024-02-23T00:00:00",
          "2024-02-24T00:00:00",
          "2024-02-25T00:00:00",
          "2024-02-26T00:00:00",
          "2024-02-27T00:00:00",
          "2024-02-28T00:00:00",
          "2024-02-29T00:00:00",
          "2024-03-01T00:00:00",
          "2024-03-02T00:00:00",
          "2024-03-03T00:00:00",
          "2024-03-04T00:00:00",
          "2024-03-05T00:00:00",
          "2024-03-06T00:00:00",
          "2024-03-07T00:00:00",
          "2024-03-08T00:00:00",
          "2024-03-09T00:00:00",
          "2024-03-10T00:00:00",
          "2024-03-11T00:00:00",
          "2024-03-12T00:00:00",
          "2024-03-13T00:00:00",
          "2024-03-14T00:00:00",
          "2024-03-15T00:00:00",
          "2024-03-16T00:00:00",
          "2024-03-17T00:00:00",
          "2024-03-18T00:00:00",
          "2024-03-19T00:00:00",
          "2024-03-20T00:00:00",
          "2024-03-21T00:00:00",
          "2024-03-22T00:00:00",
          "2024-03-23T00:00:00",
          "2024-03-24T00:00:00",
          "2024-03-25T00:00:00",
          "2024-03-26T00:00:00",
          "2024-03-27T00:00:00",
          "2024-03-28T00:00:00",
          "2024-03-29T00:00:00",
          "2024-03-30T00:00:00",
          "2024-03-31T00:00:00",
          "2024-04-01T00:00:00",
          "2024-04-02T00:00:00",
          "2024-04-03T00:00:00",
          "2024-04-04T00:00:00",
          "2024-04-05T00:00:00",
          "2024-04-06T00:00:00",
          "2024-04-07T00:00:00",
          "2024-04-08T00:00:00",
          "2024-04-09T00:00:00",
          "2024-04-10T00:00:00",
          "2024-04-11T00:00:00",
          "2024-04-12T00:00:00",
          "2024-04-13T00:00:00",
          "2024-04-14T00:00:00",
          "2024-04-15T00:00:00",
          "2024-04-16T00:00:00",
          "2024-04-17T00:00:00",
          "2024-04-18T00:00:00",
          "2024-04-19T00:00:00",
          "2024-04-20T00:00:00",
          "2024-04-21T00:00:00",
          "2024-04-22T00:00:00",
          "2024-04-23T00:00:00",
          "2024-04-24T00:00:00",
          "2024-04-25T00:00:00",
          "2024-04-26T00:00:00",
          "2024-04-27T00:00:00",
          "2024-04-28T00:00:00",
          "2024-04-29T00:00:00",
          "2024-04-30T00:00:00",
          "2024-05-01T00:00:00",
          "2024-05-02T00:00:00",
          "2024-05-03T00:00:00",
          "2024-05-04T00:00:00",
          "2024-05-05T00:00:00",
          "2024-05-06T00:00:00",
          "2024-05-07T00:00:00",
          "2024-05-08T00:00:00",
          "2024-05-09T00:00:00",
          "2024-05-10T00:00:00",
          "2024-05-11T00:00:00",
          "2024-05-12T00:00:00",
          "2024-05-13T00:00:00",
          "2024-05-14T00:00:00",
          "2024-05-15T00:00:00",
          "2024-05-16T00:00:00",
          "2024-05-17T00:00:00",
          "2024-05-18T00:00:00",
          "2024-05-19T00:00:00",
          "2024-05-20T00:00:00",
          "2024-05-21T00:00:00",
          "2024-05-22T00:00:00",
          "2024-05-23T00:00:00",
          "2024-05-24T00:00:00",
          "2024-05-25T00:00:00",
          "2024-05-26T00:00:00",
          "2024-05-27T00:00:00",
          "2024-05-28T00:00:00",
          "2024-05-29T00:00:00",
          "2024-05-30T00:00:00",
          "2024-05-31T00:00:00",
          "2024-06-01T00:00:00",
          "2024-06-02T00:00:00",
          "2024-06-03T00:00:00",
          "2024-06-04T00:00:00",
          "2024-06-05T00:00:00",
          "2024-06-06T00:00:00",
          "2024-06-07T00:00:00",
          "2024-06-08T00:00:00",
          "2024-06-09T00:00:00",
          "2024-06-10T00:00:00",
          "2024-06-11T00:00:00",
          "2024-06-12T00:00:00",
          "2024-06-13T00:00:00",
          "2024-06-14T00:00:00",
          "2024-06-15T00:00:00",
          "2024-06-16T00:00:00",
          "2024-06-17T00:00:00",
          "2024-06-18T00:00:00",
          "2024-06-19T00:00:00",
          "2024-06-20T00:00:00",
          "2024-06-21T00:00:00",
          "2024-06-22T00:00:00",
          "2024-06-23T00:00:00",
          "2024-06-24T00:00:00",
          "2024-06-25T00:00:00",
          "2024-06-26T00:00:00",
          "2024-06-27T00:00:00",
          "2024-06-28T00:00:00",
          "2024-06-29T00:00:00",
          "2024-06-30T00:00:00",
          "2024-07-01T00:00:00",
          "2024-07-02T00:00:00",
          "2024-07-03T00:00:00",
          "2024-07-04T00:00:00",
          "2024-07-05T00:00:00",
          "2024-07-06T00:00:00",
          "2024-07-07T00:00:00",
          "2024-07-08T00:00:00",
          "2024-07-09T00:00:00",
          "2024-07-10T00:00:00",
          "2024-07-11T00:00:00",
          "2024-07-12T00:00:00",
          "2024-07-13T00:00:00",
          "2024-07-14T00:00:00",
          "2024-07-15T00:00:00",
          "2024-07-16T00:00:00",
          "2024-07-17T00:00:00",
          "2024-07-18T00:00:00",
          "2024-07-19T00:00:00",
          "2024-07-20T00:00:00",
          "2024-07-21T00:00:00",
          "2024-07-22T00:00:00",
          "2024-07-23T00:00:00",
          "2024-07-24T00:00:00",
          "2024-07-25T00:00:00",
          "2024-07-26T00:00:00",
          "2024-07-27T00:00:00",
          "2024-07-28T00:00:00",
          "2024-07-29T00:00:00",
          "2024-07-30T00:00:00",
          "2024-07-31T00:00:00",
          "2024-08-01T00:00:00",
          "2024-08-02T00:00:00",
          "2024-08-03T00:00:00",
          "2024-08-04T00:00:00",
          "2024-08-05T00:00:00",
          "2024-08-06T00:00:00",
          "2024-08-07T00:00:00",
          "2024-08-08T00:00:00",
          "2024-08-09T00:00:00",
          "2024-08-10T00:00:00",
          "2024-08-11T00:00:00",
          "2024-08-12T00:00:00",
          "2024-08-13T00:00:00",
          "2024-08-14T00:00:00",
          "2024-08-15T00:00:00",
          "2024-08-16T00:00:00",
          "2024-08-17T00:00:00",
          "2024-08-18T00:00:00",
          "2024-08-19T00:00:00",
          "2024-08-20T00:00:00",
          "2024-08-21T00:00:00",
          "2024-08-22T00:00:00",
          "2024-08-23T00:00:00",
          "2024-08-24T00:00:00",
          "2024-08-25T00:00:00",
          "2024-08-26T00:00:00",
          "2024-08-27T00:00:00",
          "2024-08-28T00:00:00",
          "2024-08-29T00:00:00",
          "2024-08-30T00:00:00",
          "2024-08-31T00:00:00",
          "2024-09-01T00:00:00",
          "2024-09-02T00:00:00",
          "2024-09-03T00:00:00",
          "2024-09-04T00:00:00",
          "2024-09-05T00:00:00",
          "2024-09-06T00:00:00",
          "2024-09-07T00:00:00",
          "2024-09-08T00:00:00",
          "2024-09-09T00:00:00",
          "2024-09-10T00:00:00",
          "2024-09-11T00:00:00",
          "2024-09-12T00:00:00",
          "2024-09-13T00:00:00",
          "2024-09-14T00:00:00",
          "2024-09-15T00:00:00",
          "2024-09-16T00:00:00",
          "2024-09-17T00:00:00",
          "2024-09-18T00:00:00",
          "2024-09-19T00:00:00",
          "2024-09-20T00:00:00",
          "2024-09-21T00:00:00",
          "2024-09-22T00:00:00",
          "2024-09-23T00:00:00",
          "2024-09-24T00:00:00",
          "2024-09-25T00:00:00",
          "2024-09-26T00:00:00",
          "2024-09-27T00:00:00",
          "2024-09-28T00:00:00",
          "2024-09-29T00:00:00",
          "2024-09-30T00:00:00",
          "2024-10-01T00:00:00",
          "2024-10-02T00:00:00",
          "2024-10-03T00:00:00",
          "2024-10-04T00:00:00",
          "2024-10-05T00:00:00",
          "2024-10-06T00:00:00",
          "2024-10-07T00:00:00",
          "2024-10-08T00:00:00",
          "2024-10-09T00:00:00",
          "2024-10-10T00:00:00",
          "2024-10-11T00:00:00",
          "2024-10-12T00:00:00",
          "2024-10-13T00:00:00",
          "2024-10-14T00:00:00",
          "2024-10-15T00:00:00",
          "2024-10-16T00:00:00",
          "2024-10-17T00:00:00",
          "2024-10-18T00:00:00",
          "2024-10-19T00:00:00",
          "2024-10-20T00:00:00",
          "2024-10-21T00:00:00",
          "2024-10-22T00:00:00",
          "2024-10-23T00:00:00",
          "2024-10-24T00:00:00",
          "2024-10-25T00:00:00",
          "2024-10-26T00:00:00",
          "2024-10-27T00:00:00",
          "2024-10-28T00:00:00",
          "2024-10-29T00:00:00",
          "2024-10-30T00:00:00",
          "2024-10-31T00:00:00",
          "2024-11-01T00:00:00",
          "2024-11-02T00:00:00",
          "2024-11-03T00:00:00",
          "2024-11-04T00:00:00",
          "2024-11-05T00:00:00",
          "2024-11-06T00:00:00",
          "2024-11-07T00:00:00",
          "2024-11-08T00:00:00",
          "2024-11-09T00:00:00",
          "2024-11-10T00:00:00",
          "2024-11-11T00:00:00",
          "2024-11-12T00:00:00",
          "2024-11-13T00:00:00",
          "2024-11-14T00:00:00",
          "2024-11-15T00:00:00",
          "2024-11-16T00:00:00",
          "2024-11-17T00:00:00",
          "2024-11-18T00:00:00",
          "2024-11-19T00:00:00",
          "2024-11-20T00:00:00",
          "2024-11-21T00:00:00",
          "2024-11-22T00:00:00",
          "2024-11-23T00:00:00",
          "2024-11-24T00:00:00",
          "2024-11-25T00:00:00",
          "2024-11-26T00:00:00",
          "2024-11-27T00:00:00",
          "2024-11-28T00:00:00",
          "2024-11-29T00:00:00",
          "2024-11-30T00:00:00",
          "2024-12-01T00:00:00",
          "2024-12-02T00:00:00",
          "2024-12-03T00:00:00",
          "2024-12-04T00:00:00",
          "2024-12-05T00:00:00",
          "2024-12-06T00:00:00",
          "2024-12-07T00:00:00",
          "2024-12-08T00:00:00",
          "2024-12-09T00:00:00",
          "2024-12-10T00:00:00",
          "2024-12-11T00:00:00",
          "2024-12-12T00:00:00",
          "2024-12-13T00:00:00",
          "2024-12-14T00:00:00",
          "2024-12-15T00:00:00",
          "2024-12-16T00:00:00",
          "2024-12-17T00:00:00",
          "2024-12-18T00:00:00",
          "2024-12-19T00:00:00",
          "2024-12-20T00:00:00",
          "2024-12-21T00:00:00",
          "2024-12-22T00:00:00",
          "2024-12-23T00:00:00",
          "2024-12-24T00:00:00",
          "2024-12-25T00:00:00",
          "2024-12-26T00:00:00",
          "2024-12-27T00:00:00",
          "2024-12-28T00:00:00",
          "2024-12-29T00:00:00",
          "2024-12-30T00:00:00",
          "2024-12-31T00:00:00",
          "2025-01-01T00:00:00",
          "2025-01-02T00:00:00",
          "2025-01-03T00:00:00",
          "2025-01-04T00:00:00",
          "2025-01-05T00:00:00",
          "2025-01-06T00:00:00",
          "2025-01-07T00:00:00",
          "2025-01-08T00:00:00",
          "2025-01-09T00:00:00",
          "2025-01-10T00:00:00",
          "2025-01-11T00:00:00",
          "2025-01-12T00:00:00",
          "2025-01-13T00:00:00",
          "2025-01-14T00:00:00",
          "2025-01-15T00:00:00",
          "2025-01-16T00:00:00",
          "2025-01-17T00:00:00",
          "2025-01-18T00:00:00",
          "2025-01-19T00:00:00",
          "2025-01-20T00:00:00",
          "2025-01-21T00:00:00",
          "2025-01-22T00:00:00",
          "2025-01-23T00:00:00",
          "2025-01-24T00:00:00",
          "2025-01-25T00:00:00",
          "2025-01-26T00:00:00",
          "2025-01-27T00:00:00",
          "2025-01-28T00:00:00",
          "2025-01-29T00:00:00",
          "2025-01-30T00:00:00",
          "2025-01-31T00:00:00",
          "2025-02-01T00:00:00",
          "2025-02-02T00:00:00",
          "2025-02-03T00:00:00",
          "2025-02-04T00:00:00",
          "2025-02-05T00:00:00",
          "2025-02-06T00:00:00",
          "2025-02-07T00:00:00",
          "2025-02-08T00:00:00",
          "2025-02-09T00:00:00",
          "2025-02-10T00:00:00",
          "2025-02-11T00:00:00",
          "2025-02-12T00:00:00",
          "2025-02-13T00:00:00",
          "2025-02-14T00:00:00",
          "2025-02-15T00:00:00",
          "2025-02-16T00:00:00",
          "2025-02-17T00:00:00",
          "2025-02-18T00:00:00",
          "2025-02-19T00:00:00",
          "2025-02-20T00:00:00",
          "2025-02-21T00:00:00",
          "2025-02-22T00:00:00",
          "2025-02-23T00:00:00",
          "2025-02-24T00:00:00",
          "2025-02-25T00:00:00",
          "2025-02-26T00:00:00",
          "2025-02-27T00:00:00",
          "2025-02-28T00:00:00",
          "2025-03-01T00:00:00",
          "2025-03-02T00:00:00",
          "2025-03-03T00:00:00",
          "2025-03-04T00:00:00",
          "2025-03-05T00:00:00",
          "2025-03-06T00:00:00",
          "2025-03-07T00:00:00",
          "2025-03-08T00:00:00",
          "2025-03-09T00:00:00",
          "2025-03-10T00:00:00",
          "2025-03-11T00:00:00",
          "2025-03-12T00:00:00",
          "2025-03-13T00:00:00",
          "2025-03-14T00:00:00",
          "2025-03-15T00:00:00",
          "2025-03-16T00:00:00",
          "2025-03-17T00:00:00",
          "2025-03-18T00:00:00",
          "2025-03-19T00:00:00",
          "2025-03-20T00:00:00",
          "2025-03-21T00:00:00",
          "2025-03-22T00:00:00",
          "2025-03-23T00:00:00",
          "2025-03-24T00:00:00",
          "2025-03-25T00:00:00",
          "2025-03-26T00:00:00",
          "2025-03-27T00:00:00",
          "2025-03-28T00:00:00",
          "2025-03-29T00:00:00",
          "2025-03-30T00:00:00",
          "2025-03-31T00:00:00",
          "2025-04-01T00:00:00",
          "2025-04-02T00:00:00",
          "2025-04-03T00:00:00",
          "2025-04-04T00:00:00",
          "2025-04-05T00:00:00",
          "2025-04-06T00:00:00",
          "2025-04-07T00:00:00",
          "2025-04-08T00:00:00",
          "2025-04-09T00:00:00",
          "2025-04-10T00:00:00",
          "2025-04-11T00:00:00",
          "2025-04-12T00:00:00",
          "2025-04-13T00:00:00",
          "2025-04-14T00:00:00",
          "2025-04-15T00:00:00",
          "2025-04-16T00:00:00",
          "2025-04-17T00:00:00",
          "2025-04-18T00:00:00",
          "2025-04-19T00:00:00",
          "2025-04-20T00:00:00",
          "2025-04-21T00:00:00"
         ],
         "xaxis": "x",
         "y": {
          "bdata": "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",
          "dtype": "f8"
         },
         "yaxis": "y"
        }
       ],
       "layout": {
        "legend": {
         "tracegroupgap": 0
        },
        "template": {
         "data": {
          "bar": [
           {
            "error_x": {
             "color": "#2a3f5f"
            },
            "error_y": {
             "color": "#2a3f5f"
            },
            "marker": {
             "line": {
              "color": "#E5ECF6",
              "width": 0.5
             },
             "pattern": {
              "fillmode": "overlay",
              "size": 10,
              "solidity": 0.2
             }
            },
            "type": "bar"
           }
          ],
          "barpolar": [
           {
            "marker": {
             "line": {
              "color": "#E5ECF6",
              "width": 0.5
             },
             "pattern": {
              "fillmode": "overlay",
              "size": 10,
              "solidity": 0.2
             }
            },
            "type": "barpolar"
           }
          ],
          "carpet": [
           {
            "aaxis": {
             "endlinecolor": "#2a3f5f",
             "gridcolor": "white",
             "linecolor": "white",
             "minorgridcolor": "white",
             "startlinecolor": "#2a3f5f"
            },
            "baxis": {
             "endlinecolor": "#2a3f5f",
             "gridcolor": "white",
             "linecolor": "white",
             "minorgridcolor": "white",
             "startlinecolor": "#2a3f5f"
            },
            "type": "carpet"
           }
          ],
          "choropleth": [
           {
            "colorbar": {
             "outlinewidth": 0,
             "ticks": ""
            },
            "type": "choropleth"
           }
          ],
          "contour": [
           {
            "colorbar": {
             "outlinewidth": 0,
             "ticks": ""
            },
            "colorscale": [
             [
              0,
              "#0d0887"
             ],
             [
              0.1111111111111111,
              "#46039f"
             ],
             [
              0.2222222222222222,
              "#7201a8"
             ],
             [
              0.3333333333333333,
              "#9c179e"
             ],
             [
              0.4444444444444444,
              "#bd3786"
             ],
             [
              0.5555555555555556,
              "#d8576b"
             ],
             [
              0.6666666666666666,
              "#ed7953"
             ],
             [
              0.7777777777777778,
              "#fb9f3a"
             ],
             [
              0.8888888888888888,
              "#fdca26"
             ],
             [
              1,
              "#f0f921"
             ]
            ],
            "type": "contour"
           }
          ],
          "contourcarpet": [
           {
            "colorbar": {
             "outlinewidth": 0,
             "ticks": ""
            },
            "type": "contourcarpet"
           }
          ],
          "heatmap": [
           {
            "colorbar": {
             "outlinewidth": 0,
             "ticks": ""
            },
            "colorscale": [
             [
              0,
              "#0d0887"
             ],
             [
              0.1111111111111111,
              "#46039f"
             ],
             [
              0.2222222222222222,
              "#7201a8"
             ],
             [
              0.3333333333333333,
              "#9c179e"
             ],
             [
              0.4444444444444444,
              "#bd3786"
             ],
             [
              0.5555555555555556,
              "#d8576b"
             ],
             [
              0.6666666666666666,
              "#ed7953"
             ],
             [
              0.7777777777777778,
              "#fb9f3a"
             ],
             [
              0.8888888888888888,
              "#fdca26"
             ],
             [
              1,
              "#f0f921"
             ]
            ],
            "type": "heatmap"
           }
          ],
          "histogram": [
           {
            "marker": {
             "pattern": {
              "fillmode": "overlay",
              "size": 10,
              "solidity": 0.2
             }
            },
            "type": "histogram"
           }
          ],
          "histogram2d": [
           {
            "colorbar": {
             "outlinewidth": 0,
             "ticks": ""
            },
            "colorscale": [
             [
              0,
              "#0d0887"
             ],
             [
              0.1111111111111111,
              "#46039f"
             ],
             [
              0.2222222222222222,
              "#7201a8"
             ],
             [
              0.3333333333333333,
              "#9c179e"
             ],
             [
              0.4444444444444444,
              "#bd3786"
             ],
             [
              0.5555555555555556,
              "#d8576b"
             ],
             [
              0.6666666666666666,
              "#ed7953"
             ],
             [
              0.7777777777777778,
              "#fb9f3a"
             ],
             [
              0.8888888888888888,
              "#fdca26"
             ],
             [
              1,
              "#f0f921"
             ]
            ],
            "type": "histogram2d"
           }
          ],
          "histogram2dcontour": [
           {
            "colorbar": {
             "outlinewidth": 0,
             "ticks": ""
            },
            "colorscale": [
             [
              0,
              "#0d0887"
             ],
             [
              0.1111111111111111,
              "#46039f"
             ],
             [
              0.2222222222222222,
              "#7201a8"
             ],
             [
              0.3333333333333333,
              "#9c179e"
             ],
             [
              0.4444444444444444,
              "#bd3786"
             ],
             [
              0.5555555555555556,
              "#d8576b"
             ],
             [
              0.6666666666666666,
              "#ed7953"
             ],
             [
              0.7777777777777778,
              "#fb9f3a"
             ],
             [
              0.8888888888888888,
              "#fdca26"
             ],
             [
              1,
              "#f0f921"
             ]
            ],
            "type": "histogram2dcontour"
           }
          ],
          "mesh3d": [
           {
            "colorbar": {
             "outlinewidth": 0,
             "ticks": ""
            },
            "type": "mesh3d"
           }
          ],
          "parcoords": [
           {
            "line": {
             "colorbar": {
              "outlinewidth": 0,
              "ticks": ""
             }
            },
            "type": "parcoords"
           }
          ],
          "pie": [
           {
            "automargin": true,
            "type": "pie"
           }
          ],
          "scatter": [
           {
            "fillpattern": {
             "fillmode": "overlay",
             "size": 10,
             "solidity": 0.2
            },
            "type": "scatter"
           }
          ],
          "scatter3d": [
           {
            "line": {
             "colorbar": {
              "outlinewidth": 0,
              "ticks": ""
             }
            },
            "marker": {
             "colorbar": {
              "outlinewidth": 0,
              "ticks": ""
             }
            },
            "type": "scatter3d"
           }
          ],
          "scattercarpet": [
           {
            "marker": {
             "colorbar": {
              "outlinewidth": 0,
              "ticks": ""
             }
            },
            "type": "scattercarpet"
           }
          ],
          "scattergeo": [
           {
            "marker": {
             "colorbar": {
              "outlinewidth": 0,
              "ticks": ""
             }
            },
            "type": "scattergeo"
           }
          ],
          "scattergl": [
           {
            "marker": {
             "colorbar": {
              "outlinewidth": 0,
              "ticks": ""
             }
            },
            "type": "scattergl"
           }
          ],
          "scattermap": [
           {
            "marker": {
             "colorbar": {
              "outlinewidth": 0,
              "ticks": ""
             }
            },
            "type": "scattermap"
           }
          ],
          "scattermapbox": [
           {
            "marker": {
             "colorbar": {
              "outlinewidth": 0,
              "ticks": ""
             }
            },
            "type": "scattermapbox"
           }
          ],
          "scatterpolar": [
           {
            "marker": {
             "colorbar": {
              "outlinewidth": 0,
              "ticks": ""
             }
            },
            "type": "scatterpolar"
           }
          ],
          "scatterpolargl": [
           {
            "marker": {
             "colorbar": {
              "outlinewidth": 0,
              "ticks": ""
             }
            },
            "type": "scatterpolargl"
           }
          ],
          "scatterternary": [
           {
            "marker": {
             "colorbar": {
              "outlinewidth": 0,
              "ticks": ""
             }
            },
            "type": "scatterternary"
           }
          ],
          "surface": [
           {
            "colorbar": {
             "outlinewidth": 0,
             "ticks": ""
            },
            "colorscale": [
             [
              0,
              "#0d0887"
             ],
             [
              0.1111111111111111,
              "#46039f"
             ],
             [
              0.2222222222222222,
              "#7201a8"
             ],
             [
              0.3333333333333333,
              "#9c179e"
             ],
             [
              0.4444444444444444,
              "#bd3786"
             ],
             [
              0.5555555555555556,
              "#d8576b"
             ],
             [
              0.6666666666666666,
              "#ed7953"
             ],
             [
              0.7777777777777778,
              "#fb9f3a"
             ],
             [
              0.8888888888888888,
              "#fdca26"
             ],
             [
              1,
              "#f0f921"
             ]
            ],
            "type": "surface"
           }
          ],
          "table": [
           {
            "cells": {
             "fill": {
              "color": "#EBF0F8"
             },
             "line": {
              "color": "white"
             }
            },
            "header": {
             "fill": {
              "color": "#C8D4E3"
             },
             "line": {
              "color": "white"
             }
            },
            "type": "table"
           }
          ]
         },
         "layout": {
          "annotationdefaults": {
           "arrowcolor": "#2a3f5f",
           "arrowhead": 0,
           "arrowwidth": 1
          },
          "autotypenumbers": "strict",
          "coloraxis": {
           "colorbar": {
            "outlinewidth": 0,
            "ticks": ""
           }
          },
          "colorscale": {
           "diverging": [
            [
             0,
             "#8e0152"
            ],
            [
             0.1,
             "#c51b7d"
            ],
            [
             0.2,
             "#de77ae"
            ],
            [
             0.3,
             "#f1b6da"
            ],
            [
             0.4,
             "#fde0ef"
            ],
            [
             0.5,
             "#f7f7f7"
            ],
            [
             0.6,
             "#e6f5d0"
            ],
            [
             0.7,
             "#b8e186"
            ],
            [
             0.8,
             "#7fbc41"
            ],
            [
             0.9,
             "#4d9221"
            ],
            [
             1,
             "#276419"
            ]
           ],
           "sequential": [
            [
             0,
             "#0d0887"
            ],
            [
             0.1111111111111111,
             "#46039f"
            ],
            [
             0.2222222222222222,
             "#7201a8"
            ],
            [
             0.3333333333333333,
             "#9c179e"
            ],
            [
             0.4444444444444444,
             "#bd3786"
            ],
            [
             0.5555555555555556,
             "#d8576b"
            ],
            [
             0.6666666666666666,
             "#ed7953"
            ],
            [
             0.7777777777777778,
             "#fb9f3a"
            ],
            [
             0.8888888888888888,
             "#fdca26"
            ],
            [
             1,
             "#f0f921"
            ]
           ],
           "sequentialminus": [
            [
             0,
             "#0d0887"
            ],
            [
             0.1111111111111111,
             "#46039f"
            ],
            [
             0.2222222222222222,
             "#7201a8"
            ],
            [
             0.3333333333333333,
             "#9c179e"
            ],
            [
             0.4444444444444444,
             "#bd3786"
            ],
            [
             0.5555555555555556,
             "#d8576b"
            ],
            [
             0.6666666666666666,
             "#ed7953"
            ],
            [
             0.7777777777777778,
             "#fb9f3a"
            ],
            [
             0.8888888888888888,
             "#fdca26"
            ],
            [
             1,
             "#f0f921"
            ]
           ]
          },
          "colorway": [
           "#636efa",
           "#EF553B",
           "#00cc96",
           "#ab63fa",
           "#FFA15A",
           "#19d3f3",
           "#FF6692",
           "#B6E880",
           "#FF97FF",
           "#FECB52"
          ],
          "font": {
           "color": "#2a3f5f"
          },
          "geo": {
           "bgcolor": "white",
           "lakecolor": "white",
           "landcolor": "#E5ECF6",
           "showlakes": true,
           "showland": true,
           "subunitcolor": "white"
          },
          "hoverlabel": {
           "align": "left"
          },
          "hovermode": "closest",
          "mapbox": {
           "style": "light"
          },
          "paper_bgcolor": "white",
          "plot_bgcolor": "#E5ECF6",
          "polar": {
           "angularaxis": {
            "gridcolor": "white",
            "linecolor": "white",
            "ticks": ""
           },
           "bgcolor": "#E5ECF6",
           "radialaxis": {
            "gridcolor": "white",
            "linecolor": "white",
            "ticks": ""
           }
          },
          "scene": {
           "xaxis": {
            "backgroundcolor": "#E5ECF6",
            "gridcolor": "white",
            "gridwidth": 2,
            "linecolor": "white",
            "showbackground": true,
            "ticks": "",
            "zerolinecolor": "white"
           },
           "yaxis": {
            "backgroundcolor": "#E5ECF6",
            "gridcolor": "white",
            "gridwidth": 2,
            "linecolor": "white",
            "showbackground": true,
            "ticks": "",
            "zerolinecolor": "white"
           },
           "zaxis": {
            "backgroundcolor": "#E5ECF6",
            "gridcolor": "white",
            "gridwidth": 2,
            "linecolor": "white",
            "showbackground": true,
            "ticks": "",
            "zerolinecolor": "white"
           }
          },
          "shapedefaults": {
           "line": {
            "color": "#2a3f5f"
           }
          },
          "ternary": {
           "aaxis": {
            "gridcolor": "white",
            "linecolor": "white",
            "ticks": ""
           },
           "baxis": {
            "gridcolor": "white",
            "linecolor": "white",
            "ticks": ""
           },
           "bgcolor": "#E5ECF6",
           "caxis": {
            "gridcolor": "white",
            "linecolor": "white",
            "ticks": ""
           }
          },
          "title": {
           "x": 0.05
          },
          "xaxis": {
           "automargin": true,
           "gridcolor": "white",
           "linecolor": "white",
           "ticks": "",
           "title": {
            "standoff": 15
           },
           "zerolinecolor": "white",
           "zerolinewidth": 2
          },
          "yaxis": {
           "automargin": true,
           "gridcolor": "white",
           "linecolor": "white",
           "ticks": "",
           "title": {
            "standoff": 15
           },
           "zerolinecolor": "white",
           "zerolinewidth": 2
          }
         }
        },
        "title": {
         "text": "tiprate",
         "x": 0.5
        },
        "xaxis": {
         "anchor": "y",
         "domain": [
          0,
          1
         ],
         "title": {
          "text": "Jahr"
         }
        },
        "yaxis": {
         "anchor": "x",
         "domain": [
          0,
          1
         ],
         "title": {
          "text": "tipquote"
         }
        }
       }
      }
     },
     "metadata": {},
     "output_type": "display_data"
    }
   ],
   "source": [
    "import plotly.express as px\n",
    "\n",
    "fig = px.line( \n",
    "    x=daily_tip_rate.index, \n",
    "    y=daily_tip_rate, \n",
    "    title='tiprate',\n",
    "    labels={'Month': 'Datum', 'Anzahl_Passagiere': 'Anzahl der Passagiere'}\n",
    ")\n",
    "\n",
    "fig.update_layout(title_x=0.5, xaxis_title=\"Jahr\", yaxis_title=\"tipquote\")\n",
    "\n",
    "fig.show()"
   ]
  },
  {
   "cell_type": "code",
   "execution_count": 31,
   "metadata": {},
   "outputs": [
    {
     "name": "stdout",
     "output_type": "stream",
     "text": [
      "            order_date  tip_rate  tip_lag1\n",
      "1  2024-01-18 00:00:00  0.418605  0.337838\n",
      "2  2024-01-19 00:00:00  0.448276  0.418605\n",
      "3  2024-01-20 00:00:00  0.542802  0.448276\n",
      "4  2024-01-21 00:00:00  0.555039  0.542802\n",
      "5  2024-01-22 00:00:00  0.428571  0.555039\n"
     ]
    },
    {
     "data": {
      "image/png": "[encoded data removed]",
      "text/plain": [
       "<Figure size 1000x800 with 2 Axes>"
      ]
     },
     "metadata": {},
     "output_type": "display_data"
    },
    {
     "name": "stdout",
     "output_type": "stream",
     "text": [
      "Korrelation zwischen heutigem Wert und Vortageswert:\n",
      "          tip_rate  tip_lag1\n",
      "tip_rate  1.000000  0.311419\n",
      "tip_lag1  0.311419  1.000000\n"
     ]
    }
   ],
   "source": [
    "daily_df = daily_tip_rate.to_frame(name='tip_rate')\n",
    "daily_df['tip_lag1'] = daily_tip_rate.shift(1)\n",
    "daily_df.reset_index(inplace=True)\n",
    "daily_df.dropna(inplace=True)\n",
    "print(daily_df.head())\n",
    "\n",
    "# Scatter-Plot erstellen\n",
    "plt.figure(figsize=(10, 8))\n",
    "plt.scatter(daily_df.tip_lag1, daily_df.tip_rate, c=daily_df.index, marker='.')\n",
    "plt.xlabel('Wert am Vortag')\n",
    "plt.ylabel('Aktueller Wert')\n",
    "plt.title('Abhängigkeit vom Vortag (farbkodiert nach Zeit)')\n",
    "plt.colorbar(label=\"Datum\")\n",
    "plt.show()\n",
    "\n",
    "# Korrelation berechnen\n",
    "print(\"Korrelation zwischen heutigem Wert und Vortageswert:\")\n",
    "print(daily_df[['tip_rate', 'tip_lag1']].corr())"
   ]
  }
 ],
 "metadata": {
  "kernelspec": {
   "display_name": "dabi2-test",
   "language": "python",
   "name": "dabi2-test"
  },
  "language_info": {
   "codemirror_mode": {
    "name": "ipython",
    "version": 3
   },
   "file_extension": ".py",
   "mimetype": "text/x-python",
   "name": "python",
   "nbconvert_exporter": "python",
   "pygments_lexer": "ipython3",
   "version": "3.12.9"
  }
 },
 "nbformat": 4,
 "nbformat_minor": 2
}
