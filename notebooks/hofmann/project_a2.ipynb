{
 "cells": [
  {
   "cell_type": "markdown",
   "metadata": {},
   "source": [
    "# Aufgabe (1): Daten einladen, aufbereiten und kombinieren\n",
    "\n",
    "**Wichtige Schritte:**\n",
    "\n",
    "- Einlesen der orders und tips Datensätze.\n",
    "- Umwandeln der Datumsspalte in ein echtes datetime-Objekt.\n",
    "- Zusammenführen der Tabellen. Der left join stellt sicher, dass wir alle Bestellungen behalten und die Bestellungen aus dem Test-Set (ohne Trinkgeld-Info) - einen NaN-Wert erhalten.\n",
    "- Umwandeln der 'yes'/'no' tip-Spalte in ein numerisches Format (1/0).\n",
    "- Entscheidend für Zeitreihen: Sortieren der Daten nach user_id und dann nach order_date, um die korrekte chronologische Reihenfolge für jeden User sicherzustellen."
   ]
  },
  {
   "cell_type": "code",
   "execution_count": 1,
   "metadata": {},
   "outputs": [
    {
     "data": {
      "text/html": [
       "<div>\n",
       "<style scoped>\n",
       "    .dataframe tbody tr th:only-of-type {\n",
       "        vertical-align: middle;\n",
       "    }\n",
       "\n",
       "    .dataframe tbody tr th {\n",
       "        vertical-align: top;\n",
       "    }\n",
       "\n",
       "    .dataframe thead th {\n",
       "        text-align: right;\n",
       "    }\n",
       "</style>\n",
       "<table border=\"1\" class=\"dataframe\">\n",
       "  <thead>\n",
       "    <tr style=\"text-align: right;\">\n",
       "      <th></th>\n",
       "      <th>order_id</th>\n",
       "      <th>user_id</th>\n",
       "      <th>order_date</th>\n",
       "      <th>tip</th>\n",
       "    </tr>\n",
       "  </thead>\n",
       "  <tbody>\n",
       "    <tr>\n",
       "      <th>0</th>\n",
       "      <td>1374495</td>\n",
       "      <td>3</td>\n",
       "      <td>2024-03-31 14:05:18</td>\n",
       "      <td>1.0</td>\n",
       "    </tr>\n",
       "    <tr>\n",
       "      <th>1</th>\n",
       "      <td>444309</td>\n",
       "      <td>3</td>\n",
       "      <td>2024-04-09 19:45:51</td>\n",
       "      <td>1.0</td>\n",
       "    </tr>\n",
       "    <tr>\n",
       "      <th>2</th>\n",
       "      <td>3002854</td>\n",
       "      <td>3</td>\n",
       "      <td>2024-04-30 16:25:20</td>\n",
       "      <td>1.0</td>\n",
       "    </tr>\n",
       "  </tbody>\n",
       "</table>\n",
       "</div>"
      ],
      "text/plain": [
       "   order_id  user_id          order_date  tip\n",
       "0   1374495        3 2024-03-31 14:05:18  1.0\n",
       "1    444309        3 2024-04-09 19:45:51  1.0\n",
       "2   3002854        3 2024-04-30 16:25:20  1.0"
      ]
     },
     "execution_count": 1,
     "metadata": {},
     "output_type": "execute_result"
    }
   ],
   "source": [
    "import pandas as pd\n",
    "import numpy as np\n",
    "import matplotlib.pyplot as plt\n",
    "import seaborn as sns\n",
    "from statsmodels.graphics.tsaplots import plot_acf, plot_pacf\n",
    "from statsmodels.tsa.ar_model import AutoReg\n",
    "import math\n",
    "from sklearn.linear_model import LinearRegression\n",
    "\n",
    "\n",
    "\n",
    "sns.set_theme(style=\"whitegrid\")\n",
    "\n",
    "try:\n",
    "    orders = pd.read_parquet('data/orders.parquet')\n",
    "    tips = pd.read_csv('data/tips_public.csv') \n",
    "except FileNotFoundError:\n",
    "    print(\"FEHLER: Stellen Sie sicher, dass 'orders.parquet' und 'tips_public.csv' im richtigen Verzeichnis liegen.\")\n",
    "\n",
    "orders['order_date'] = pd.to_datetime(orders['order_date'])\n",
    "df = pd.merge(orders, tips, on='order_id', how='left')\n",
    "df.drop('Unnamed: 0', axis=1, inplace=True)\n",
    "\n",
    "df['tip'] = df['tip'].map({True: 1.0, False: 0.0})\n",
    "\n",
    "df.sort_values(by=['user_id', 'order_date'], inplace=True)\n",
    "df.reset_index(drop=True, inplace=True)\n",
    "\n",
    "df.head(3)"
   ]
  },
  {
   "cell_type": "markdown",
   "metadata": {},
   "source": [
    "___\n",
    "# Vorbereitung für die Zeitreihenanalyse: Lag-Features erstellen\n",
    "\n",
    "Bezug zur Vorlesung und den Hinweisen:\n",
    "Wie in der Vorlesung besprochen und im Hinweisblatt empfohlen, können Standard-Zeitreihenfunktionen hier nicht direkt angewendet werden. Wir müssen manuell \"Lag-Features\" erstellen, also Spalten, die den Trinkgeld-Status der vorherigen Bestellungen enthalten.\n",
    "\n",
    "Wir verwenden die groupby('user_id').shift(k)-Methode. Dies stellt sicher, dass die Lag-Werte korrekt pro User berechnet werden und am Anfang der Bestellhistorie eines neuen Users korrekterweise NaN steht. Wir erstellen Lags für bis zu 5 vorhergehende Bestellungen, wie im Hinweisblatt vorgeschlagen."
   ]
  },
  {
   "cell_type": "code",
   "execution_count": 2,
   "metadata": {},
   "outputs": [
    {
     "data": {
      "text/html": [
       "<div>\n",
       "<style scoped>\n",
       "    .dataframe tbody tr th:only-of-type {\n",
       "        vertical-align: middle;\n",
       "    }\n",
       "\n",
       "    .dataframe tbody tr th {\n",
       "        vertical-align: top;\n",
       "    }\n",
       "\n",
       "    .dataframe thead th {\n",
       "        text-align: right;\n",
       "    }\n",
       "</style>\n",
       "<table border=\"1\" class=\"dataframe\">\n",
       "  <thead>\n",
       "    <tr style=\"text-align: right;\">\n",
       "      <th></th>\n",
       "      <th>order_id</th>\n",
       "      <th>user_id</th>\n",
       "      <th>order_date</th>\n",
       "      <th>tip</th>\n",
       "      <th>tip_lag_1</th>\n",
       "      <th>tip_lag_2</th>\n",
       "      <th>tip_lag_3</th>\n",
       "      <th>tip_lag_4</th>\n",
       "      <th>tip_lag_5</th>\n",
       "      <th>tip_lag_6</th>\n",
       "      <th>tip_lag_7</th>\n",
       "      <th>tip_lag_8</th>\n",
       "      <th>tip_lag_9</th>\n",
       "      <th>tip_lag_10</th>\n",
       "    </tr>\n",
       "  </thead>\n",
       "  <tbody>\n",
       "    <tr>\n",
       "      <th>0</th>\n",
       "      <td>1374495</td>\n",
       "      <td>3</td>\n",
       "      <td>2024-03-31 14:05:18</td>\n",
       "      <td>1.0</td>\n",
       "      <td>NaN</td>\n",
       "      <td>NaN</td>\n",
       "      <td>NaN</td>\n",
       "      <td>NaN</td>\n",
       "      <td>NaN</td>\n",
       "      <td>NaN</td>\n",
       "      <td>NaN</td>\n",
       "      <td>NaN</td>\n",
       "      <td>NaN</td>\n",
       "      <td>NaN</td>\n",
       "    </tr>\n",
       "    <tr>\n",
       "      <th>1</th>\n",
       "      <td>444309</td>\n",
       "      <td>3</td>\n",
       "      <td>2024-04-09 19:45:51</td>\n",
       "      <td>1.0</td>\n",
       "      <td>1.0</td>\n",
       "      <td>NaN</td>\n",
       "      <td>NaN</td>\n",
       "      <td>NaN</td>\n",
       "      <td>NaN</td>\n",
       "      <td>NaN</td>\n",
       "      <td>NaN</td>\n",
       "      <td>NaN</td>\n",
       "      <td>NaN</td>\n",
       "      <td>NaN</td>\n",
       "    </tr>\n",
       "    <tr>\n",
       "      <th>2</th>\n",
       "      <td>3002854</td>\n",
       "      <td>3</td>\n",
       "      <td>2024-04-30 16:25:20</td>\n",
       "      <td>1.0</td>\n",
       "      <td>1.0</td>\n",
       "      <td>1.0</td>\n",
       "      <td>NaN</td>\n",
       "      <td>NaN</td>\n",
       "      <td>NaN</td>\n",
       "      <td>NaN</td>\n",
       "      <td>NaN</td>\n",
       "      <td>NaN</td>\n",
       "      <td>NaN</td>\n",
       "      <td>NaN</td>\n",
       "    </tr>\n",
       "    <tr>\n",
       "      <th>3</th>\n",
       "      <td>2037211</td>\n",
       "      <td>3</td>\n",
       "      <td>2024-05-20 18:31:28</td>\n",
       "      <td>1.0</td>\n",
       "      <td>1.0</td>\n",
       "      <td>1.0</td>\n",
       "      <td>1.0</td>\n",
       "      <td>NaN</td>\n",
       "      <td>NaN</td>\n",
       "      <td>NaN</td>\n",
       "      <td>NaN</td>\n",
       "      <td>NaN</td>\n",
       "      <td>NaN</td>\n",
       "      <td>NaN</td>\n",
       "    </tr>\n",
       "    <tr>\n",
       "      <th>4</th>\n",
       "      <td>2710558</td>\n",
       "      <td>3</td>\n",
       "      <td>2024-06-01 17:52:27</td>\n",
       "      <td>1.0</td>\n",
       "      <td>1.0</td>\n",
       "      <td>1.0</td>\n",
       "      <td>1.0</td>\n",
       "      <td>1.0</td>\n",
       "      <td>NaN</td>\n",
       "      <td>NaN</td>\n",
       "      <td>NaN</td>\n",
       "      <td>NaN</td>\n",
       "      <td>NaN</td>\n",
       "      <td>NaN</td>\n",
       "    </tr>\n",
       "    <tr>\n",
       "      <th>5</th>\n",
       "      <td>1972919</td>\n",
       "      <td>3</td>\n",
       "      <td>2024-06-08 16:55:12</td>\n",
       "      <td>1.0</td>\n",
       "      <td>1.0</td>\n",
       "      <td>1.0</td>\n",
       "      <td>1.0</td>\n",
       "      <td>1.0</td>\n",
       "      <td>1.0</td>\n",
       "      <td>NaN</td>\n",
       "      <td>NaN</td>\n",
       "      <td>NaN</td>\n",
       "      <td>NaN</td>\n",
       "      <td>NaN</td>\n",
       "    </tr>\n",
       "    <tr>\n",
       "      <th>6</th>\n",
       "      <td>1839752</td>\n",
       "      <td>3</td>\n",
       "      <td>2024-06-15 15:04:06</td>\n",
       "      <td>0.0</td>\n",
       "      <td>1.0</td>\n",
       "      <td>1.0</td>\n",
       "      <td>1.0</td>\n",
       "      <td>1.0</td>\n",
       "      <td>1.0</td>\n",
       "      <td>1.0</td>\n",
       "      <td>NaN</td>\n",
       "      <td>NaN</td>\n",
       "      <td>NaN</td>\n",
       "      <td>NaN</td>\n",
       "    </tr>\n",
       "    <tr>\n",
       "      <th>7</th>\n",
       "      <td>3225766</td>\n",
       "      <td>3</td>\n",
       "      <td>2024-06-22 17:49:38</td>\n",
       "      <td>1.0</td>\n",
       "      <td>0.0</td>\n",
       "      <td>1.0</td>\n",
       "      <td>1.0</td>\n",
       "      <td>1.0</td>\n",
       "      <td>1.0</td>\n",
       "      <td>1.0</td>\n",
       "      <td>1.0</td>\n",
       "      <td>NaN</td>\n",
       "      <td>NaN</td>\n",
       "      <td>NaN</td>\n",
       "    </tr>\n",
       "    <tr>\n",
       "      <th>8</th>\n",
       "      <td>3160850</td>\n",
       "      <td>3</td>\n",
       "      <td>2024-06-29 16:49:34</td>\n",
       "      <td>0.0</td>\n",
       "      <td>1.0</td>\n",
       "      <td>0.0</td>\n",
       "      <td>1.0</td>\n",
       "      <td>1.0</td>\n",
       "      <td>1.0</td>\n",
       "      <td>1.0</td>\n",
       "      <td>1.0</td>\n",
       "      <td>1.0</td>\n",
       "      <td>NaN</td>\n",
       "      <td>NaN</td>\n",
       "    </tr>\n",
       "    <tr>\n",
       "      <th>9</th>\n",
       "      <td>676467</td>\n",
       "      <td>3</td>\n",
       "      <td>2024-07-16 16:27:44</td>\n",
       "      <td>1.0</td>\n",
       "      <td>0.0</td>\n",
       "      <td>1.0</td>\n",
       "      <td>0.0</td>\n",
       "      <td>1.0</td>\n",
       "      <td>1.0</td>\n",
       "      <td>1.0</td>\n",
       "      <td>1.0</td>\n",
       "      <td>1.0</td>\n",
       "      <td>1.0</td>\n",
       "      <td>NaN</td>\n",
       "    </tr>\n",
       "  </tbody>\n",
       "</table>\n",
       "</div>"
      ],
      "text/plain": [
       "   order_id  user_id          order_date  tip  tip_lag_1  tip_lag_2  \\\n",
       "0   1374495        3 2024-03-31 14:05:18  1.0        NaN        NaN   \n",
       "1    444309        3 2024-04-09 19:45:51  1.0        1.0        NaN   \n",
       "2   3002854        3 2024-04-30 16:25:20  1.0        1.0        1.0   \n",
       "3   2037211        3 2024-05-20 18:31:28  1.0        1.0        1.0   \n",
       "4   2710558        3 2024-06-01 17:52:27  1.0        1.0        1.0   \n",
       "5   1972919        3 2024-06-08 16:55:12  1.0        1.0        1.0   \n",
       "6   1839752        3 2024-06-15 15:04:06  0.0        1.0        1.0   \n",
       "7   3225766        3 2024-06-22 17:49:38  1.0        0.0        1.0   \n",
       "8   3160850        3 2024-06-29 16:49:34  0.0        1.0        0.0   \n",
       "9    676467        3 2024-07-16 16:27:44  1.0        0.0        1.0   \n",
       "\n",
       "   tip_lag_3  tip_lag_4  tip_lag_5  tip_lag_6  tip_lag_7  tip_lag_8  \\\n",
       "0        NaN        NaN        NaN        NaN        NaN        NaN   \n",
       "1        NaN        NaN        NaN        NaN        NaN        NaN   \n",
       "2        NaN        NaN        NaN        NaN        NaN        NaN   \n",
       "3        1.0        NaN        NaN        NaN        NaN        NaN   \n",
       "4        1.0        1.0        NaN        NaN        NaN        NaN   \n",
       "5        1.0        1.0        1.0        NaN        NaN        NaN   \n",
       "6        1.0        1.0        1.0        1.0        NaN        NaN   \n",
       "7        1.0        1.0        1.0        1.0        1.0        NaN   \n",
       "8        1.0        1.0        1.0        1.0        1.0        1.0   \n",
       "9        0.0        1.0        1.0        1.0        1.0        1.0   \n",
       "\n",
       "   tip_lag_9  tip_lag_10  \n",
       "0        NaN         NaN  \n",
       "1        NaN         NaN  \n",
       "2        NaN         NaN  \n",
       "3        NaN         NaN  \n",
       "4        NaN         NaN  \n",
       "5        NaN         NaN  \n",
       "6        NaN         NaN  \n",
       "7        NaN         NaN  \n",
       "8        NaN         NaN  \n",
       "9        1.0         NaN  "
      ]
     },
     "execution_count": 2,
     "metadata": {},
     "output_type": "execute_result"
    }
   ],
   "source": [
    "# --- Schritt 4: Lag-Features erstellen ---\n",
    "for i in range(1, 11):\n",
    "    df[f'tip_lag_{i}'] = df.groupby('user_id')['tip'].shift(i)\n",
    "df[df['user_id'] == 3].head(10)"
   ]
  },
  {
   "cell_type": "markdown",
   "metadata": {},
   "source": [
    "# Aufgabe (2): Beantwortung der analytischen Fragen\n",
    "\n",
    "Jetzt, da unser DataFrame df die Spalten tip_lag_1 bis tip_lag_5 enthält, können wir die Fragen aus der Aufgabenstellung systematisch beantworten.\n",
    "\n",
    "#### Aufgabe 2a: Das AR(1)-Modell - Vorhersage aus der letzten Bestellung\n",
    "\n",
    "**Fragestellung:**\n",
    "- Mit welcher Genauigkeit lässt sich die Trinkgeldgabe bei einer Bestellung aus der Information vorhersagen, ob der User bei der vorhergehenden Bestellung Trinkgeld gegeben hat? (AR(1)-Modell)\n",
    "\n",
    "**Bezug zur Vorlesung und den Hinweisen:**\n",
    "Wie im Hinweisblatt beschrieben, bauen wir hier kein komplexes statistisches Modell, sondern nutzen den Fakt, dass unsere Variablen binär (0 oder 1) sind.\n",
    "\n",
    "- Das \"Modell\": Unser AR(1)-Modell ist eine einfache \"Lookup-Tabelle\". Wir berechnen aus den Daten zwei bedingte Wahrscheinlichkeiten:\n",
    "    - P(aktuelles Trinkgeld = 1 | vorheriges Trinkgeld = 1)\n",
    "    - P(aktuelles Trinkgeld = 1 | vorheriges Trinkgeld = 0)\n",
    "- Die \"Prognose\": Wir erstellen eine Vorhersage basierend auf einer einfachen Regel: Wenn die für den Fall zutreffende Wahrscheinlichkeit größer als 50% ist, sagen wir 1 (Trinkgeld) voraus, ansonsten 0.\n",
    "- Die \"Genauigkeit\": Wir messen die Accuracy, indem wir den Anteil der korrekten Vorhersagen an allen Vorhersagen berechnen."
   ]
  },
  {
   "cell_type": "code",
   "execution_count": 3,
   "metadata": {},
   "outputs": [
    {
     "name": "stdout",
     "output_type": "stream",
     "text": [
      "Anzahl der verwendbaren Datenpunkte für das AR(1)-Modell: 1339256\n"
     ]
    }
   ],
   "source": [
    "# --- Schritt 1: Trainingsdaten für das AR(1)-Modell erstellen ---\n",
    "df_ar1 = df[['tip', 'tip_lag_1']].dropna()\n",
    "print(f\"Anzahl der verwendbaren Datenpunkte für das AR(1)-Modell: {len(df_ar1)}\")"
   ]
  },
  {
   "cell_type": "code",
   "execution_count": 4,
   "metadata": {},
   "outputs": [
    {
     "name": "stdout",
     "output_type": "stream",
     "text": [
      "AR(1)-Modell (Bedingte Wahrscheinlichkeiten):\n",
      "tip_lag_1\n",
      "0.0    0.284437\n",
      "1.0    0.747873\n",
      "Name: tip, dtype: float64\n"
     ]
    }
   ],
   "source": [
    "ar1_model = df_ar1.groupby('tip_lag_1')['tip'].mean()\n",
    "\n",
    "print(\"AR(1)-Modell (Bedingte Wahrscheinlichkeiten):\")\n",
    "print(ar1_model)"
   ]
  },
  {
   "cell_type": "markdown",
   "metadata": {},
   "source": [
    "**Interpretation des Modells**\n",
    "\n",
    "Das Ergebnis ist unsere \"Lookup-Tabelle\":\n",
    "\n",
    "Wenn bei der letzten Bestellung kein Trinkgeld gegeben wurde (tip_lag_1 = 0.0), liegt die Wahrscheinlichkeit für ein Trinkgeld bei dieser Bestellung bei ca. 28.4%.\n",
    "Wenn bei der letzten Bestellung Trinkgeld gegeben wurde (tip_lag_1 = 1.0), liegt die Wahrscheinlichkeit für ein erneutes Trinkgeld bei ca. 74.7%.\n",
    "Das zeigt bereits eine starke Autokorrelation. Nun berechnen wir die Genauigkeit basierend auf diesen Wahrscheinlichkeiten."
   ]
  },
  {
   "cell_type": "code",
   "execution_count": 5,
   "metadata": {},
   "outputs": [
    {
     "name": "stdout",
     "output_type": "stream",
     "text": [
      "Prognosen für die ersten 5 Zeilen:\n",
      "   tip  tip_lag_1  prognose_wahrscheinlichkeit  prognose_klasse\n",
      "1  1.0        1.0                     0.747873              1.0\n",
      "2  1.0        1.0                     0.747873              1.0\n",
      "3  1.0        1.0                     0.747873              1.0\n",
      "4  1.0        1.0                     0.747873              1.0\n",
      "5  1.0        1.0                     0.747873              1.0\n",
      "--------------------------------------------------\n",
      "Genauigkeit des AR(1)-Modells: 73.27%\n"
     ]
    }
   ],
   "source": [
    "from sklearn.metrics import accuracy_score\n",
    "\n",
    "df_ar1['prognose_wahrscheinlichkeit'] = df_ar1['tip_lag_1'].map(ar1_model)\n",
    "df_ar1['prognose_klasse'] = (df_ar1['prognose_wahrscheinlichkeit'] > 0.5).astype(float)\n",
    "\n",
    "accuracy_ar1 = accuracy_score(df_ar1['tip'], df_ar1['prognose_klasse'])\n",
    "\n",
    "print(\"Prognosen für die ersten 5 Zeilen:\")\n",
    "print(df_ar1.head())\n",
    "print(\"-\" * 50)\n",
    "print(f\"Genauigkeit des AR(1)-Modells: {accuracy_ar1:.2%}\")"
   ]
  },
  {
   "cell_type": "markdown",
   "metadata": {},
   "source": [
    "**Antwort zu Aufgabe 2a:**\n",
    "\n",
    "Die Genauigkeit (Accuracy), mit der die Trinkgeldgabe bei einer Bestellung allein aus der Information der vorhergehenden Bestellung vorhergesagt werden kann, beträgt ca. 70.16%. Dies ist unser erster Basiswert, den wir in den nächsten Schritten zu verbessern versuchen.\n",
    "\n",
    "___\n",
    "\n",
    "## Aufgabe 2b: Das AR(2)-Modell - Vorhersage aus den letzten beiden Bestellungen\n",
    "\n",
    "**Fragestellung:**\n",
    "\n",
    "Mit welcher Genauigkeit lässt sich die Trinkgeldgabe vorhersagen, wenn man zusätzlich zu (a) die Information als Input benutzt, ob bei der vor-vorhergehenden Bestellung eines Users Trinkgeld gegeben wurde? (AR(2)-Modell)\n",
    "\n",
    "**Konzept:**\n",
    "Wir erweitern unser vorheriges Modell. Die Vorhersage für `tip_t` basiert nun auf `tip_t-1` und `tip_t-2`.\n",
    "\n",
    "- Das \"Modell\": Unsere Lookup-Tabelle wird größer. Anstatt 2 hat sie nun 2^2=4 Einträge für jede mögliche Kombination der letzten beiden Trinkgeld-Entscheidungen:\n",
    "    - Fall 1: Letztes Mal Tip (1), vorletztes Mal Tip (1)\n",
    "    - Fall 2: Letztes Mal Tip (1), vorletztes Mal kein Tip (0)\n",
    "    - Fall 3: Letztes Mal kein Tip (0), vorletztes Mal Tip (1)\n",
    "    - Fall 4: Letztes Mal kein Tip (0), vorletztes Mal kein Tip (0)\n",
    "- **Prognose & Genauigkeit:** Die Logik bleibt gleich. Wir berechnen für jeden der 4 Fälle die bedingte Wahrscheinlichkeit für ein Trinkgeld und nutzen die 50%-Schwelle für unsere Prognose. Dann messen wir die Accuracy."
   ]
  },
  {
   "cell_type": "code",
   "execution_count": 6,
   "metadata": {},
   "outputs": [
    {
     "name": "stdout",
     "output_type": "stream",
     "text": [
      "Anzahl der verwendbaren Datenpunkte für das AR(2)-Modell: 1277217\n"
     ]
    }
   ],
   "source": [
    "df_ar2 = df[['tip', 'tip_lag_1', 'tip_lag_2']].dropna()\n",
    "print(f\"Anzahl der verwendbaren Datenpunkte für das AR(2)-Modell: {len(df_ar2)}\")"
   ]
  },
  {
   "cell_type": "code",
   "execution_count": 7,
   "metadata": {},
   "outputs": [
    {
     "name": "stdout",
     "output_type": "stream",
     "text": [
      "AR(2)-Modell (Bedingte Wahrscheinlichkeiten):\n",
      "tip_lag_1  tip_lag_2\n",
      "0.0        0.0          0.220910\n",
      "           1.0          0.446050\n",
      "1.0        0.0          0.570385\n",
      "           1.0          0.809381\n",
      "Name: tip, dtype: float64\n"
     ]
    }
   ],
   "source": [
    "ar2_model = df_ar2.groupby(['tip_lag_1', 'tip_lag_2'])['tip'].mean()\n",
    "print(\"AR(2)-Modell (Bedingte Wahrscheinlichkeiten):\")\n",
    "print(ar2_model)"
   ]
  },
  {
   "cell_type": "markdown",
   "metadata": {},
   "source": [
    "**Interpretation des Modells**\n",
    "Unsere neue, detailliertere Lookup-Tabelle zeigt:\n",
    "\n",
    "- Wenn in den letzten beiden Bestellungen kein Trinkgeld gegeben wurde (tip_lag_1=0, tip_lag_2=0), ist die Wahrscheinlichkeit für ein Trinkgeld jetzt nur ca. 22,1%.\n",
    "- Wenn beide Male Trinkgeld gegeben wurde (tip_lag_1=1, tip_lag_2=1), steigt die Wahrscheinlichkeit auf ca. 80.9%.\n",
    "\n",
    "Die Historie scheint also eine noch größere Rolle zu spielen. Wir prüfen, ob sich dies in einer höheren Genauigkeit niederschlägt."
   ]
  },
  {
   "cell_type": "code",
   "execution_count": 8,
   "metadata": {},
   "outputs": [
    {
     "name": "stdout",
     "output_type": "stream",
     "text": [
      "Genauigkeit des AR(1)-Modells: 73.27%\n",
      "Genauigkeit des AR(2)-Modells: 73.30%\n"
     ]
    }
   ],
   "source": [
    "# --- Schritt 3: Prognose erstellen und Genauigkeit berechnen ---\n",
    "\n",
    "# Um die Wahrscheinlichkeiten auf die ursprünglichen Daten zu mappen, ist ein Merge einfacher als .map()\n",
    "ar2_model_df = ar2_model.reset_index().rename(columns={'tip': 'prognose_wahrscheinlichkeit'})\n",
    "df_ar2 = pd.merge(df_ar2, ar2_model_df, on=['tip_lag_1', 'tip_lag_2'], how='left')\n",
    "\n",
    "# Erstellen der finalen Prognose basierend auf der 50%-Schwelle\n",
    "df_ar2['prognose_klasse'] = (df_ar2['prognose_wahrscheinlichkeit'] > 0.5).astype(int)\n",
    "\n",
    "accuracy_ar2 = accuracy_score(df_ar2['tip'], df_ar2['prognose_klasse'])\n",
    "\n",
    "print(f\"Genauigkeit des AR(1)-Modells: {accuracy_ar1:.2%}\")\n",
    "print(f\"Genauigkeit des AR(2)-Modells: {accuracy_ar2:.2%}\")"
   ]
  },
  {
   "cell_type": "markdown",
   "metadata": {},
   "source": [
    "**Antwort zu Aufgabe 2b:**\n",
    "Die Genauigkeit des AR(2)-Modells beträgt ca. 70.43%.\n",
    "\n",
    "**Vergleich:** Das AR(2)-Modell (73.27%) ist geringfügig genauer als das AR(1)-Modell (73.27%). Die Information über die vorletzte Bestellung liefert also einen kleinen, aber messbaren zusätzlichen Beitrag zur Vorhersagegenauigkeit.\n",
    "\n",
    "___\n",
    "\n",
    "## Aufgabe 2c: ACF, PACF und das optimale AR(n)-Modell\n",
    "\n",
    "**Fragestellung:**\n",
    "\n",
    "Untersuchen Sie die Autokorrelationen und partiellen Autokorrelationen der Zeitreihe und schätzen Sie daraus ab, welchen Wert für n man verwenden sollte, wenn man ein AR(n)-Modell für diese Zeitreihe benutzt. Welche Genauigkeit erreicht dieses optimale AR(n)-Modell?\n",
    "\n",
    "Bezug zur Vorlesung und den Hinweisen:\n",
    "\n",
    "- **ACF**: Wir berechnen die Autokorrelation mit dem robusten groupby().shift()-Ansatz, indem wir die Korrelationsmatrix der Lag-Features erstellen.\n",
    "- **PACF:** Die manuelle Implementierung der partiellen Autokorrelation ist aufwendig. Laut Hinweis des Professors sollen wir uns darauf konzentrieren, das Konzept zu verstehen. Wir werden daher die PACF konzeptionell bestimmen, indem wir die schrittweise Verbesserung der Modellgenauigkeit analysieren. Der \"optimale\" Lag n ist der Punkt, an dem das Hinzufügen eines weiteren Lags keine signifikante Verbesserung mehr bringt."
   ]
  },
  {
   "cell_type": "code",
   "execution_count": 14,
   "metadata": {},
   "outputs": [
    {
     "name": "stdout",
     "output_type": "stream",
     "text": [
      "Autokorrelationsfunktion (ACF) für Lags 1-5:\n",
      "tip          1.000000\n",
      "tip_lag_1    0.463457\n",
      "tip_lag_2    0.397025\n",
      "tip_lag_3    0.376928\n",
      "tip_lag_4    0.368941\n",
      "tip_lag_5    0.361936\n",
      "Name: tip, dtype: float64\n"
     ]
    },
    {
     "data": {
      "image/png": "[encoded data removed]",
      "text/plain": [
       "<Figure size 1000x500 with 1 Axes>"
      ]
     },
     "metadata": {},
     "output_type": "display_data"
    }
   ],
   "source": [
    "# --- Schritt 1: ACF berechnen ---\n",
    "\n",
    "# Wähle die relevanten Spalten aus\n",
    "df_corr = df[['tip', 'tip_lag_1', 'tip_lag_2', 'tip_lag_3', 'tip_lag_4', 'tip_lag_5']]\n",
    "\n",
    "# Berechne die Korrelationsmatrix\n",
    "corr_matrix = df_corr.corr()\n",
    "\n",
    "# Extrahiere die ACF-Werte (die Korrelation von 'tip' mit den Lag-Spalten)\n",
    "acf_values = corr_matrix['tip'][:] # Wir ignorieren die Korrelation mit sich selbst (Lag 0)\n",
    "\n",
    "print(\"Autokorrelationsfunktion (ACF) für Lags 1-5:\")\n",
    "print(acf_values)\n",
    "\n",
    "# Visualisierung als Balkendiagramm\n",
    "plt.figure(figsize=(10, 5))\n",
    "acf_values.plot(kind='bar')\n",
    "plt.title('Autokorrelation (ACF) der Trinkgeld-Zeitreihe')\n",
    "plt.xlabel('Lag')\n",
    "plt.ylabel('Korrelation')\n",
    "plt.axhline(0, color='grey', linewidth=0.8)\n",
    "plt.show()"
   ]
  },
  {
   "cell_type": "code",
   "execution_count": 11,
   "metadata": {},
   "outputs": [],
   "source": [
    "def calculate_pacf(df, lag):\n",
    "\n",
    "    \n",
    "    # Sonderfall: PACF(1) ist identisch mit ACF(1)\n",
    "    if lag == 1:\n",
    "        return df[['tip', 'tip_lag_1']].corr().iloc[0, 1]\n",
    "    \n",
    "    # --- Vorbereitung für Lags > 1 ---\n",
    "    intermediate_lags = [f'tip_lag_{i}' for i in range(1, lag)]\n",
    "    required_cols = ['tip', f'tip_lag_{lag}'] + intermediate_lags\n",
    "    df_pacf = df[required_cols].dropna()\n",
    "\n",
    "    # --- Regression 1: \"Säubern\" der Zielvariable 'tip' ---\n",
    "    X_intermediate = df_pacf[intermediate_lags]\n",
    "    y_target = df_pacf['tip']\n",
    "    \n",
    "    model1 = LinearRegression().fit(X_intermediate, y_target)\n",
    "    residuals_tip = y_target - model1.predict(X_intermediate)\n",
    "        \n",
    "    y_lag_n = df_pacf[f'tip_lag_{lag}']\n",
    "    \n",
    "    model2 = LinearRegression().fit(X_intermediate, y_lag_n)\n",
    "    residuals_tip_lag_n = y_lag_n - model2.predict(X_intermediate)\n",
    "    \n",
    "    # --- Finale Berechnung ---\n",
    "    pacf_value = residuals_tip.corr(residuals_tip_lag_n)\n",
    "    \n",
    "    return pacf_value"
   ]
  },
  {
   "cell_type": "code",
   "execution_count": 18,
   "metadata": {},
   "outputs": [
    {
     "name": "stdout",
     "output_type": "stream",
     "text": [
      "PACF(1) = 0.4635\n",
      "PACF(2) = 0.2325\n",
      "PACF(3) = 0.1732\n",
      "PACF(4) = 0.1423\n",
      "PACF(5) = 0.1177\n",
      "PACF(6) = 0.1022\n",
      "PACF(7) = 0.0879\n",
      "PACF(8) = 0.0808\n",
      "PACF(9) = 0.0716\n",
      "PACF(10) = 0.0670\n",
      "tip_lag_0    1.000000\n",
      "lag_1        0.463457\n",
      "lag_2        0.232492\n",
      "lag_3        0.173192\n",
      "lag_4        0.142329\n",
      "dtype: float64\n"
     ]
    },
    {
     "data": {
      "image/png": "[encoded data removed]",
      "text/plain": [
       "<Figure size 1000x500 with 1 Axes>"
      ]
     },
     "metadata": {},
     "output_type": "display_data"
    }
   ],
   "source": [
    "pacf_values_dict = {'tip_lag_0': 1}\n",
    "\n",
    "# Schleife, um die Funktion für die Lags 1 bis 5 aufzurufen\n",
    "max_lag_to_calc = 10\n",
    "for n in range(1, max_lag_to_calc + 1):\n",
    "    pacf_val = calculate_pacf(df, lag=n)\n",
    "    pacf_values_dict[f'lag_{n}'] = pacf_val\n",
    "    print(f\"PACF({n}) = {pacf_val:.4f}\")\n",
    "\n",
    "# Ergebnisse in eine Pandas Series umwandeln für die Visualisierung\n",
    "pacf_values = pd.Series(pacf_values_dict)\n",
    "print(pacf_values.head())\n",
    "\n",
    "plt.figure(figsize=(10, 5))\n",
    "pacf_values.plot(kind='bar')\n",
    "plt.title('Partielle Autokorrelation (PACF) der Trinkgeld-Zeitreihe')\n",
    "plt.xlabel('Lag')\n",
    "plt.ylabel('Partielle Korrelation')\n",
    "plt.axhline(0, color='grey', linewidth=0.8)\n",
    "\n",
    "# Konfidenzintervall\n",
    "n_obs = len(df.dropna()) # Gesamtzahl der Beobachtungen für eine grobe Schätzung\n",
    "conf_interval = 2 / np.sqrt(n_obs)\n",
    "plt.axhline(conf_interval, color='steelblue', linestyle='--')\n",
    "plt.axhline(-conf_interval, color='steelblue', linestyle='--')\n",
    "plt.show()"
   ]
  },
  {
   "cell_type": "code",
   "execution_count": 13,
   "metadata": {},
   "outputs": [
    {
     "name": "stdout",
     "output_type": "stream",
     "text": [
      "Genauigkeit der AR(n)-Modelle:\n",
      "AR(1)     0.732668\n",
      "AR(2)     0.733032\n",
      "AR(3)     0.733456\n",
      "AR(4)     0.740431\n",
      "AR(5)     0.742220\n",
      "AR(6)     0.742994\n",
      "AR(7)     0.745338\n",
      "AR(8)     0.746198\n",
      "AR(9)     0.747433\n",
      "AR(10)    0.748444\n",
      "dtype: float64\n"
     ]
    },
    {
     "data": {
      "image/png": "[encoded data removed]",
      "text/plain": [
       "<Figure size 1000x500 with 1 Axes>"
      ]
     },
     "metadata": {},
     "output_type": "display_data"
    }
   ],
   "source": [
    "# --- Schritt 2: Genauigkeit für AR(1) bis AR(5) berechnen ---\n",
    "accuracies = {}\n",
    "for n in range(1, 11):\n",
    "    lags = [f'tip_lag_{i}' for i in range(1, n + 1)]\n",
    "    cols_to_use = ['tip'] + lags\n",
    "    \n",
    "    # Erstelle das Trainingset für das jeweilige AR(n)-Modell\n",
    "    df_arn = df[cols_to_use].dropna()\n",
    "    # Lerne das \"Modell\" (die Lookup-Tabelle)\n",
    "    arn_model = df_arn.groupby(lags)['tip'].mean()\n",
    "    arn_model_df = arn_model.reset_index().rename(columns={'tip': 'prognose_wahrscheinlichkeit'})\n",
    "    df_arn = pd.merge(df_arn, arn_model_df, on=lags, how='left')\n",
    "    df_arn['prognose_klasse'] = (df_arn['prognose_wahrscheinlichkeit'] > 0.5).astype(int)\n",
    "    \n",
    "    accuracy = accuracy_score(df_arn['tip'], df_arn['prognose_klasse'])\n",
    "    accuracies[f'AR({n})'] = accuracy\n",
    "\n",
    "accuracy_series = pd.Series(accuracies)\n",
    "print(\"Genauigkeit der AR(n)-Modelle:\")\n",
    "print(accuracy_series)\n",
    "\n",
    "plt.figure(figsize=(10, 5))\n",
    "accuracy_series.plot(kind='line', marker='o')\n",
    "plt.title('Modell-Genauigkeit in Abhängigkeit der Ordnung n')\n",
    "plt.xlabel('AR(n) Modell')\n",
    "plt.ylabel('Accuracy')\n",
    "plt.ylim(bottom=accuracy_series.min() * 0.99, top=accuracy_series.max() * 1.01) \n",
    "plt.grid(True)\n",
    "plt.show()"
   ]
  },
  {
   "cell_type": "markdown",
   "metadata": {},
   "source": [
    "___\n",
    "\n"
   ]
  }
 ],
 "metadata": {
  "kernelspec": {
   "display_name": "dabi2-test",
   "language": "python",
   "name": "dabi2-test"
  },
  "language_info": {
   "codemirror_mode": {
    "name": "ipython",
    "version": 3
   },
   "file_extension": ".py",
   "mimetype": "text/x-python",
   "name": "python",
   "nbconvert_exporter": "python",
   "pygments_lexer": "ipython3",
   "version": "3.12.9"
  }
 },
 "nbformat": 4,
 "nbformat_minor": 2
}
