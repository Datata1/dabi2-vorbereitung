{
 "cells": [
  {
   "cell_type": "code",
   "execution_count": 1,
   "metadata": {},
   "outputs": [
    {
     "name": "stdout",
     "output_type": "stream",
     "text": [
      "Daten und Bibliotheken sind bereit.\n"
     ]
    },
    {
     "data": {
      "text/html": [
       "<div>\n",
       "<style scoped>\n",
       "    .dataframe tbody tr th:only-of-type {\n",
       "        vertical-align: middle;\n",
       "    }\n",
       "\n",
       "    .dataframe tbody tr th {\n",
       "        vertical-align: top;\n",
       "    }\n",
       "\n",
       "    .dataframe thead th {\n",
       "        text-align: right;\n",
       "    }\n",
       "</style>\n",
       "<table border=\"1\" class=\"dataframe\">\n",
       "  <thead>\n",
       "    <tr style=\"text-align: right;\">\n",
       "      <th></th>\n",
       "      <th>Umsatz</th>\n",
       "      <th>Monat</th>\n",
       "      <th>t</th>\n",
       "    </tr>\n",
       "    <tr>\n",
       "      <th>Month</th>\n",
       "      <th></th>\n",
       "      <th></th>\n",
       "      <th></th>\n",
       "    </tr>\n",
       "  </thead>\n",
       "  <tbody>\n",
       "    <tr>\n",
       "      <th>1949-01-01</th>\n",
       "      <td>112</td>\n",
       "      <td>1</td>\n",
       "      <td>1949.000000</td>\n",
       "    </tr>\n",
       "    <tr>\n",
       "      <th>1949-02-01</th>\n",
       "      <td>118</td>\n",
       "      <td>2</td>\n",
       "      <td>1949.083333</td>\n",
       "    </tr>\n",
       "    <tr>\n",
       "      <th>1949-03-01</th>\n",
       "      <td>132</td>\n",
       "      <td>3</td>\n",
       "      <td>1949.166667</td>\n",
       "    </tr>\n",
       "    <tr>\n",
       "      <th>1949-04-01</th>\n",
       "      <td>129</td>\n",
       "      <td>4</td>\n",
       "      <td>1949.250000</td>\n",
       "    </tr>\n",
       "    <tr>\n",
       "      <th>1949-05-01</th>\n",
       "      <td>121</td>\n",
       "      <td>5</td>\n",
       "      <td>1949.333333</td>\n",
       "    </tr>\n",
       "  </tbody>\n",
       "</table>\n",
       "</div>"
      ],
      "text/plain": [
       "            Umsatz  Monat            t\n",
       "Month                                 \n",
       "1949-01-01     112      1  1949.000000\n",
       "1949-02-01     118      2  1949.083333\n",
       "1949-03-01     132      3  1949.166667\n",
       "1949-04-01     129      4  1949.250000\n",
       "1949-05-01     121      5  1949.333333"
      ]
     },
     "execution_count": 1,
     "metadata": {},
     "output_type": "execute_result"
    }
   ],
   "source": [
    "import pandas as pd\n",
    "import plotly.express as px\n",
    "import matplotlib.pyplot as plt\n",
    "import statsmodels.api as sm\n",
    "from statsmodels.tsa.stattools import adfuller\n",
    "\n",
    "url = 'https://raw.githubusercontent.com/jbrownlee/Datasets/master/airline-passengers.csv'\n",
    "df = pd.read_csv(url, parse_dates=['Month'], index_col='Month')\n",
    "df.rename(columns={'Passengers': 'Umsatz'}, inplace=True) # Umbenennung für Konsistenz mit Vorlesungsbeispiel\n",
    "\n",
    "df['Monat'] = df.index.month\n",
    "df['t'] = df.index.year + (df.index.month - 1) / 12\n",
    "\n",
    "print(\"Daten und Bibliotheken sind bereit.\")\n",
    "df.head()"
   ]
  },
  {
   "cell_type": "markdown",
   "metadata": {},
   "source": [
    "**1. Statistischer Test auf Stationarität (ADF-Test)**\n",
    "\n",
    "In Notebook 1 haben wir visuell festgestellt, dass unsere Zeitreihe nicht stationär ist. Ein statistischer Test kann diese Vermutung formal bestätigen. Der am häufigsten verwendete Test ist der Augmented Dickey-Fuller (ADF) Test.\n",
    "\n",
    "Bezug zur Vorlesung: Der Test prüft eine spezifische Form der Nicht-Stationarität (eine sog. \"unit root\").\n",
    "\n",
    "Nullhypothese (H0): Die Zeitreihe ist nicht stationär.\n",
    "Alternative Hypothese (H1): Die Zeitreihe ist stationär.\n",
    "Wir interpretieren das Ergebnis anhand des p-Wertes:\n",
    "\n",
    "- Wenn p-Wert <= 0.05: Wir verwerfen die Nullhypothese. Die Daten sind wahrscheinlich stationär.\n",
    "- Wenn p-Wert > 0.05: Wir können die Nullhypothese nicht verwerfen. Die Daten sind wahrscheinlich nicht stationär."
   ]
  },
  {
   "cell_type": "code",
   "execution_count": 2,
   "metadata": {},
   "outputs": [
    {
     "name": "stdout",
     "output_type": "stream",
     "text": [
      "ADF Statistik: 0.815369\n",
      "p-Wert: 0.991880\n",
      "Kritische Werte:\n",
      "\t1%: -3.482\n",
      "\t5%: -2.884\n",
      "\t10%: -2.579\n",
      "\n",
      "Ergebnis: Der p-Wert ist größer als 0.05. Wir können die Nullhypothese nicht verwerfen. Die Zeitreihe ist NICHT stationär.\n"
     ]
    }
   ],
   "source": [
    "# --- Schritt 2: ADF-Test auf die Originaldaten anwenden ---\n",
    "adf_result = adfuller(df['Umsatz'])\n",
    "print('ADF Statistik: %f' % adf_result[0])\n",
    "print('p-Wert: %f' % adf_result[1])\n",
    "print('Kritische Werte:')\n",
    "for key, value in adf_result[4].items():\n",
    "    print('\\t%s: %.3f' % (key, value))\n",
    "\n",
    "if adf_result[1] > 0.05:\n",
    "    print(\"\\nErgebnis: Der p-Wert ist größer als 0.05. Wir können die Nullhypothese nicht verwerfen. Die Zeitreihe ist NICHT stationär.\")\n",
    "else:\n",
    "    print(\"\\nErgebnis: Der p-Wert ist kleiner oder gleich 0.05. Wir verwerfen die Nullhypothese. Die Zeitreihe IST stationär.\")"
   ]
  },
  {
   "cell_type": "markdown",
   "metadata": {},
   "source": [
    "___\n",
    "**2. Trendbereinigung durch Differenzbildung**\n",
    "\n",
    "Der ADF-Test hat bestätigt, was wir gesehen haben. Unser erster Schritt zur Stationarisierung ist die Entfernung des Trends.\n",
    "\n",
    "Bezug zur Vorlesung: Wie auf Folie \"Zeitreihen stationär machen (1)\" beschrieben, ist die Differenzbildung die gängigste Methode, um einen linearen Trend zu entfernen. Wir berechnen die Differenz zwischen einem Wert und seinem direkten Vorgänger: Y \n",
    "\n",
    "∗t=Y_t−Y∗t−1. In pandas geht das sehr einfach mit der .diff()-Methode. Dies entspricht der Komponente \"I\" (Integrated) mit dem Parameter d=1 in einem ARIMA-Modell."
   ]
  },
  {
   "cell_type": "code",
   "execution_count": 16,
   "metadata": {},
   "outputs": [
    {
     "data": {
      "application/vnd.plotly.v1+json": {
       "config": {
        "plotlyServerURL": "https://plot.ly"
       },
       "data": [
        {
         "hovertemplate": "Datum=%{x}<br>Differenz der Passagiere=%{y}<extra></extra>",
         "legendgroup": "",
         "line": {
          "color": "#636efa",
          "dash": "solid"
         },
         "marker": {
          "symbol": "circle"
         },
         "mode": "lines",
         "name": "",
         "orientation": "v",
         "showlegend": false,
         "type": "scatter",
         "x": [
          "1949-02-01T00:00:00",
          "1949-03-01T00:00:00",
          "1949-04-01T00:00:00",
          "1949-05-01T00:00:00",
          "1949-06-01T00:00:00",
          "1949-07-01T00:00:00",
          "1949-08-01T00:00:00",
          "1949-09-01T00:00:00",
          "1949-10-01T00:00:00",
          "1949-11-01T00:00:00",
          "1949-12-01T00:00:00",
          "1950-01-01T00:00:00",
          "1950-02-01T00:00:00",
          "1950-03-01T00:00:00",
          "1950-04-01T00:00:00",
          "1950-05-01T00:00:00",
          "1950-06-01T00:00:00",
          "1950-07-01T00:00:00",
          "1950-08-01T00:00:00",
          "1950-09-01T00:00:00",
          "1950-10-01T00:00:00",
          "1950-11-01T00:00:00",
          "1950-12-01T00:00:00",
          "1951-01-01T00:00:00",
          "1951-02-01T00:00:00",
          "1951-03-01T00:00:00",
          "1951-04-01T00:00:00",
          "1951-05-01T00:00:00",
          "1951-06-01T00:00:00",
          "1951-07-01T00:00:00",
          "1951-08-01T00:00:00",
          "1951-09-01T00:00:00",
          "1951-10-01T00:00:00",
          "1951-11-01T00:00:00",
          "1951-12-01T00:00:00",
          "1952-01-01T00:00:00",
          "1952-02-01T00:00:00",
          "1952-03-01T00:00:00",
          "1952-04-01T00:00:00",
          "1952-05-01T00:00:00",
          "1952-06-01T00:00:00",
          "1952-07-01T00:00:00",
          "1952-08-01T00:00:00",
          "1952-09-01T00:00:00",
          "1952-10-01T00:00:00",
          "1952-11-01T00:00:00",
          "1952-12-01T00:00:00",
          "1953-01-01T00:00:00",
          "1953-02-01T00:00:00",
          "1953-03-01T00:00:00",
          "1953-04-01T00:00:00",
          "1953-05-01T00:00:00",
          "1953-06-01T00:00:00",
          "1953-07-01T00:00:00",
          "1953-08-01T00:00:00",
          "1953-09-01T00:00:00",
          "1953-10-01T00:00:00",
          "1953-11-01T00:00:00",
          "1953-12-01T00:00:00",
          "1954-01-01T00:00:00",
          "1954-02-01T00:00:00",
          "1954-03-01T00:00:00",
          "1954-04-01T00:00:00",
          "1954-05-01T00:00:00",
          "1954-06-01T00:00:00",
          "1954-07-01T00:00:00",
          "1954-08-01T00:00:00",
          "1954-09-01T00:00:00",
          "1954-10-01T00:00:00",
          "1954-11-01T00:00:00",
          "1954-12-01T00:00:00",
          "1955-01-01T00:00:00",
          "1955-02-01T00:00:00",
          "1955-03-01T00:00:00",
          "1955-04-01T00:00:00",
          "1955-05-01T00:00:00",
          "1955-06-01T00:00:00",
          "1955-07-01T00:00:00",
          "1955-08-01T00:00:00",
          "1955-09-01T00:00:00",
          "1955-10-01T00:00:00",
          "1955-11-01T00:00:00",
          "1955-12-01T00:00:00",
          "1956-01-01T00:00:00",
          "1956-02-01T00:00:00",
          "1956-03-01T00:00:00",
          "1956-04-01T00:00:00",
          "1956-05-01T00:00:00",
          "1956-06-01T00:00:00",
          "1956-07-01T00:00:00",
          "1956-08-01T00:00:00",
          "1956-09-01T00:00:00",
          "1956-10-01T00:00:00",
          "1956-11-01T00:00:00",
          "1956-12-01T00:00:00",
          "1957-01-01T00:00:00",
          "1957-02-01T00:00:00",
          "1957-03-01T00:00:00",
          "1957-04-01T00:00:00",
          "1957-05-01T00:00:00",
          "1957-06-01T00:00:00",
          "1957-07-01T00:00:00",
          "1957-08-01T00:00:00",
          "1957-09-01T00:00:00",
          "1957-10-01T00:00:00",
          "1957-11-01T00:00:00",
          "1957-12-01T00:00:00",
          "1958-01-01T00:00:00",
          "1958-02-01T00:00:00",
          "1958-03-01T00:00:00",
          "1958-04-01T00:00:00",
          "1958-05-01T00:00:00",
          "1958-06-01T00:00:00",
          "1958-07-01T00:00:00",
          "1958-08-01T00:00:00",
          "1958-09-01T00:00:00",
          "1958-10-01T00:00:00",
          "1958-11-01T00:00:00",
          "1958-12-01T00:00:00",
          "1959-01-01T00:00:00",
          "1959-02-01T00:00:00",
          "1959-03-01T00:00:00",
          "1959-04-01T00:00:00",
          "1959-05-01T00:00:00",
          "1959-06-01T00:00:00",
          "1959-07-01T00:00:00",
          "1959-08-01T00:00:00",
          "1959-09-01T00:00:00",
          "1959-10-01T00:00:00",
          "1959-11-01T00:00:00",
          "1959-12-01T00:00:00",
          "1960-01-01T00:00:00",
          "1960-02-01T00:00:00",
          "1960-03-01T00:00:00",
          "1960-04-01T00:00:00",
          "1960-05-01T00:00:00",
          "1960-06-01T00:00:00",
          "1960-07-01T00:00:00",
          "1960-08-01T00:00:00",
          "1960-09-01T00:00:00",
          "1960-10-01T00:00:00",
          "1960-11-01T00:00:00",
          "1960-12-01T00:00:00"
         ],
         "xaxis": "x",
         "y": {
          "bdata": "AAAAAAAAGEAAAAAAAAAsQAAAAAAAAAjAAAAAAAAAIMAAAAAAAAAsQAAAAAAAACpAAAAAAAAAAAAAAAAAAAAowAAAAAAAADHAAAAAAAAALsAAAAAAAAAsQAAAAAAAAAjAAAAAAAAAJkAAAAAAAAAuQAAAAAAAABjAAAAAAAAAJMAAAAAAAAA4QAAAAAAAADVAAAAAAAAAAAAAAAAAAAAowAAAAAAAADnAAAAAAAAAM8AAAAAAAAA6QAAAAAAAABRAAAAAAAAAFEAAAAAAAAA8QAAAAAAAAC7AAAAAAAAAIkAAAAAAAAAYQAAAAAAAADVAAAAAAAAAAAAAAAAAAAAuwAAAAAAAADbAAAAAAAAAMMAAAAAAAAA0QAAAAAAAABRAAAAAAAAAIkAAAAAAAAAqQAAAAAAAACjAAAAAAAAAAEAAAAAAAIBBQAAAAAAAAChAAAAAAAAAKEAAAAAAAIBAwAAAAAAAADLAAAAAAAAAM8AAAAAAAAA2QAAAAAAAAABAAAAAAAAAAAAAAAAAAABEQAAAAAAAAPC/AAAAAAAAGMAAAAAAAAAsQAAAAAAAADVAAAAAAAAAIEAAAAAAAIBBwAAAAAAAADrAAAAAAAAAP8AAAAAAAAA1QAAAAAAAAAhAAAAAAAAAMMAAAAAAAIBHQAAAAAAAACDAAAAAAAAAHEAAAAAAAAA+QAAAAAAAAENAAAAAAAAAIsAAAAAAAABBwAAAAAAAAD7AAAAAAAAAOsAAAAAAAAA6QAAAAAAAACpAAAAAAAAAIsAAAAAAAABBQAAAAAAAAABAAAAAAAAA8D8AAAAAAIBGQAAAAAAAgEhAAAAAAAAAMcAAAAAAAIBBwAAAAAAAAEPAAAAAAACAQsAAAAAAAIBEQAAAAAAAABhAAAAAAAAAHMAAAAAAAABEQAAAAAAAABDAAAAAAAAAFEAAAAAAAABMQAAAAAAAgENAAAAAAAAAIMAAAAAAAABJwAAAAAAAgEjAAAAAAACAQcAAAAAAAIBBQAAAAAAAACJAAAAAAAAALMAAAAAAAIBLQAAAAAAAACDAAAAAAAAAHEAAAAAAAMBQQAAAAAAAgEVAAAAAAAAAAEAAAAAAAIBPwAAAAAAAgEzAAAAAAAAARcAAAAAAAAA/QAAAAAAAABBAAAAAAAAANsAAAAAAAABGQAAAAAAAACzAAAAAAAAALkAAAAAAAABSQAAAAAAAAExAAAAAAAAALEAAAAAAAEBZwAAAAAAAgEbAAAAAAACASMAAAAAAAAA7QAAAAAAAADdAAAAAAAAAMsAAAAAAAABQQAAAAAAAACTAAAAAAAAAOEAAAAAAAABKQAAAAAAAAFNAAAAAAAAAJkAAAAAAAABYwAAAAAAAAEzAAAAAAACARsAAAAAAAIBFQAAAAAAAAChAAAAAAAAAOsAAAAAAAAA8QAAAAAAAAEVAAAAAAAAAJkAAAAAAAIBPQAAAAAAAwFVAAAAAAAAAMMAAAAAAAIBYwAAAAAAAgEfAAAAAAADAUcAAAAAAAABFQA==",
          "dtype": "f8"
         },
         "yaxis": "y"
        }
       ],
       "layout": {
        "legend": {
         "tracegroupgap": 0
        },
        "template": {
         "data": {
          "bar": [
           {
            "error_x": {
             "color": "#2a3f5f"
            },
            "error_y": {
             "color": "#2a3f5f"
            },
            "marker": {
             "line": {
              "color": "#E5ECF6",
              "width": 0.5
             },
             "pattern": {
              "fillmode": "overlay",
              "size": 10,
              "solidity": 0.2
             }
            },
            "type": "bar"
           }
          ],
          "barpolar": [
           {
            "marker": {
             "line": {
              "color": "#E5ECF6",
              "width": 0.5
             },
             "pattern": {
              "fillmode": "overlay",
              "size": 10,
              "solidity": 0.2
             }
            },
            "type": "barpolar"
           }
          ],
          "carpet": [
           {
            "aaxis": {
             "endlinecolor": "#2a3f5f",
             "gridcolor": "white",
             "linecolor": "white",
             "minorgridcolor": "white",
             "startlinecolor": "#2a3f5f"
            },
            "baxis": {
             "endlinecolor": "#2a3f5f",
             "gridcolor": "white",
             "linecolor": "white",
             "minorgridcolor": "white",
             "startlinecolor": "#2a3f5f"
            },
            "type": "carpet"
           }
          ],
          "choropleth": [
           {
            "colorbar": {
             "outlinewidth": 0,
             "ticks": ""
            },
            "type": "choropleth"
           }
          ],
          "contour": [
           {
            "colorbar": {
             "outlinewidth": 0,
             "ticks": ""
            },
            "colorscale": [
             [
              0,
              "#0d0887"
             ],
             [
              0.1111111111111111,
              "#46039f"
             ],
             [
              0.2222222222222222,
              "#7201a8"
             ],
             [
              0.3333333333333333,
              "#9c179e"
             ],
             [
              0.4444444444444444,
              "#bd3786"
             ],
             [
              0.5555555555555556,
              "#d8576b"
             ],
             [
              0.6666666666666666,
              "#ed7953"
             ],
             [
              0.7777777777777778,
              "#fb9f3a"
             ],
             [
              0.8888888888888888,
              "#fdca26"
             ],
             [
              1,
              "#f0f921"
             ]
            ],
            "type": "contour"
           }
          ],
          "contourcarpet": [
           {
            "colorbar": {
             "outlinewidth": 0,
             "ticks": ""
            },
            "type": "contourcarpet"
           }
          ],
          "heatmap": [
           {
            "colorbar": {
             "outlinewidth": 0,
             "ticks": ""
            },
            "colorscale": [
             [
              0,
              "#0d0887"
             ],
             [
              0.1111111111111111,
              "#46039f"
             ],
             [
              0.2222222222222222,
              "#7201a8"
             ],
             [
              0.3333333333333333,
              "#9c179e"
             ],
             [
              0.4444444444444444,
              "#bd3786"
             ],
             [
              0.5555555555555556,
              "#d8576b"
             ],
             [
              0.6666666666666666,
              "#ed7953"
             ],
             [
              0.7777777777777778,
              "#fb9f3a"
             ],
             [
              0.8888888888888888,
              "#fdca26"
             ],
             [
              1,
              "#f0f921"
             ]
            ],
            "type": "heatmap"
           }
          ],
          "histogram": [
           {
            "marker": {
             "pattern": {
              "fillmode": "overlay",
              "size": 10,
              "solidity": 0.2
             }
            },
            "type": "histogram"
           }
          ],
          "histogram2d": [
           {
            "colorbar": {
             "outlinewidth": 0,
             "ticks": ""
            },
            "colorscale": [
             [
              0,
              "#0d0887"
             ],
             [
              0.1111111111111111,
              "#46039f"
             ],
             [
              0.2222222222222222,
              "#7201a8"
             ],
             [
              0.3333333333333333,
              "#9c179e"
             ],
             [
              0.4444444444444444,
              "#bd3786"
             ],
             [
              0.5555555555555556,
              "#d8576b"
             ],
             [
              0.6666666666666666,
              "#ed7953"
             ],
             [
              0.7777777777777778,
              "#fb9f3a"
             ],
             [
              0.8888888888888888,
              "#fdca26"
             ],
             [
              1,
              "#f0f921"
             ]
            ],
            "type": "histogram2d"
           }
          ],
          "histogram2dcontour": [
           {
            "colorbar": {
             "outlinewidth": 0,
             "ticks": ""
            },
            "colorscale": [
             [
              0,
              "#0d0887"
             ],
             [
              0.1111111111111111,
              "#46039f"
             ],
             [
              0.2222222222222222,
              "#7201a8"
             ],
             [
              0.3333333333333333,
              "#9c179e"
             ],
             [
              0.4444444444444444,
              "#bd3786"
             ],
             [
              0.5555555555555556,
              "#d8576b"
             ],
             [
              0.6666666666666666,
              "#ed7953"
             ],
             [
              0.7777777777777778,
              "#fb9f3a"
             ],
             [
              0.8888888888888888,
              "#fdca26"
             ],
             [
              1,
              "#f0f921"
             ]
            ],
            "type": "histogram2dcontour"
           }
          ],
          "mesh3d": [
           {
            "colorbar": {
             "outlinewidth": 0,
             "ticks": ""
            },
            "type": "mesh3d"
           }
          ],
          "parcoords": [
           {
            "line": {
             "colorbar": {
              "outlinewidth": 0,
              "ticks": ""
             }
            },
            "type": "parcoords"
           }
          ],
          "pie": [
           {
            "automargin": true,
            "type": "pie"
           }
          ],
          "scatter": [
           {
            "fillpattern": {
             "fillmode": "overlay",
             "size": 10,
             "solidity": 0.2
            },
            "type": "scatter"
           }
          ],
          "scatter3d": [
           {
            "line": {
             "colorbar": {
              "outlinewidth": 0,
              "ticks": ""
             }
            },
            "marker": {
             "colorbar": {
              "outlinewidth": 0,
              "ticks": ""
             }
            },
            "type": "scatter3d"
           }
          ],
          "scattercarpet": [
           {
            "marker": {
             "colorbar": {
              "outlinewidth": 0,
              "ticks": ""
             }
            },
            "type": "scattercarpet"
           }
          ],
          "scattergeo": [
           {
            "marker": {
             "colorbar": {
              "outlinewidth": 0,
              "ticks": ""
             }
            },
            "type": "scattergeo"
           }
          ],
          "scattergl": [
           {
            "marker": {
             "colorbar": {
              "outlinewidth": 0,
              "ticks": ""
             }
            },
            "type": "scattergl"
           }
          ],
          "scattermap": [
           {
            "marker": {
             "colorbar": {
              "outlinewidth": 0,
              "ticks": ""
             }
            },
            "type": "scattermap"
           }
          ],
          "scattermapbox": [
           {
            "marker": {
             "colorbar": {
              "outlinewidth": 0,
              "ticks": ""
             }
            },
            "type": "scattermapbox"
           }
          ],
          "scatterpolar": [
           {
            "marker": {
             "colorbar": {
              "outlinewidth": 0,
              "ticks": ""
             }
            },
            "type": "scatterpolar"
           }
          ],
          "scatterpolargl": [
           {
            "marker": {
             "colorbar": {
              "outlinewidth": 0,
              "ticks": ""
             }
            },
            "type": "scatterpolargl"
           }
          ],
          "scatterternary": [
           {
            "marker": {
             "colorbar": {
              "outlinewidth": 0,
              "ticks": ""
             }
            },
            "type": "scatterternary"
           }
          ],
          "surface": [
           {
            "colorbar": {
             "outlinewidth": 0,
             "ticks": ""
            },
            "colorscale": [
             [
              0,
              "#0d0887"
             ],
             [
              0.1111111111111111,
              "#46039f"
             ],
             [
              0.2222222222222222,
              "#7201a8"
             ],
             [
              0.3333333333333333,
              "#9c179e"
             ],
             [
              0.4444444444444444,
              "#bd3786"
             ],
             [
              0.5555555555555556,
              "#d8576b"
             ],
             [
              0.6666666666666666,
              "#ed7953"
             ],
             [
              0.7777777777777778,
              "#fb9f3a"
             ],
             [
              0.8888888888888888,
              "#fdca26"
             ],
             [
              1,
              "#f0f921"
             ]
            ],
            "type": "surface"
           }
          ],
          "table": [
           {
            "cells": {
             "fill": {
              "color": "#EBF0F8"
             },
             "line": {
              "color": "white"
             }
            },
            "header": {
             "fill": {
              "color": "#C8D4E3"
             },
             "line": {
              "color": "white"
             }
            },
            "type": "table"
           }
          ]
         },
         "layout": {
          "annotationdefaults": {
           "arrowcolor": "#2a3f5f",
           "arrowhead": 0,
           "arrowwidth": 1
          },
          "autotypenumbers": "strict",
          "coloraxis": {
           "colorbar": {
            "outlinewidth": 0,
            "ticks": ""
           }
          },
          "colorscale": {
           "diverging": [
            [
             0,
             "#8e0152"
            ],
            [
             0.1,
             "#c51b7d"
            ],
            [
             0.2,
             "#de77ae"
            ],
            [
             0.3,
             "#f1b6da"
            ],
            [
             0.4,
             "#fde0ef"
            ],
            [
             0.5,
             "#f7f7f7"
            ],
            [
             0.6,
             "#e6f5d0"
            ],
            [
             0.7,
             "#b8e186"
            ],
            [
             0.8,
             "#7fbc41"
            ],
            [
             0.9,
             "#4d9221"
            ],
            [
             1,
             "#276419"
            ]
           ],
           "sequential": [
            [
             0,
             "#0d0887"
            ],
            [
             0.1111111111111111,
             "#46039f"
            ],
            [
             0.2222222222222222,
             "#7201a8"
            ],
            [
             0.3333333333333333,
             "#9c179e"
            ],
            [
             0.4444444444444444,
             "#bd3786"
            ],
            [
             0.5555555555555556,
             "#d8576b"
            ],
            [
             0.6666666666666666,
             "#ed7953"
            ],
            [
             0.7777777777777778,
             "#fb9f3a"
            ],
            [
             0.8888888888888888,
             "#fdca26"
            ],
            [
             1,
             "#f0f921"
            ]
           ],
           "sequentialminus": [
            [
             0,
             "#0d0887"
            ],
            [
             0.1111111111111111,
             "#46039f"
            ],
            [
             0.2222222222222222,
             "#7201a8"
            ],
            [
             0.3333333333333333,
             "#9c179e"
            ],
            [
             0.4444444444444444,
             "#bd3786"
            ],
            [
             0.5555555555555556,
             "#d8576b"
            ],
            [
             0.6666666666666666,
             "#ed7953"
            ],
            [
             0.7777777777777778,
             "#fb9f3a"
            ],
            [
             0.8888888888888888,
             "#fdca26"
            ],
            [
             1,
             "#f0f921"
            ]
           ]
          },
          "colorway": [
           "#636efa",
           "#EF553B",
           "#00cc96",
           "#ab63fa",
           "#FFA15A",
           "#19d3f3",
           "#FF6692",
           "#B6E880",
           "#FF97FF",
           "#FECB52"
          ],
          "font": {
           "color": "#2a3f5f"
          },
          "geo": {
           "bgcolor": "white",
           "lakecolor": "white",
           "landcolor": "#E5ECF6",
           "showlakes": true,
           "showland": true,
           "subunitcolor": "white"
          },
          "hoverlabel": {
           "align": "left"
          },
          "hovermode": "closest",
          "mapbox": {
           "style": "light"
          },
          "paper_bgcolor": "white",
          "plot_bgcolor": "#E5ECF6",
          "polar": {
           "angularaxis": {
            "gridcolor": "white",
            "linecolor": "white",
            "ticks": ""
           },
           "bgcolor": "#E5ECF6",
           "radialaxis": {
            "gridcolor": "white",
            "linecolor": "white",
            "ticks": ""
           }
          },
          "scene": {
           "xaxis": {
            "backgroundcolor": "#E5ECF6",
            "gridcolor": "white",
            "gridwidth": 2,
            "linecolor": "white",
            "showbackground": true,
            "ticks": "",
            "zerolinecolor": "white"
           },
           "yaxis": {
            "backgroundcolor": "#E5ECF6",
            "gridcolor": "white",
            "gridwidth": 2,
            "linecolor": "white",
            "showbackground": true,
            "ticks": "",
            "zerolinecolor": "white"
           },
           "zaxis": {
            "backgroundcolor": "#E5ECF6",
            "gridcolor": "white",
            "gridwidth": 2,
            "linecolor": "white",
            "showbackground": true,
            "ticks": "",
            "zerolinecolor": "white"
           }
          },
          "shapedefaults": {
           "line": {
            "color": "#2a3f5f"
           }
          },
          "ternary": {
           "aaxis": {
            "gridcolor": "white",
            "linecolor": "white",
            "ticks": ""
           },
           "baxis": {
            "gridcolor": "white",
            "linecolor": "white",
            "ticks": ""
           },
           "bgcolor": "#E5ECF6",
           "caxis": {
            "gridcolor": "white",
            "linecolor": "white",
            "ticks": ""
           }
          },
          "title": {
           "x": 0.05
          },
          "xaxis": {
           "automargin": true,
           "gridcolor": "white",
           "linecolor": "white",
           "ticks": "",
           "title": {
            "standoff": 15
           },
           "zerolinecolor": "white",
           "zerolinewidth": 2
          },
          "yaxis": {
           "automargin": true,
           "gridcolor": "white",
           "linecolor": "white",
           "ticks": "",
           "title": {
            "standoff": 15
           },
           "zerolinecolor": "white",
           "zerolinewidth": 2
          }
         }
        },
        "title": {
         "text": "Zeitreihe nach erster Differenzbildung (Trend entfernt)",
         "x": 0.5
        },
        "xaxis": {
         "anchor": "y",
         "domain": [
          0,
          1
         ],
         "title": {
          "text": "Datum"
         }
        },
        "yaxis": {
         "anchor": "x",
         "domain": [
          0,
          1
         ],
         "title": {
          "text": "Differenz der Passagiere"
         }
        }
       }
      }
     },
     "metadata": {},
     "output_type": "display_data"
    }
   ],
   "source": [
    "df['Trend_bereinigt'] = df['Umsatz'].diff(1)\n",
    "\n",
    "fig = px.line(\n",
    "    df.dropna(), \n",
    "    y='Trend_bereinigt', \n",
    "    title='Zeitreihe nach erster Differenzbildung (Trend entfernt)',\n",
    "    labels={'Month': 'Datum', 'Trend_bereinigt': 'Differenz der Passagiere'}\n",
    ")\n",
    "fig.update_layout(title_x=0.5)\n",
    "fig.show()"
   ]
  },
  {
   "cell_type": "markdown",
   "metadata": {},
   "source": [
    "**Interpretation**\n",
    "\n",
    "Der Aufwärtstrend ist verschwunden! Die Zeitreihe schwankt nun um einen Mittelwert nahe null. Allerdings ist das starke saisonale Muster immer noch deutlich zu erkennen. Wir testen erneut mit dem ADF-Test."
   ]
  },
  {
   "cell_type": "code",
   "execution_count": 17,
   "metadata": {},
   "outputs": [
    {
     "name": "stdout",
     "output_type": "stream",
     "text": [
      "ADF-Test nach Trendbereinigung:\n",
      "p-Wert: 0.054213\n"
     ]
    }
   ],
   "source": [
    "adf_result_diff1 = adfuller(df['Trend_bereinigt'].dropna())\n",
    "print(f\"ADF-Test nach Trendbereinigung:\")\n",
    "print('p-Wert: %f' % adf_result_diff1[1])"
   ]
  },
  {
   "cell_type": "markdown",
   "metadata": {},
   "source": [
    "Der p-Wert ist zwar gesunken, aber immer noch zu hoch. Die verbleibende Saisonalität verhindert, dass die Reihe stationär ist.\n",
    "\n",
    "___"
   ]
  },
  {
   "cell_type": "markdown",
   "metadata": {},
   "source": [
    "**Saisonbereinigung durch saisonale Differenzbildung**\n",
    "\n",
    "Nun entfernen wir die saisonale Komponente.\n",
    "\n",
    "Bezug zur Vorlesung: Hierzu verwenden wir die \"Differenzbildung mit größerer Verzögerung\". Da wir eine jährliche Saisonalität mit einer Periodenlänge s=12 haben, bilden wir die Differenz zum Wert des Vorjahres: Y \n",
    "′′\n",
    " _t=Y \n",
    "′\n",
    " ∗t−Y \n",
    "′\n",
    " ∗t−12. Dies entspricht dem saisonalen \"I\" mit dem Parameter D=1 in einem SARIMA-Modell.\n",
    "\n"
   ]
  },
  {
   "cell_type": "code",
   "execution_count": 18,
   "metadata": {},
   "outputs": [
    {
     "data": {
      "application/vnd.plotly.v1+json": {
       "config": {
        "plotlyServerURL": "https://plot.ly"
       },
       "data": [
        {
         "hovertemplate": "Datum=%{x}<br>Saisonale Differenz=%{y}<extra></extra>",
         "legendgroup": "",
         "line": {
          "color": "#636efa",
          "dash": "solid"
         },
         "marker": {
          "symbol": "circle"
         },
         "mode": "lines",
         "name": "",
         "orientation": "v",
         "showlegend": false,
         "type": "scatter",
         "x": [
          "1950-02-01T00:00:00",
          "1950-03-01T00:00:00",
          "1950-04-01T00:00:00",
          "1950-05-01T00:00:00",
          "1950-06-01T00:00:00",
          "1950-07-01T00:00:00",
          "1950-08-01T00:00:00",
          "1950-09-01T00:00:00",
          "1950-10-01T00:00:00",
          "1950-11-01T00:00:00",
          "1950-12-01T00:00:00",
          "1951-01-01T00:00:00",
          "1951-02-01T00:00:00",
          "1951-03-01T00:00:00",
          "1951-04-01T00:00:00",
          "1951-05-01T00:00:00",
          "1951-06-01T00:00:00",
          "1951-07-01T00:00:00",
          "1951-08-01T00:00:00",
          "1951-09-01T00:00:00",
          "1951-10-01T00:00:00",
          "1951-11-01T00:00:00",
          "1951-12-01T00:00:00",
          "1952-01-01T00:00:00",
          "1952-02-01T00:00:00",
          "1952-03-01T00:00:00",
          "1952-04-01T00:00:00",
          "1952-05-01T00:00:00",
          "1952-06-01T00:00:00",
          "1952-07-01T00:00:00",
          "1952-08-01T00:00:00",
          "1952-09-01T00:00:00",
          "1952-10-01T00:00:00",
          "1952-11-01T00:00:00",
          "1952-12-01T00:00:00",
          "1953-01-01T00:00:00",
          "1953-02-01T00:00:00",
          "1953-03-01T00:00:00",
          "1953-04-01T00:00:00",
          "1953-05-01T00:00:00",
          "1953-06-01T00:00:00",
          "1953-07-01T00:00:00",
          "1953-08-01T00:00:00",
          "1953-09-01T00:00:00",
          "1953-10-01T00:00:00",
          "1953-11-01T00:00:00",
          "1953-12-01T00:00:00",
          "1954-01-01T00:00:00",
          "1954-02-01T00:00:00",
          "1954-03-01T00:00:00",
          "1954-04-01T00:00:00",
          "1954-05-01T00:00:00",
          "1954-06-01T00:00:00",
          "1954-07-01T00:00:00",
          "1954-08-01T00:00:00",
          "1954-09-01T00:00:00",
          "1954-10-01T00:00:00",
          "1954-11-01T00:00:00",
          "1954-12-01T00:00:00",
          "1955-01-01T00:00:00",
          "1955-02-01T00:00:00",
          "1955-03-01T00:00:00",
          "1955-04-01T00:00:00",
          "1955-05-01T00:00:00",
          "1955-06-01T00:00:00",
          "1955-07-01T00:00:00",
          "1955-08-01T00:00:00",
          "1955-09-01T00:00:00",
          "1955-10-01T00:00:00",
          "1955-11-01T00:00:00",
          "1955-12-01T00:00:00",
          "1956-01-01T00:00:00",
          "1956-02-01T00:00:00",
          "1956-03-01T00:00:00",
          "1956-04-01T00:00:00",
          "1956-05-01T00:00:00",
          "1956-06-01T00:00:00",
          "1956-07-01T00:00:00",
          "1956-08-01T00:00:00",
          "1956-09-01T00:00:00",
          "1956-10-01T00:00:00",
          "1956-11-01T00:00:00",
          "1956-12-01T00:00:00",
          "1957-01-01T00:00:00",
          "1957-02-01T00:00:00",
          "1957-03-01T00:00:00",
          "1957-04-01T00:00:00",
          "1957-05-01T00:00:00",
          "1957-06-01T00:00:00",
          "1957-07-01T00:00:00",
          "1957-08-01T00:00:00",
          "1957-09-01T00:00:00",
          "1957-10-01T00:00:00",
          "1957-11-01T00:00:00",
          "1957-12-01T00:00:00",
          "1958-01-01T00:00:00",
          "1958-02-01T00:00:00",
          "1958-03-01T00:00:00",
          "1958-04-01T00:00:00",
          "1958-05-01T00:00:00",
          "1958-06-01T00:00:00",
          "1958-07-01T00:00:00",
          "1958-08-01T00:00:00",
          "1958-09-01T00:00:00",
          "1958-10-01T00:00:00",
          "1958-11-01T00:00:00",
          "1958-12-01T00:00:00",
          "1959-01-01T00:00:00",
          "1959-02-01T00:00:00",
          "1959-03-01T00:00:00",
          "1959-04-01T00:00:00",
          "1959-05-01T00:00:00",
          "1959-06-01T00:00:00",
          "1959-07-01T00:00:00",
          "1959-08-01T00:00:00",
          "1959-09-01T00:00:00",
          "1959-10-01T00:00:00",
          "1959-11-01T00:00:00",
          "1959-12-01T00:00:00",
          "1960-01-01T00:00:00",
          "1960-02-01T00:00:00",
          "1960-03-01T00:00:00",
          "1960-04-01T00:00:00",
          "1960-05-01T00:00:00",
          "1960-06-01T00:00:00",
          "1960-07-01T00:00:00",
          "1960-08-01T00:00:00",
          "1960-09-01T00:00:00",
          "1960-10-01T00:00:00",
          "1960-11-01T00:00:00",
          "1960-12-01T00:00:00"
         ],
         "xaxis": "x",
         "y": {
          "bdata": "AAAAAAAAFEAAAAAAAADwPwAAAAAAAAjAAAAAAAAAAMAAAAAAAAAkQAAAAAAAACBAAAAAAAAAAAAAAAAAAAAAAAAAAAAAACDAAAAAAAAAEMAAAAAAAAAoQAAAAAAAACBAAAAAAAAAGMAAAAAAAAAqQAAAAAAAACLAAAAAAAAAM0AAAAAAAAAywAAAAAAAAAAAAAAAAAAAAAAAAAAAAAAIwAAAAAAAAAhAAAAAAAAACEAAAAAAAAAYwAAAAAAAAAAAAAAAAAAAEEAAAAAAAAAuwAAAAAAAAAhAAAAAAAAAHMAAAAAAAAA9QAAAAAAAACLAAAAAAAAAKEAAAAAAAAAywAAAAAAAABBAAAAAAAAACMAAAAAAAAAAQAAAAAAAAAjAAAAAAAAAIsAAAAAAAAA7QAAAAAAAACZAAAAAAAAAIMAAAAAAAAA1wAAAAAAAACJAAAAAAAAAEMAAAAAAAAAAwAAAAAAAACDAAAAAAAAAKMAAAAAAAADwvwAAAAAAAPA/AAAAAAAAMMAAAAAAAAAcQAAAAAAAABzAAAAAAAAAKkAAAAAAAAAwQAAAAAAAADFAAAAAAAAAMcAAAAAAAADwPwAAAAAAABDAAAAAAAAAFEAAAAAAAAAUQAAAAAAAACRAAAAAAAAAHEAAAAAAAAAqwAAAAAAAACRAAAAAAAAAGMAAAAAAAAAuQAAAAAAAACZAAAAAAAAAIMAAAAAAAADwvwAAAAAAACDAAAAAAAAAJsAAAAAAAAAuQAAAAAAAABzAAAAAAAAAAEAAAAAAAAAYQAAAAAAAABjAAAAAAAAAEEAAAAAAAAAmQAAAAAAAACTAAAAAAAAAIkAAAAAAAAAuwAAAAAAAACbAAAAAAAAAAEAAAAAAAAAYwAAAAAAAAAhAAAAAAAAAHMAAAAAAAAAuQAAAAAAAABDAAAAAAAAAAEAAAAAAAAAmQAAAAAAAABBAAAAAAAAAJEAAAAAAAAAqwAAAAAAAACDAAAAAAAAAHMAAAAAAAAAQwAAAAAAAABTAAAAAAAAAIMAAAAAAAAAmwAAAAAAAABjAAAAAAAAAIEAAAAAAAAAUQAAAAAAAACpAAAAAAAAAKEAAAAAAAABDwAAAAAAAAChAAAAAAAAAHMAAAAAAAAAQwAAAAAAAADNAAAAAAAAAEEAAAAAAAAA0QAAAAAAAABBAAAAAAAAAIkAAAAAAAAA0wAAAAAAAADRAAAAAAAAACMAAAAAAAAAUQAAAAAAAACbAAAAAAAAAEEAAAAAAAAAwQAAAAAAAACbAAAAAAAAAIMAAAAAAAABCwAAAAAAAAEpAAAAAAAAAKsAAAAAAAAAmQAAAAAAAACZAAAAAAAAAO8AAAAAAAAAAwAAAAAAAACJAAAAAAAAAOsAAAAAAAADwvw==",
          "dtype": "f8"
         },
         "yaxis": "y"
        }
       ],
       "layout": {
        "legend": {
         "tracegroupgap": 0
        },
        "template": {
         "data": {
          "bar": [
           {
            "error_x": {
             "color": "#2a3f5f"
            },
            "error_y": {
             "color": "#2a3f5f"
            },
            "marker": {
             "line": {
              "color": "#E5ECF6",
              "width": 0.5
             },
             "pattern": {
              "fillmode": "overlay",
              "size": 10,
              "solidity": 0.2
             }
            },
            "type": "bar"
           }
          ],
          "barpolar": [
           {
            "marker": {
             "line": {
              "color": "#E5ECF6",
              "width": 0.5
             },
             "pattern": {
              "fillmode": "overlay",
              "size": 10,
              "solidity": 0.2
             }
            },
            "type": "barpolar"
           }
          ],
          "carpet": [
           {
            "aaxis": {
             "endlinecolor": "#2a3f5f",
             "gridcolor": "white",
             "linecolor": "white",
             "minorgridcolor": "white",
             "startlinecolor": "#2a3f5f"
            },
            "baxis": {
             "endlinecolor": "#2a3f5f",
             "gridcolor": "white",
             "linecolor": "white",
             "minorgridcolor": "white",
             "startlinecolor": "#2a3f5f"
            },
            "type": "carpet"
           }
          ],
          "choropleth": [
           {
            "colorbar": {
             "outlinewidth": 0,
             "ticks": ""
            },
            "type": "choropleth"
           }
          ],
          "contour": [
           {
            "colorbar": {
             "outlinewidth": 0,
             "ticks": ""
            },
            "colorscale": [
             [
              0,
              "#0d0887"
             ],
             [
              0.1111111111111111,
              "#46039f"
             ],
             [
              0.2222222222222222,
              "#7201a8"
             ],
             [
              0.3333333333333333,
              "#9c179e"
             ],
             [
              0.4444444444444444,
              "#bd3786"
             ],
             [
              0.5555555555555556,
              "#d8576b"
             ],
             [
              0.6666666666666666,
              "#ed7953"
             ],
             [
              0.7777777777777778,
              "#fb9f3a"
             ],
             [
              0.8888888888888888,
              "#fdca26"
             ],
             [
              1,
              "#f0f921"
             ]
            ],
            "type": "contour"
           }
          ],
          "contourcarpet": [
           {
            "colorbar": {
             "outlinewidth": 0,
             "ticks": ""
            },
            "type": "contourcarpet"
           }
          ],
          "heatmap": [
           {
            "colorbar": {
             "outlinewidth": 0,
             "ticks": ""
            },
            "colorscale": [
             [
              0,
              "#0d0887"
             ],
             [
              0.1111111111111111,
              "#46039f"
             ],
             [
              0.2222222222222222,
              "#7201a8"
             ],
             [
              0.3333333333333333,
              "#9c179e"
             ],
             [
              0.4444444444444444,
              "#bd3786"
             ],
             [
              0.5555555555555556,
              "#d8576b"
             ],
             [
              0.6666666666666666,
              "#ed7953"
             ],
             [
              0.7777777777777778,
              "#fb9f3a"
             ],
             [
              0.8888888888888888,
              "#fdca26"
             ],
             [
              1,
              "#f0f921"
             ]
            ],
            "type": "heatmap"
           }
          ],
          "histogram": [
           {
            "marker": {
             "pattern": {
              "fillmode": "overlay",
              "size": 10,
              "solidity": 0.2
             }
            },
            "type": "histogram"
           }
          ],
          "histogram2d": [
           {
            "colorbar": {
             "outlinewidth": 0,
             "ticks": ""
            },
            "colorscale": [
             [
              0,
              "#0d0887"
             ],
             [
              0.1111111111111111,
              "#46039f"
             ],
             [
              0.2222222222222222,
              "#7201a8"
             ],
             [
              0.3333333333333333,
              "#9c179e"
             ],
             [
              0.4444444444444444,
              "#bd3786"
             ],
             [
              0.5555555555555556,
              "#d8576b"
             ],
             [
              0.6666666666666666,
              "#ed7953"
             ],
             [
              0.7777777777777778,
              "#fb9f3a"
             ],
             [
              0.8888888888888888,
              "#fdca26"
             ],
             [
              1,
              "#f0f921"
             ]
            ],
            "type": "histogram2d"
           }
          ],
          "histogram2dcontour": [
           {
            "colorbar": {
             "outlinewidth": 0,
             "ticks": ""
            },
            "colorscale": [
             [
              0,
              "#0d0887"
             ],
             [
              0.1111111111111111,
              "#46039f"
             ],
             [
              0.2222222222222222,
              "#7201a8"
             ],
             [
              0.3333333333333333,
              "#9c179e"
             ],
             [
              0.4444444444444444,
              "#bd3786"
             ],
             [
              0.5555555555555556,
              "#d8576b"
             ],
             [
              0.6666666666666666,
              "#ed7953"
             ],
             [
              0.7777777777777778,
              "#fb9f3a"
             ],
             [
              0.8888888888888888,
              "#fdca26"
             ],
             [
              1,
              "#f0f921"
             ]
            ],
            "type": "histogram2dcontour"
           }
          ],
          "mesh3d": [
           {
            "colorbar": {
             "outlinewidth": 0,
             "ticks": ""
            },
            "type": "mesh3d"
           }
          ],
          "parcoords": [
           {
            "line": {
             "colorbar": {
              "outlinewidth": 0,
              "ticks": ""
             }
            },
            "type": "parcoords"
           }
          ],
          "pie": [
           {
            "automargin": true,
            "type": "pie"
           }
          ],
          "scatter": [
           {
            "fillpattern": {
             "fillmode": "overlay",
             "size": 10,
             "solidity": 0.2
            },
            "type": "scatter"
           }
          ],
          "scatter3d": [
           {
            "line": {
             "colorbar": {
              "outlinewidth": 0,
              "ticks": ""
             }
            },
            "marker": {
             "colorbar": {
              "outlinewidth": 0,
              "ticks": ""
             }
            },
            "type": "scatter3d"
           }
          ],
          "scattercarpet": [
           {
            "marker": {
             "colorbar": {
              "outlinewidth": 0,
              "ticks": ""
             }
            },
            "type": "scattercarpet"
           }
          ],
          "scattergeo": [
           {
            "marker": {
             "colorbar": {
              "outlinewidth": 0,
              "ticks": ""
             }
            },
            "type": "scattergeo"
           }
          ],
          "scattergl": [
           {
            "marker": {
             "colorbar": {
              "outlinewidth": 0,
              "ticks": ""
             }
            },
            "type": "scattergl"
           }
          ],
          "scattermap": [
           {
            "marker": {
             "colorbar": {
              "outlinewidth": 0,
              "ticks": ""
             }
            },
            "type": "scattermap"
           }
          ],
          "scattermapbox": [
           {
            "marker": {
             "colorbar": {
              "outlinewidth": 0,
              "ticks": ""
             }
            },
            "type": "scattermapbox"
           }
          ],
          "scatterpolar": [
           {
            "marker": {
             "colorbar": {
              "outlinewidth": 0,
              "ticks": ""
             }
            },
            "type": "scatterpolar"
           }
          ],
          "scatterpolargl": [
           {
            "marker": {
             "colorbar": {
              "outlinewidth": 0,
              "ticks": ""
             }
            },
            "type": "scatterpolargl"
           }
          ],
          "scatterternary": [
           {
            "marker": {
             "colorbar": {
              "outlinewidth": 0,
              "ticks": ""
             }
            },
            "type": "scatterternary"
           }
          ],
          "surface": [
           {
            "colorbar": {
             "outlinewidth": 0,
             "ticks": ""
            },
            "colorscale": [
             [
              0,
              "#0d0887"
             ],
             [
              0.1111111111111111,
              "#46039f"
             ],
             [
              0.2222222222222222,
              "#7201a8"
             ],
             [
              0.3333333333333333,
              "#9c179e"
             ],
             [
              0.4444444444444444,
              "#bd3786"
             ],
             [
              0.5555555555555556,
              "#d8576b"
             ],
             [
              0.6666666666666666,
              "#ed7953"
             ],
             [
              0.7777777777777778,
              "#fb9f3a"
             ],
             [
              0.8888888888888888,
              "#fdca26"
             ],
             [
              1,
              "#f0f921"
             ]
            ],
            "type": "surface"
           }
          ],
          "table": [
           {
            "cells": {
             "fill": {
              "color": "#EBF0F8"
             },
             "line": {
              "color": "white"
             }
            },
            "header": {
             "fill": {
              "color": "#C8D4E3"
             },
             "line": {
              "color": "white"
             }
            },
            "type": "table"
           }
          ]
         },
         "layout": {
          "annotationdefaults": {
           "arrowcolor": "#2a3f5f",
           "arrowhead": 0,
           "arrowwidth": 1
          },
          "autotypenumbers": "strict",
          "coloraxis": {
           "colorbar": {
            "outlinewidth": 0,
            "ticks": ""
           }
          },
          "colorscale": {
           "diverging": [
            [
             0,
             "#8e0152"
            ],
            [
             0.1,
             "#c51b7d"
            ],
            [
             0.2,
             "#de77ae"
            ],
            [
             0.3,
             "#f1b6da"
            ],
            [
             0.4,
             "#fde0ef"
            ],
            [
             0.5,
             "#f7f7f7"
            ],
            [
             0.6,
             "#e6f5d0"
            ],
            [
             0.7,
             "#b8e186"
            ],
            [
             0.8,
             "#7fbc41"
            ],
            [
             0.9,
             "#4d9221"
            ],
            [
             1,
             "#276419"
            ]
           ],
           "sequential": [
            [
             0,
             "#0d0887"
            ],
            [
             0.1111111111111111,
             "#46039f"
            ],
            [
             0.2222222222222222,
             "#7201a8"
            ],
            [
             0.3333333333333333,
             "#9c179e"
            ],
            [
             0.4444444444444444,
             "#bd3786"
            ],
            [
             0.5555555555555556,
             "#d8576b"
            ],
            [
             0.6666666666666666,
             "#ed7953"
            ],
            [
             0.7777777777777778,
             "#fb9f3a"
            ],
            [
             0.8888888888888888,
             "#fdca26"
            ],
            [
             1,
             "#f0f921"
            ]
           ],
           "sequentialminus": [
            [
             0,
             "#0d0887"
            ],
            [
             0.1111111111111111,
             "#46039f"
            ],
            [
             0.2222222222222222,
             "#7201a8"
            ],
            [
             0.3333333333333333,
             "#9c179e"
            ],
            [
             0.4444444444444444,
             "#bd3786"
            ],
            [
             0.5555555555555556,
             "#d8576b"
            ],
            [
             0.6666666666666666,
             "#ed7953"
            ],
            [
             0.7777777777777778,
             "#fb9f3a"
            ],
            [
             0.8888888888888888,
             "#fdca26"
            ],
            [
             1,
             "#f0f921"
            ]
           ]
          },
          "colorway": [
           "#636efa",
           "#EF553B",
           "#00cc96",
           "#ab63fa",
           "#FFA15A",
           "#19d3f3",
           "#FF6692",
           "#B6E880",
           "#FF97FF",
           "#FECB52"
          ],
          "font": {
           "color": "#2a3f5f"
          },
          "geo": {
           "bgcolor": "white",
           "lakecolor": "white",
           "landcolor": "#E5ECF6",
           "showlakes": true,
           "showland": true,
           "subunitcolor": "white"
          },
          "hoverlabel": {
           "align": "left"
          },
          "hovermode": "closest",
          "mapbox": {
           "style": "light"
          },
          "paper_bgcolor": "white",
          "plot_bgcolor": "#E5ECF6",
          "polar": {
           "angularaxis": {
            "gridcolor": "white",
            "linecolor": "white",
            "ticks": ""
           },
           "bgcolor": "#E5ECF6",
           "radialaxis": {
            "gridcolor": "white",
            "linecolor": "white",
            "ticks": ""
           }
          },
          "scene": {
           "xaxis": {
            "backgroundcolor": "#E5ECF6",
            "gridcolor": "white",
            "gridwidth": 2,
            "linecolor": "white",
            "showbackground": true,
            "ticks": "",
            "zerolinecolor": "white"
           },
           "yaxis": {
            "backgroundcolor": "#E5ECF6",
            "gridcolor": "white",
            "gridwidth": 2,
            "linecolor": "white",
            "showbackground": true,
            "ticks": "",
            "zerolinecolor": "white"
           },
           "zaxis": {
            "backgroundcolor": "#E5ECF6",
            "gridcolor": "white",
            "gridwidth": 2,
            "linecolor": "white",
            "showbackground": true,
            "ticks": "",
            "zerolinecolor": "white"
           }
          },
          "shapedefaults": {
           "line": {
            "color": "#2a3f5f"
           }
          },
          "ternary": {
           "aaxis": {
            "gridcolor": "white",
            "linecolor": "white",
            "ticks": ""
           },
           "baxis": {
            "gridcolor": "white",
            "linecolor": "white",
            "ticks": ""
           },
           "bgcolor": "#E5ECF6",
           "caxis": {
            "gridcolor": "white",
            "linecolor": "white",
            "ticks": ""
           }
          },
          "title": {
           "x": 0.05
          },
          "xaxis": {
           "automargin": true,
           "gridcolor": "white",
           "linecolor": "white",
           "ticks": "",
           "title": {
            "standoff": 15
           },
           "zerolinecolor": "white",
           "zerolinewidth": 2
          },
          "yaxis": {
           "automargin": true,
           "gridcolor": "white",
           "linecolor": "white",
           "ticks": "",
           "title": {
            "standoff": 15
           },
           "zerolinecolor": "white",
           "zerolinewidth": 2
          }
         }
        },
        "title": {
         "text": "Zeitreihe nach Trend- und Saisonbereinigung",
         "x": 0.5
        },
        "xaxis": {
         "anchor": "y",
         "domain": [
          0,
          1
         ],
         "title": {
          "text": "Datum"
         }
        },
        "yaxis": {
         "anchor": "x",
         "domain": [
          0,
          1
         ],
         "title": {
          "text": "Saisonale Differenz"
         }
        }
       }
      }
     },
     "metadata": {},
     "output_type": "display_data"
    },
    {
     "name": "stdout",
     "output_type": "stream",
     "text": [
      "Finaler ADF-Test nach Saisonbereinigung:\n",
      "p-Wert: 0.000000\n"
     ]
    }
   ],
   "source": [
    "df['Saison_bereinigt'] = df['Trend_bereinigt'].diff(12)\n",
    "\n",
    "fig = px.line(\n",
    "    df.dropna(), \n",
    "    y='Saison_bereinigt', \n",
    "    title='Zeitreihe nach Trend- und Saisonbereinigung',\n",
    "    labels={'Month': 'Datum', 'Saison_bereinigt': 'Saisonale Differenz'}\n",
    ")\n",
    "fig.update_layout(title_x=0.5)\n",
    "fig.show()\n",
    "\n",
    "# --- Finaler ADF-Test ---\n",
    "adf_result_final = adfuller(df['Saison_bereinigt'].dropna())\n",
    "print(f\"Finaler ADF-Test nach Saisonbereinigung:\")\n",
    "print('p-Wert: %f' % adf_result_final[1])"
   ]
  },
  {
   "cell_type": "markdown",
   "metadata": {},
   "source": [
    " Der Plot sieht nun aus wie zufälliges Rauschen ohne erkennbare Muster. Der p-Wert des ADF-Tests ist jetzt extrem klein (deutlich unter 0.05). Wir können die Nullhypothese mit großer Sicherheit verwerfen und annehmen, dass unsere transformierte Zeitreihe **stationär** ist.\n",
    " ___"
   ]
  },
  {
   "cell_type": "markdown",
   "metadata": {},
   "source": [
    "**Dekomposition durch Modellierung (wie in der Vorlesung)**\n",
    "\n",
    "Schritt A: Trendbereinigung durch lineare Regression\n",
    "Wir fitten eine Gerade durch die Datenpunkte und ziehen diese Trendlinie von den Originaldaten ab."
   ]
  },
  {
   "cell_type": "code",
   "execution_count": 20,
   "metadata": {},
   "outputs": [
    {
     "data": {
      "text/plain": [
       "Text(0, 0.5, 'x_t')"
      ]
     },
     "execution_count": 20,
     "metadata": {},
     "output_type": "execute_result"
    },
    {
     "data": {
      "image/png": "[encoded data removed]",
      "text/plain": [
       "<Figure size 640x480 with 1 Axes>"
      ]
     },
     "metadata": {},
     "output_type": "display_data"
    }
   ],
   "source": [
    "df['Umsatz_t-1'] = df['Umsatz'].shift(1)\n",
    "df['Umsatz_t-2'] = df['Umsatz'].shift(2)\n",
    "\n",
    "plt.scatter(df['Umsatz_t-1'],df.Umsatz,marker='.',c=df.index)\n",
    "plt.xlabel('x_(t-1)')\n",
    "plt.ylabel('x_t')"
   ]
  },
  {
   "cell_type": "code",
   "execution_count": 21,
   "metadata": {},
   "outputs": [
    {
     "data": {
      "text/html": [
       "<div>\n",
       "<style scoped>\n",
       "    .dataframe tbody tr th:only-of-type {\n",
       "        vertical-align: middle;\n",
       "    }\n",
       "\n",
       "    .dataframe tbody tr th {\n",
       "        vertical-align: top;\n",
       "    }\n",
       "\n",
       "    .dataframe thead th {\n",
       "        text-align: right;\n",
       "    }\n",
       "</style>\n",
       "<table border=\"1\" class=\"dataframe\">\n",
       "  <thead>\n",
       "    <tr style=\"text-align: right;\">\n",
       "      <th></th>\n",
       "      <th>Umsatz</th>\n",
       "      <th>Umsatz_t-1</th>\n",
       "    </tr>\n",
       "  </thead>\n",
       "  <tbody>\n",
       "    <tr>\n",
       "      <th>Umsatz</th>\n",
       "      <td>1.000000</td>\n",
       "      <td>0.960195</td>\n",
       "    </tr>\n",
       "    <tr>\n",
       "      <th>Umsatz_t-1</th>\n",
       "      <td>0.960195</td>\n",
       "      <td>1.000000</td>\n",
       "    </tr>\n",
       "  </tbody>\n",
       "</table>\n",
       "</div>"
      ],
      "text/plain": [
       "              Umsatz  Umsatz_t-1\n",
       "Umsatz      1.000000    0.960195\n",
       "Umsatz_t-1  0.960195    1.000000"
      ]
     },
     "execution_count": 21,
     "metadata": {},
     "output_type": "execute_result"
    }
   ],
   "source": [
    "df[['Umsatz','Umsatz_t-1']].corr()"
   ]
  },
  {
   "cell_type": "code",
   "execution_count": 23,
   "metadata": {},
   "outputs": [
    {
     "data": {
      "image/png": "[encoded data removed]",
      "text/plain": [
       "<Figure size 1500x600 with 1 Axes>"
      ]
     },
     "metadata": {},
     "output_type": "display_data"
    },
    {
     "data": {
      "text/html": [
       "<div>\n",
       "<style scoped>\n",
       "    .dataframe tbody tr th:only-of-type {\n",
       "        vertical-align: middle;\n",
       "    }\n",
       "\n",
       "    .dataframe tbody tr th {\n",
       "        vertical-align: top;\n",
       "    }\n",
       "\n",
       "    .dataframe thead th {\n",
       "        text-align: right;\n",
       "    }\n",
       "</style>\n",
       "<table border=\"1\" class=\"dataframe\">\n",
       "  <thead>\n",
       "    <tr style=\"text-align: right;\">\n",
       "      <th></th>\n",
       "      <th>U_trendbereinigt</th>\n",
       "      <th>Umsatz_bereinigt_t-1</th>\n",
       "    </tr>\n",
       "  </thead>\n",
       "  <tbody>\n",
       "    <tr>\n",
       "      <th>U_trendbereinigt</th>\n",
       "      <td>1.000000</td>\n",
       "      <td>0.730574</td>\n",
       "    </tr>\n",
       "    <tr>\n",
       "      <th>Umsatz_bereinigt_t-1</th>\n",
       "      <td>0.730574</td>\n",
       "      <td>1.000000</td>\n",
       "    </tr>\n",
       "  </tbody>\n",
       "</table>\n",
       "</div>"
      ],
      "text/plain": [
       "                      U_trendbereinigt  Umsatz_bereinigt_t-1\n",
       "U_trendbereinigt              1.000000              0.730574\n",
       "Umsatz_bereinigt_t-1          0.730574              1.000000"
      ]
     },
     "execution_count": 23,
     "metadata": {},
     "output_type": "execute_result"
    },
    {
     "data": {
      "image/png": "[encoded data removed]",
      "text/plain": [
       "<Figure size 640x480 with 1 Axes>"
      ]
     },
     "metadata": {},
     "output_type": "display_data"
    }
   ],
   "source": [
    "X = sm.add_constant(df['t'])\n",
    "y = df['Umsatz']\n",
    "\n",
    "model = sm.OLS(y, X).fit()\n",
    "\n",
    "df['trend_modelliert'] = model.predict(X)\n",
    "\n",
    "df['U_trendbereinigt'] = df['Umsatz'] - df['trend_modelliert']\n",
    "\n",
    "plt.figure(figsize=(15,6))\n",
    "plt.plot(df['t'], df['Umsatz'], label='Originaler Umsatz')\n",
    "plt.plot(df['t'], df['trend_modelliert'], label='Modellierter Trend', linestyle='--')\n",
    "plt.plot(df['t'], df['U_trendbereinigt'], label='Umsatz trendbereinigt', alpha=0.7)\n",
    "plt.title('Ansatz 2: Trendbereinigung durch Regression')\n",
    "plt.xlabel('Zeit')\n",
    "plt.ylabel('Umsatz')\n",
    "plt.legend()\n",
    "plt.show()\n",
    "\n",
    "df['Umsatz_bereinigt_t-1'] = df['U_trendbereinigt'].shift(1)\n",
    "plt.scatter(df['Umsatz_bereinigt_t-1'], df['U_trendbereinigt'], marker='.', c=df.index)\n",
    "\n",
    "df[['U_trendbereinigt','Umsatz_bereinigt_t-1']].corr()"
   ]
  },
  {
   "cell_type": "markdown",
   "metadata": {},
   "source": [
    "Schritt B: Saisonbereinigung durch Abzug des Monatsmittels\n",
    "\n",
    "Nun nehmen wir die trendbereinigte Zeitreihe und entfernen die verbleibende Periodizität, indem wir für jeden Monat seinen durchschnittlichen Effekt berechnen und abziehen."
   ]
  },
  {
   "cell_type": "code",
   "execution_count": 25,
   "metadata": {},
   "outputs": [
    {
     "data": {
      "image/png": "[encoded data removed]",
      "text/plain": [
       "<Figure size 1000x500 with 1 Axes>"
      ]
     },
     "metadata": {},
     "output_type": "display_data"
    },
    {
     "data": {
      "image/png": "[encoded data removed]",
      "text/plain": [
       "<Figure size 1500x600 with 1 Axes>"
      ]
     },
     "metadata": {},
     "output_type": "display_data"
    },
    {
     "name": "stdout",
     "output_type": "stream",
     "text": [
      "                       U_final_bereinigt  U_final_bereinigt_t-1\n",
      "U_final_bereinigt               1.000000               0.772398\n",
      "U_final_bereinigt_t-1           0.772398               1.000000\n",
      "\n",
      "ADF-Test nach Dekomposition:\n",
      "p-Wert: 0.271611\n"
     ]
    },
    {
     "data": {
      "image/png": "[encoded data removed]",
      "text/plain": [
       "<Figure size 640x480 with 1 Axes>"
      ]
     },
     "metadata": {},
     "output_type": "display_data"
    }
   ],
   "source": [
    "# --- Schritt 5: Saisonale Komponente schätzen und entfernen ---\n",
    "\n",
    "month_averages = df.groupby('Monat')['U_trendbereinigt'].mean()\n",
    "month_averages.rename(\"saison_modelliert\", inplace=True)\n",
    "\n",
    "# Visualisierung der saisonalen Komponente\n",
    "month_averages.plot(kind='bar', figsize=(10,5))\n",
    "plt.title('Modellierte saisonale Komponente (Durchschnittlicher Effekt pro Monat)')\n",
    "plt.ylabel('Abweichung vom Trend')\n",
    "plt.show()\n",
    "\n",
    "# Die Monatsdurchschnitte wieder mit dem Haupt-DataFrame verbinden\n",
    "#df = df.join(month_averages, on='Monat')\n",
    "\n",
    "# Saisonale Komponente von der trendbereinigten Reihe abziehen\n",
    "df['U_final_bereinigt'] = df['U_trendbereinigt'] - df['saison_modelliert']\n",
    "\n",
    "# Visualisierung der finalen Zeitreihe\n",
    "plt.figure(figsize=(15,6))\n",
    "plt.plot(df['t'], df['U_trendbereinigt'], label='Trend bereinigter Umsatz')\n",
    "plt.plot(df['t'], df['U_final_bereinigt'], label='Final bereinigter Umsatz')\n",
    "plt.title('Ansatz 2: Zeitreihe nach Trend- und Saisonbereinigung')\n",
    "plt.xlabel('Zeit')\n",
    "plt.ylabel('Residuum')\n",
    "plt.legend()\n",
    "plt.show()\n",
    "\n",
    "df['U_final_bereinigt_t-1'] = df['U_final_bereinigt'].shift(1)\n",
    "plt.scatter(df['U_final_bereinigt_t-1'], df['U_final_bereinigt'], marker='.', c=df.index)\n",
    "print(df[['U_final_bereinigt', 'U_final_bereinigt_t-1']].corr())\n",
    "\n",
    "# --- Schritt 6: Finaler ADF-Test für Ansatz 2 ---\n",
    "adf_result_dekomp = adfuller(df['U_final_bereinigt'].dropna())\n",
    "print(f\"\\nADF-Test nach Dekomposition:\")\n",
    "print('p-Wert: %f' % adf_result_dekomp[1])"
   ]
  },
  {
   "cell_type": "markdown",
   "metadata": {},
   "source": [
    "___\n",
    "**3. Varianz-Dekomposition (Analyse aus der Vorlesung)**\n",
    "\n",
    "Ein großer Vorteil von Ansatz 2 ist, dass wir die expliziten Komponenten (Trend, Saison) haben. Wir können nun analysieren, wie viel der Gesamt-Schwankung (Varianz) auf die einzelnen Komponenten zurückzuführen ist."
   ]
  },
  {
   "cell_type": "code",
   "execution_count": null,
   "metadata": {},
   "outputs": [
    {
     "ename": "NameError",
     "evalue": "name 'df' is not defined",
     "output_type": "error",
     "traceback": [
      "\u001b[31m---------------------------------------------------------------------------\u001b[39m",
      "\u001b[31mNameError\u001b[39m                                 Traceback (most recent call last)",
      "\u001b[36mCell\u001b[39m\u001b[36m \u001b[39m\u001b[32mIn[1]\u001b[39m\u001b[32m, line 4\u001b[39m\n\u001b[32m      1\u001b[39m \u001b[38;5;66;03m# --- Schritt 7: Varianz der Komponenten berechnen ---\u001b[39;00m\n\u001b[32m      2\u001b[39m \n\u001b[32m      3\u001b[39m \u001b[38;5;66;03m# Varianzen der einzelnen Zeitreihen berechnen\u001b[39;00m\n\u001b[32m----> \u001b[39m\u001b[32m4\u001b[39m varianzen = \u001b[43mdf\u001b[49m[[\u001b[33m'\u001b[39m\u001b[33mUmsatz\u001b[39m\u001b[33m'\u001b[39m,\u001b[33m'\u001b[39m\u001b[33mtrend_modelliert\u001b[39m\u001b[33m'\u001b[39m,\u001b[33m'\u001b[39m\u001b[33mU_final_bereinigt\u001b[39m\u001b[33m'\u001b[39m]].var()\n\u001b[32m      5\u001b[39m \u001b[38;5;66;03m# Varianz der saisonalen Komponente hinzufügen\u001b[39;00m\n\u001b[32m      6\u001b[39m varianzen[\u001b[33m'\u001b[39m\u001b[33msaison_modelliert\u001b[39m\u001b[33m'\u001b[39m] = df[\u001b[33m'\u001b[39m\u001b[33msaison_modelliert\u001b[39m\u001b[33m'\u001b[39m].var()\n",
      "\u001b[31mNameError\u001b[39m: name 'df' is not defined"
     ]
    }
   ],
   "source": [
    "# --- Schritt 7: Varianz der Komponenten berechnen ---\n",
    "\n",
    "# Varianzen der einzelnen Zeitreihen berechnen\n",
    "varianzen = df[['Umsatz','trend_modelliert','U_final_bereinigt']].var()\n",
    "# Varianz der saisonalen Komponente hinzufügen\n",
    "varianzen['saison_modelliert'] = df['saison_modelliert'].var()\n",
    "\n",
    "\n",
    "# Anteile an der Gesamtvarianz berechnen\n",
    "varianz_anteile = varianzen / varianzen['Umsatz']\n",
    "\n",
    "# Ergebnisse ausgeben\n",
    "print(\"Analyse der Varianzanteile:\")\n",
    "print(varianz_anteile)\n",
    "\n",
    "print(\"\\nVon der Gesamtvarianz der Zeitreihe werden %2.1f%% durch den Trend erklärt, %2.1f%% durch die Saisonalität und %2.1f%% sind andere, unregelmäßige Schwankungen.\" %\n",
    "    (100.0 * varianz_anteile.trend_modelliert,\n",
    "     100.0 * varianz_anteile.saison_modelliert,\n",
    "     100.0 * varianz_anteile.U_final_bereinigt))"
   ]
  }
 ],
 "metadata": {
  "kernelspec": {
   "display_name": "dabi2-test",
   "language": "python",
   "name": "dabi2-test"
  },
  "language_info": {
   "codemirror_mode": {
    "name": "ipython",
    "version": 3
   },
   "file_extension": ".py",
   "mimetype": "text/x-python",
   "name": "python",
   "nbconvert_exporter": "python",
   "pygments_lexer": "ipython3",
   "version": "3.12.9"
  }
 },
 "nbformat": 4,
 "nbformat_minor": 2
}
